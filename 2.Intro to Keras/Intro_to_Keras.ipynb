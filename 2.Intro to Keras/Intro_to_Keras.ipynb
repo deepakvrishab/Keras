{
  "nbformat": 4,
  "nbformat_minor": 0,
  "metadata": {
    "colab": {
      "name": "Intro_to_Keras.ipynb",
      "provenance": [],
      "collapsed_sections": []
    },
    "kernelspec": {
      "name": "python3",
      "display_name": "Python 3"
    }
  },
  "cells": [
    {
      "cell_type": "markdown",
      "metadata": {
        "id": "9U5g_v2rr3qJ",
        "colab_type": "text"
      },
      "source": [
        "#### Import Tensorflow 2\n"
      ]
    },
    {
      "cell_type": "code",
      "metadata": {
        "id": "6EwFirZBqkog",
        "colab_type": "code",
        "colab": {
          "base_uri": "https://localhost:8080/",
          "height": 35
        },
        "outputId": "22183631-b3d8-431c-9fb1-6416496b6be8"
      },
      "source": [
        "import tensorflow as tf\n",
        "tf.__version__"
      ],
      "execution_count": 2,
      "outputs": [
        {
          "output_type": "execute_result",
          "data": {
            "application/vnd.google.colaboratory.intrinsic": {
              "type": "string"
            },
            "text/plain": [
              "'2.2.0'"
            ]
          },
          "metadata": {
            "tags": []
          },
          "execution_count": 2
        }
      ]
    },
    {
      "cell_type": "code",
      "metadata": {
        "id": "mfL1R0RXqsKG",
        "colab_type": "code",
        "colab": {
          "base_uri": "https://localhost:8080/",
          "height": 35
        },
        "outputId": "a48ef01c-dd91-4a70-fc35-4020e652173f"
      },
      "source": [
        "## check keras version\n",
        "tf.keras.__version__"
      ],
      "execution_count": 3,
      "outputs": [
        {
          "output_type": "execute_result",
          "data": {
            "application/vnd.google.colaboratory.intrinsic": {
              "type": "string"
            },
            "text/plain": [
              "'2.3.0-tf'"
            ]
          },
          "metadata": {
            "tags": []
          },
          "execution_count": 3
        }
      ]
    },
    {
      "cell_type": "markdown",
      "metadata": {
        "id": "k7VUvixrsZXw",
        "colab_type": "text"
      },
      "source": [
        "### **Lets check out Keras**\n",
        "\n",
        "Some of the key components of Keras API -- \n",
        "\n",
        "\n",
        "\n",
        "*   Models (tf.keras.models)\n",
        "*   Layers (tf.keras.layers)\n",
        "*   Data Preprocessing (tf.keras.preprocessing)\n",
        "*   Metrics\n",
        "*   Optimizers\n",
        "*   Losses\n",
        "*   Datasets\n",
        "*   Callbacks\n",
        "*   Applications\n",
        "*   Utilities\n",
        "\n",
        "Checkout the **Standalone (old)** Keras API details here --- \n",
        "https://keras.io/api/\n",
        "\n",
        "Checkout the **Tensorflow 2 Keras API** here ---\n",
        "https://www.tensorflow.org/api_docs/python/tf/keras\n",
        "\n",
        ">### ***We will be working with the Tensorflow 2 Keras API throughout the course***\n",
        "\n",
        "\n"
      ]
    },
    {
      "cell_type": "code",
      "metadata": {
        "id": "e70waKiyrK3n",
        "colab_type": "code",
        "colab": {
          "base_uri": "https://localhost:8080/",
          "height": 416
        },
        "outputId": "d5a2ba06-656a-42b7-d3f8-324abf0964e6"
      },
      "source": [
        "## Lets open up Keras\n",
        "\n",
        "for i in dir(tf.keras):\n",
        "  if \"__\" not in i:\n",
        "    print(i)"
      ],
      "execution_count": null,
      "outputs": [
        {
          "output_type": "stream",
          "text": [
            "Input\n",
            "Model\n",
            "Sequential\n",
            "_sys\n",
            "activations\n",
            "applications\n",
            "backend\n",
            "callbacks\n",
            "constraints\n",
            "datasets\n",
            "estimator\n",
            "experimental\n",
            "initializers\n",
            "layers\n",
            "losses\n",
            "metrics\n",
            "mixed_precision\n",
            "models\n",
            "optimizers\n",
            "preprocessing\n",
            "regularizers\n",
            "utils\n",
            "wrappers\n"
          ],
          "name": "stdout"
        }
      ]
    },
    {
      "cell_type": "markdown",
      "metadata": {
        "id": "95VIRvN3-p-6",
        "colab_type": "text"
      },
      "source": [
        "### **Building the Neural Network (model) with Keras**\n",
        "\n",
        "Keras provide two ways to start building a Neural Network model:\n",
        "- Sequential\n",
        "```python\n",
        "tf.keras.Sequential(layers=None, name=None)\n",
        "```\n",
        "- Functional\n",
        "```py\n",
        "tf.keras.Model(inputs=inputs, outputs=outputs)\n",
        "```\n"
      ]
    },
    {
      "cell_type": "code",
      "metadata": {
        "id": "QC1V9cHcsfgs",
        "colab_type": "code",
        "colab": {
          "base_uri": "https://localhost:8080/",
          "height": 173
        },
        "outputId": "81411a06-8ee4-4c4c-db9b-77e834681e7c"
      },
      "source": [
        "## Lets open up Keras Models API\n",
        "\n",
        "for i in dir(tf.keras.models):\n",
        "  if \"__\" not in i:\n",
        "    print(i)"
      ],
      "execution_count": null,
      "outputs": [
        {
          "output_type": "stream",
          "text": [
            "Model\n",
            "Sequential\n",
            "_sys\n",
            "clone_model\n",
            "load_model\n",
            "model_from_config\n",
            "model_from_json\n",
            "model_from_yaml\n",
            "save_model\n"
          ],
          "name": "stdout"
        }
      ]
    },
    {
      "cell_type": "markdown",
      "metadata": {
        "id": "AZVDnSuGDjQU",
        "colab_type": "text"
      },
      "source": [
        "####**Lets start with the Sequential API** "
      ]
    },
    {
      "cell_type": "code",
      "metadata": {
        "id": "g_Vg9uIbBtTi",
        "colab_type": "code",
        "colab": {}
      },
      "source": [
        "## import the Sequential class\n",
        "\n",
        "from tensorflow.keras.models import Sequential"
      ],
      "execution_count": null,
      "outputs": []
    },
    {
      "cell_type": "code",
      "metadata": {
        "id": "MGwIKPhcEJ7F",
        "colab_type": "code",
        "colab": {}
      },
      "source": [
        "## create an instance of the Sequential model class\n",
        "\n",
        "model = Sequential()"
      ],
      "execution_count": null,
      "outputs": []
    },
    {
      "cell_type": "code",
      "metadata": {
        "id": "3rHg92xnEWd5",
        "colab_type": "code",
        "colab": {
          "base_uri": "https://localhost:8080/",
          "height": 1000
        },
        "outputId": "e699a36a-485d-4f58-c07e-59e1f3bc37c8"
      },
      "source": [
        "## Lets check out the in-built functions in the Sequential model\n",
        "\n",
        "for i in dir(model):\n",
        "  if not i.startswith(\"_\"):\n",
        "    print(i)"
      ],
      "execution_count": null,
      "outputs": [
        {
          "output_type": "stream",
          "text": [
            "activity_regularizer\n",
            "add\n",
            "add_loss\n",
            "add_metric\n",
            "add_update\n",
            "add_variable\n",
            "add_weight\n",
            "apply\n",
            "build\n",
            "built\n",
            "call\n",
            "compile\n",
            "compiled_loss\n",
            "compiled_metrics\n",
            "compute_mask\n",
            "compute_output_shape\n",
            "compute_output_signature\n",
            "count_params\n",
            "distribute_strategy\n",
            "dtype\n",
            "dynamic\n",
            "evaluate\n",
            "evaluate_generator\n",
            "fit\n",
            "fit_generator\n",
            "from_config\n",
            "get_config\n",
            "get_input_at\n",
            "get_input_mask_at\n",
            "get_input_shape_at\n",
            "get_layer\n",
            "get_losses_for\n",
            "get_output_at\n",
            "get_output_mask_at\n",
            "get_output_shape_at\n",
            "get_updates_for\n",
            "get_weights\n",
            "history\n",
            "inbound_nodes\n",
            "input\n",
            "input_mask\n",
            "input_names\n",
            "input_shape\n",
            "input_spec\n",
            "inputs\n",
            "layers\n",
            "load_weights\n",
            "losses\n",
            "make_predict_function\n",
            "make_test_function\n",
            "make_train_function\n",
            "metrics\n",
            "metrics_names\n",
            "name\n",
            "name_scope\n",
            "non_trainable_variables\n",
            "non_trainable_weights\n",
            "optimizer\n",
            "outbound_nodes\n",
            "output\n",
            "output_mask\n",
            "output_names\n",
            "output_shape\n",
            "outputs\n",
            "pop\n",
            "predict\n",
            "predict_classes\n",
            "predict_function\n",
            "predict_generator\n",
            "predict_on_batch\n",
            "predict_proba\n",
            "predict_step\n",
            "reset_metrics\n",
            "reset_states\n",
            "run_eagerly\n",
            "save\n",
            "save_weights\n",
            "set_weights\n",
            "state_updates\n",
            "stateful\n",
            "stop_training\n",
            "submodules\n",
            "summary\n",
            "supports_masking\n",
            "test_function\n",
            "test_on_batch\n",
            "test_step\n",
            "to_json\n",
            "to_yaml\n",
            "train_function\n",
            "train_on_batch\n",
            "train_step\n",
            "trainable\n",
            "trainable_variables\n",
            "trainable_weights\n",
            "updates\n",
            "variables\n",
            "weights\n",
            "with_name_scope\n"
          ],
          "name": "stdout"
        }
      ]
    },
    {
      "cell_type": "markdown",
      "metadata": {
        "id": "phTfGBjYGQB3",
        "colab_type": "text"
      },
      "source": [
        "#### **Adding Layers to the Sequential model with the Layers API**\n",
        "\n",
        "> ```python\n",
        "tf.keras.layers\n",
        "```"
      ]
    },
    {
      "cell_type": "code",
      "metadata": {
        "id": "M54S31pBE7pz",
        "colab_type": "code",
        "colab": {
          "base_uri": "https://localhost:8080/",
          "height": 1000
        },
        "outputId": "ea0968a5-0081-4ffc-e816-6dfd9047a25f"
      },
      "source": [
        "## Lets checkout the layers API first\n",
        "\n",
        "for i in dir(tf.keras.layers):\n",
        "  if not i.startswith(\"_\"):\n",
        "    print(i)"
      ],
      "execution_count": null,
      "outputs": [
        {
          "output_type": "stream",
          "text": [
            "AbstractRNNCell\n",
            "Activation\n",
            "ActivityRegularization\n",
            "Add\n",
            "AdditiveAttention\n",
            "AlphaDropout\n",
            "Attention\n",
            "Average\n",
            "AveragePooling1D\n",
            "AveragePooling2D\n",
            "AveragePooling3D\n",
            "AvgPool1D\n",
            "AvgPool2D\n",
            "AvgPool3D\n",
            "BatchNormalization\n",
            "Bidirectional\n",
            "Concatenate\n",
            "Conv1D\n",
            "Conv2D\n",
            "Conv2DTranspose\n",
            "Conv3D\n",
            "Conv3DTranspose\n",
            "ConvLSTM2D\n",
            "Convolution1D\n",
            "Convolution2D\n",
            "Convolution2DTranspose\n",
            "Convolution3D\n",
            "Convolution3DTranspose\n",
            "Cropping1D\n",
            "Cropping2D\n",
            "Cropping3D\n",
            "Dense\n",
            "DenseFeatures\n",
            "DepthwiseConv2D\n",
            "Dot\n",
            "Dropout\n",
            "ELU\n",
            "Embedding\n",
            "Flatten\n",
            "GRU\n",
            "GRUCell\n",
            "GaussianDropout\n",
            "GaussianNoise\n",
            "GlobalAveragePooling1D\n",
            "GlobalAveragePooling2D\n",
            "GlobalAveragePooling3D\n",
            "GlobalAvgPool1D\n",
            "GlobalAvgPool2D\n",
            "GlobalAvgPool3D\n",
            "GlobalMaxPool1D\n",
            "GlobalMaxPool2D\n",
            "GlobalMaxPool3D\n",
            "GlobalMaxPooling1D\n",
            "GlobalMaxPooling2D\n",
            "GlobalMaxPooling3D\n",
            "Input\n",
            "InputLayer\n",
            "InputSpec\n",
            "LSTM\n",
            "LSTMCell\n",
            "Lambda\n",
            "Layer\n",
            "LayerNormalization\n",
            "LeakyReLU\n",
            "LocallyConnected1D\n",
            "LocallyConnected2D\n",
            "Masking\n",
            "MaxPool1D\n",
            "MaxPool2D\n",
            "MaxPool3D\n",
            "MaxPooling1D\n",
            "MaxPooling2D\n",
            "MaxPooling3D\n",
            "Maximum\n",
            "Minimum\n",
            "Multiply\n",
            "PReLU\n",
            "Permute\n",
            "RNN\n",
            "ReLU\n",
            "RepeatVector\n",
            "Reshape\n",
            "SeparableConv1D\n",
            "SeparableConv2D\n",
            "SeparableConvolution1D\n",
            "SeparableConvolution2D\n",
            "SimpleRNN\n",
            "SimpleRNNCell\n",
            "Softmax\n",
            "SpatialDropout1D\n",
            "SpatialDropout2D\n",
            "SpatialDropout3D\n",
            "StackedRNNCells\n",
            "Subtract\n",
            "ThresholdedReLU\n",
            "TimeDistributed\n",
            "UpSampling1D\n",
            "UpSampling2D\n",
            "UpSampling3D\n",
            "Wrapper\n",
            "ZeroPadding1D\n",
            "ZeroPadding2D\n",
            "ZeroPadding3D\n",
            "add\n",
            "average\n",
            "concatenate\n",
            "deserialize\n",
            "dot\n",
            "experimental\n",
            "maximum\n",
            "minimum\n",
            "multiply\n",
            "serialize\n",
            "subtract\n"
          ],
          "name": "stdout"
        }
      ]
    },
    {
      "cell_type": "code",
      "metadata": {
        "id": "FxZsbc2OGwb7",
        "colab_type": "code",
        "colab": {}
      },
      "source": [
        "## lets add the Dense layers to the model\n",
        "\n",
        "from tensorflow.keras.layers import Dense, Activation\n",
        "\n",
        "model.add(Dense(2, activation=\"relu\", input_shape=(4,))) ## input layer\n",
        "model.add(Dense(4, activation=\"relu\"))\n",
        "model.add(Dense(2, activation=\"relu\"))"
      ],
      "execution_count": null,
      "outputs": []
    },
    {
      "cell_type": "code",
      "metadata": {
        "id": "E58oEWqeHoUl",
        "colab_type": "code",
        "colab": {
          "base_uri": "https://localhost:8080/",
          "height": 260
        },
        "outputId": "abe97b30-fa93-44e1-8430-26472d4fd20f"
      },
      "source": [
        "## Checkout model summary\n",
        "\n",
        "model.summary()"
      ],
      "execution_count": null,
      "outputs": [
        {
          "output_type": "stream",
          "text": [
            "Model: \"sequential\"\n",
            "_________________________________________________________________\n",
            "Layer (type)                 Output Shape              Param #   \n",
            "=================================================================\n",
            "dense (Dense)                (None, 2)                 10        \n",
            "_________________________________________________________________\n",
            "dense_1 (Dense)              (None, 4)                 12        \n",
            "_________________________________________________________________\n",
            "dense_2 (Dense)              (None, 2)                 10        \n",
            "=================================================================\n",
            "Total params: 32\n",
            "Trainable params: 32\n",
            "Non-trainable params: 0\n",
            "_________________________________________________________________\n"
          ],
          "name": "stdout"
        }
      ]
    },
    {
      "cell_type": "code",
      "metadata": {
        "id": "5uWkEIpqJYXz",
        "colab_type": "code",
        "colab": {}
      },
      "source": [
        "## Separate activation layer\n",
        "\n",
        "model.add(Dense(2))\n",
        "model.add(Activation(\"softmax\"))"
      ],
      "execution_count": null,
      "outputs": []
    },
    {
      "cell_type": "code",
      "metadata": {
        "id": "EoIWTjxaJ3F9",
        "colab_type": "code",
        "colab": {
          "base_uri": "https://localhost:8080/",
          "height": 329
        },
        "outputId": "2e5a3c26-e280-4f49-c82b-48a2d1351577"
      },
      "source": [
        "## model summary\n",
        "\n",
        "model.summary()"
      ],
      "execution_count": null,
      "outputs": [
        {
          "output_type": "stream",
          "text": [
            "Model: \"sequential\"\n",
            "_________________________________________________________________\n",
            "Layer (type)                 Output Shape              Param #   \n",
            "=================================================================\n",
            "dense (Dense)                (None, 2)                 10        \n",
            "_________________________________________________________________\n",
            "dense_1 (Dense)              (None, 4)                 12        \n",
            "_________________________________________________________________\n",
            "dense_2 (Dense)              (None, 2)                 10        \n",
            "_________________________________________________________________\n",
            "dense_3 (Dense)              (None, 2)                 6         \n",
            "_________________________________________________________________\n",
            "activation (Activation)      (None, 2)                 0         \n",
            "=================================================================\n",
            "Total params: 38\n",
            "Trainable params: 38\n",
            "Non-trainable params: 0\n",
            "_________________________________________________________________\n"
          ],
          "name": "stdout"
        }
      ]
    },
    {
      "cell_type": "markdown",
      "metadata": {
        "id": "ZCqSaF1hKXCC",
        "colab_type": "text"
      },
      "source": [
        "### Other functions in the model class\n",
        "\n",
        "- Compile\n",
        "> ```python\n",
        "model.compile(\n",
        "    optimizer='rmsprop', loss=None, metrics=None, loss_weights=None,\n",
        "    sample_weight_mode=None, weighted_metrics=None, **kwargs\n",
        ")\n",
        "```\n",
        "\n",
        "- Train \n",
        "> ```python\n",
        "model.fit(\n",
        "    x=None, y=None, batch_size=None, epochs=1, verbose=1, callbacks=None,\n",
        "    validation_split=0.0, validation_data=None, shuffle=True, class_weight=None,\n",
        "    sample_weight=None, initial_epoch=0, steps_per_epoch=None,\n",
        "    validation_steps=None, validation_batch_size=None, validation_freq=1,\n",
        "    max_queue_size=10, workers=1, use_multiprocessing=False\n",
        ")  \n",
        "```\n",
        "> ```python\n",
        "model.fit_generator(\n",
        "    generator, steps_per_epoch=None, epochs=1, verbose=1, callbacks=None,\n",
        "    validation_data=None, validation_steps=None, validation_freq=1,\n",
        "    class_weight=None, max_queue_size=10, workers=1, use_multiprocessing=False,\n",
        "    shuffle=True, initial_epoch=0\n",
        ")\n",
        "```\n",
        "- Predict\n",
        "> ```python\n",
        "model.predict(\n",
        "    x, batch_size=None, verbose=0, steps=None, callbacks=None, max_queue_size=10,\n",
        "    workers=1, use_multiprocessing=False\n",
        ")\n",
        "```\n",
        "- Evaluate\n",
        "> ```python\n",
        "model.evaluate(\n",
        "    x=None, y=None, batch_size=None, verbose=1, sample_weight=None, steps=None,\n",
        "    callbacks=None, max_queue_size=10, workers=1, use_multiprocessing=False,\n",
        "    return_dict=False\n",
        ")\n",
        "```\n"
      ]
    },
    {
      "cell_type": "markdown",
      "metadata": {
        "id": "5kZryoeBQLZj",
        "colab_type": "text"
      },
      "source": [
        "### **Inbuilt Datasets**\n",
        "\n",
        "```python\n",
        "tf.keras.datasets\n",
        "```"
      ]
    },
    {
      "cell_type": "code",
      "metadata": {
        "id": "Tt3pMMcnQVvr",
        "colab_type": "code",
        "colab": {
          "base_uri": "https://localhost:8080/",
          "height": 139
        },
        "outputId": "89cb5bee-a973-4025-dd9b-d0e6f53640a4"
      },
      "source": [
        "## Lets open it up\n",
        "\n",
        "for i in dir(tf.keras.datasets):\n",
        "  if not i.startswith(\"_\"):\n",
        "    print(i)"
      ],
      "execution_count": null,
      "outputs": [
        {
          "output_type": "stream",
          "text": [
            "boston_housing\n",
            "cifar10\n",
            "cifar100\n",
            "fashion_mnist\n",
            "imdb\n",
            "mnist\n",
            "reuters\n"
          ],
          "name": "stdout"
        }
      ]
    },
    {
      "cell_type": "code",
      "metadata": {
        "id": "wEf5ebkmQj1h",
        "colab_type": "code",
        "colab": {}
      },
      "source": [
        "from tensorflow.keras.datasets import mnist"
      ],
      "execution_count": null,
      "outputs": []
    },
    {
      "cell_type": "code",
      "metadata": {
        "id": "Y596TUdWQucs",
        "colab_type": "code",
        "colab": {
          "base_uri": "https://localhost:8080/",
          "height": 52
        },
        "outputId": "c6b543a6-886d-46d4-a03e-1e2cc13ba828"
      },
      "source": [
        "## load dataset\n",
        "(x_train, y_train), (x_test, y_test) = mnist.load_data()"
      ],
      "execution_count": null,
      "outputs": [
        {
          "output_type": "stream",
          "text": [
            "Downloading data from https://storage.googleapis.com/tensorflow/tf-keras-datasets/mnist.npz\n",
            "11493376/11490434 [==============================] - 0s 0us/step\n"
          ],
          "name": "stdout"
        }
      ]
    },
    {
      "cell_type": "code",
      "metadata": {
        "id": "P4xvgDihQuKV",
        "colab_type": "code",
        "colab": {
          "base_uri": "https://localhost:8080/",
          "height": 35
        },
        "outputId": "291e8f1c-e37b-418a-d6ca-59f27abf7728"
      },
      "source": [
        "x_train.shape, y_train.shape, x_test.shape, y_test.shape"
      ],
      "execution_count": null,
      "outputs": [
        {
          "output_type": "execute_result",
          "data": {
            "text/plain": [
              "((60000, 28, 28), (60000,), (10000, 28, 28), (10000,))"
            ]
          },
          "metadata": {
            "tags": []
          },
          "execution_count": 55
        }
      ]
    },
    {
      "cell_type": "markdown",
      "metadata": {
        "id": "Td9GtTOmNFi_",
        "colab_type": "text"
      },
      "source": [
        "### **Data Preprocessing API in Keras**\n",
        "\n",
        "```python\n",
        "tf.keras.preprocessing\n",
        "```"
      ]
    },
    {
      "cell_type": "code",
      "metadata": {
        "id": "Wnv0lN_BJ5dx",
        "colab_type": "code",
        "colab": {
          "base_uri": "https://localhost:8080/",
          "height": 69
        },
        "outputId": "13bf68f8-eaa4-424d-cfaa-4cc61272009a"
      },
      "source": [
        "## Lets open it up\n",
        "\n",
        "for i in dir(tf.keras.preprocessing):\n",
        "  if not i.startswith(\"_\"):\n",
        "    print(i)"
      ],
      "execution_count": null,
      "outputs": [
        {
          "output_type": "stream",
          "text": [
            "image\n",
            "sequence\n",
            "text\n"
          ],
          "name": "stdout"
        }
      ]
    },
    {
      "cell_type": "code",
      "metadata": {
        "id": "2hmVO24mNY6f",
        "colab_type": "code",
        "colab": {
          "base_uri": "https://localhost:8080/",
          "height": 312
        },
        "outputId": "117d96c3-81c2-47fb-bd4f-d1794b2aa20f"
      },
      "source": [
        "## Checkout the image preprocessing options\n",
        "\n",
        "for i in dir(tf.keras.preprocessing.image):\n",
        "  if not i.startswith(\"_\"):\n",
        "    print(i)"
      ],
      "execution_count": null,
      "outputs": [
        {
          "output_type": "stream",
          "text": [
            "DirectoryIterator\n",
            "ImageDataGenerator\n",
            "Iterator\n",
            "NumpyArrayIterator\n",
            "apply_affine_transform\n",
            "apply_brightness_shift\n",
            "apply_channel_shift\n",
            "array_to_img\n",
            "img_to_array\n",
            "load_img\n",
            "random_brightness\n",
            "random_channel_shift\n",
            "random_rotation\n",
            "random_shear\n",
            "random_shift\n",
            "random_zoom\n",
            "save_img\n"
          ],
          "name": "stdout"
        }
      ]
    },
    {
      "cell_type": "code",
      "metadata": {
        "id": "1paSiKCYNlXX",
        "colab_type": "code",
        "colab": {}
      },
      "source": [
        "from tensorflow.keras.preprocessing.image import load_img, save_img, img_to_array, random_zoom, array_to_img"
      ],
      "execution_count": null,
      "outputs": []
    },
    {
      "cell_type": "code",
      "metadata": {
        "id": "jchc3lM6PDSt",
        "colab_type": "code",
        "colab": {
          "base_uri": "https://localhost:8080/",
          "height": 312
        },
        "outputId": "88a485a6-742b-4692-d1bf-29b5db2c8fa3"
      },
      "source": [
        "!wget https://picsum.photos/200/300\n",
        "!ls"
      ],
      "execution_count": null,
      "outputs": [
        {
          "output_type": "stream",
          "text": [
            "--2020-06-30 12:38:31--  https://picsum.photos/200/300\n",
            "Resolving picsum.photos (picsum.photos)... 104.26.5.30, 104.26.4.30, 172.67.74.163, ...\n",
            "Connecting to picsum.photos (picsum.photos)|104.26.5.30|:443... connected.\n",
            "HTTP request sent, awaiting response... 302 Found\n",
            "Location: https://i.picsum.photos/id/613/200/300.jpg?hmac=0SxLnCBuV8ozZLRM2aLsgqfaFXvvICJP-8ELG_wt0gE [following]\n",
            "--2020-06-30 12:38:31--  https://i.picsum.photos/id/613/200/300.jpg?hmac=0SxLnCBuV8ozZLRM2aLsgqfaFXvvICJP-8ELG_wt0gE\n",
            "Resolving i.picsum.photos (i.picsum.photos)... 172.67.74.163, 104.26.4.30, 104.26.5.30, ...\n",
            "Connecting to i.picsum.photos (i.picsum.photos)|172.67.74.163|:443... connected.\n",
            "HTTP request sent, awaiting response... 200 OK\n",
            "Length: 8480 (8.3K) [image/jpeg]\n",
            "Saving to: ‘300’\n",
            "\n",
            "\r300                   0%[                    ]       0  --.-KB/s               \r300                 100%[===================>]   8.28K  --.-KB/s    in 0s      \n",
            "\n",
            "2020-06-30 12:38:31 (57.1 MB/s) - ‘300’ saved [8480/8480]\n",
            "\n",
            "300  sample_data\n"
          ],
          "name": "stdout"
        }
      ]
    },
    {
      "cell_type": "code",
      "metadata": {
        "id": "cDKPQb2MOKb1",
        "colab_type": "code",
        "colab": {}
      },
      "source": [
        "img = load_img(path=\"300\")"
      ],
      "execution_count": null,
      "outputs": []
    },
    {
      "cell_type": "code",
      "metadata": {
        "id": "R8Dc5qe6OMnt",
        "colab_type": "code",
        "colab": {
          "base_uri": "https://localhost:8080/",
          "height": 317
        },
        "outputId": "92b6faba-a3c3-48f5-a962-002787229dfd"
      },
      "source": [
        "img"
      ],
      "execution_count": null,
      "outputs": [
        {
          "output_type": "execute_result",
          "data": {
            "image/png": "[encoded data removed]",
            "text/plain": [
              "<PIL.JpegImagePlugin.JpegImageFile image mode=RGB size=200x300 at 0x7FAA03E1A2E8>"
            ]
          },
          "metadata": {
            "tags": []
          },
          "execution_count": 46
        }
      ]
    },
    {
      "cell_type": "code",
      "metadata": {
        "id": "ZyXQnTrTOe69",
        "colab_type": "code",
        "colab": {
          "base_uri": "https://localhost:8080/",
          "height": 867
        },
        "outputId": "3683f090-9a3f-4171-e096-3a8682bf4ebd"
      },
      "source": [
        "img_array = img_to_array(img)\n",
        "img_array"
      ],
      "execution_count": null,
      "outputs": [
        {
          "output_type": "execute_result",
          "data": {
            "text/plain": [
              "array([[[181., 185., 188.],\n",
              "        [186., 190., 193.],\n",
              "        [181., 185., 188.],\n",
              "        ...,\n",
              "        [177., 182., 185.],\n",
              "        [177., 182., 185.],\n",
              "        [177., 182., 185.]],\n",
              "\n",
              "       [[181., 185., 188.],\n",
              "        [186., 190., 193.],\n",
              "        [181., 185., 188.],\n",
              "        ...,\n",
              "        [178., 183., 186.],\n",
              "        [177., 182., 185.],\n",
              "        [177., 182., 185.]],\n",
              "\n",
              "       [[182., 186., 189.],\n",
              "        [186., 190., 193.],\n",
              "        [180., 184., 187.],\n",
              "        ...,\n",
              "        [178., 183., 186.],\n",
              "        [178., 183., 186.],\n",
              "        [178., 183., 186.]],\n",
              "\n",
              "       ...,\n",
              "\n",
              "       [[ 96., 104., 106.],\n",
              "        [ 94., 102., 104.],\n",
              "        [ 92., 100., 102.],\n",
              "        ...,\n",
              "        [105., 119., 120.],\n",
              "        [104., 118., 119.],\n",
              "        [102., 116., 117.]],\n",
              "\n",
              "       [[ 96., 104., 106.],\n",
              "        [ 95., 103., 105.],\n",
              "        [ 93., 101., 103.],\n",
              "        ...,\n",
              "        [108., 122., 123.],\n",
              "        [108., 122., 123.],\n",
              "        [107., 121., 122.]],\n",
              "\n",
              "       [[ 99., 107., 109.],\n",
              "        [100., 108., 110.],\n",
              "        [ 98., 106., 108.],\n",
              "        ...,\n",
              "        [109., 123., 124.],\n",
              "        [111., 125., 126.],\n",
              "        [111., 125., 126.]]], dtype=float32)"
            ]
          },
          "metadata": {
            "tags": []
          },
          "execution_count": 48
        }
      ]
    },
    {
      "cell_type": "code",
      "metadata": {
        "id": "CTaRUlw3Pxbi",
        "colab_type": "code",
        "colab": {}
      },
      "source": [
        "img_zoom = random_zoom(img_array, zoom_range=[2, 2])"
      ],
      "execution_count": null,
      "outputs": []
    },
    {
      "cell_type": "code",
      "metadata": {
        "id": "9XNStH-aSAby",
        "colab_type": "code",
        "colab": {}
      },
      "source": [
        "img2 = array_to_img(img_zoom)"
      ],
      "execution_count": null,
      "outputs": []
    },
    {
      "cell_type": "code",
      "metadata": {
        "id": "saNCUlBoS92Y",
        "colab_type": "code",
        "colab": {
          "base_uri": "https://localhost:8080/",
          "height": 317
        },
        "outputId": "2d841526-2546-4ca5-b347-1f9b3011103a"
      },
      "source": [
        "img2"
      ],
      "execution_count": null,
      "outputs": [
        {
          "output_type": "execute_result",
          "data": {
            "image/png": "[encoded data removed]",
            "text/plain": [
              "<PIL.Image.Image image mode=RGB size=200x300 at 0x7FA9B8EC8C50>"
            ]
          },
          "metadata": {
            "tags": []
          },
          "execution_count": 81
        }
      ]
    },
    {
      "cell_type": "code",
      "metadata": {
        "id": "qNAXBxleS_Ga",
        "colab_type": "code",
        "colab": {
          "base_uri": "https://localhost:8080/",
          "height": 317
        },
        "outputId": "bce323d3-21cc-44c2-d04a-791ca31b220d"
      },
      "source": [
        "img"
      ],
      "execution_count": null,
      "outputs": [
        {
          "output_type": "execute_result",
          "data": {
            "image/png": "[encoded data removed]",
            "text/plain": [
              "<PIL.JpegImagePlugin.JpegImageFile image mode=RGB size=200x300 at 0x7FAA03E1A2E8>"
            ]
          },
          "metadata": {
            "tags": []
          },
          "execution_count": 66
        }
      ]
    },
    {
      "cell_type": "markdown",
      "metadata": {
        "id": "mnmPlmd6VQ-l",
        "colab_type": "text"
      },
      "source": [
        "### Data Augmentation with Keras\n",
        "\n",
        "#### ImageDataGenerator can be used to iterate over image directories and apply data augmentation \n",
        "```python\n",
        "tf.keras.preprocessing.image.ImageDataGenerator(\n",
        "    featurewise_center=False, samplewise_center=False,\n",
        "    featurewise_std_normalization=False, samplewise_std_normalization=False,\n",
        "    zca_whitening=False, zca_epsilon=1e-06, rotation_range=0, width_shift_range=0.0,\n",
        "    height_shift_range=0.0, brightness_range=None, shear_range=0.0, zoom_range=0.0,\n",
        "    channel_shift_range=0.0, fill_mode='nearest', cval=0.0, horizontal_flip=False,\n",
        "    vertical_flip=False, rescale=None, preprocessing_function=None,\n",
        "    data_format=None, validation_split=0.0, dtype=None\n",
        ")\n",
        "```\n",
        "\n",
        "**We will check out data augmentation in later examples**"
      ]
    },
    {
      "cell_type": "markdown",
      "metadata": {
        "id": "p__Md7QMiSDj",
        "colab_type": "text"
      },
      "source": [
        "### Optimizers\n",
        "\n",
        "```python\n",
        "tf.keras.optimizers\n",
        "```\n",
        "**Keras optimizers list**\n",
        "- SGD\n",
        "- RMSprop\n",
        "- Adam\n",
        "- Adadelta\n",
        "- Adagrad\n",
        "- Adamax\n",
        "- Nadam\n",
        "- Ftrl\n",
        "\n",
        "Some articles on Optimizers --\n",
        "\n",
        "[Various Optimization Algorithms For Training Neural Network](https://medium.com/@sdoshi579/optimizers-for-training-neural-network-59450d71caf6#:~:text=Optimizers%20are%20algorithms%20or%20methods,order%20to%20reduce%20the%20losses.&text=How%20you%20should%20change%20your,by%20the%20optimizers%20you%20use.)\n",
        "\n",
        "[Paperspace blog - \n",
        "Intro to optimization in deep learning](https://blog.paperspace.com/intro-to-optimization-in-deep-learning-gradient-descent/)"
      ]
    },
    {
      "cell_type": "code",
      "metadata": {
        "id": "S4-Gz1z5gvNC",
        "colab_type": "code",
        "colab": {}
      },
      "source": [
        "from tensorflow.keras.optimizers import SGD"
      ],
      "execution_count": null,
      "outputs": []
    },
    {
      "cell_type": "code",
      "metadata": {
        "id": "P1UIMjSNm-0x",
        "colab_type": "code",
        "colab": {}
      },
      "source": [
        "opt = SGD(learning_rate=0.01, momentum=0.91)"
      ],
      "execution_count": null,
      "outputs": []
    },
    {
      "cell_type": "markdown",
      "metadata": {
        "id": "d3tD9f5_nWRq",
        "colab_type": "text"
      },
      "source": [
        "### **Losses**\n",
        "\n",
        "```python\n",
        "tf.keras.losses\n",
        "```\n",
        "\n",
        "Example 1:\n",
        "```python\n",
        "tf.keras.losses.CategoricalCrossentropy(\n",
        "    from_logits=False, label_smoothing=0, reduction=losses_utils.ReductionV2.AUTO,\n",
        "    name='categorical_crossentropy'\n",
        ")\n",
        "```\n",
        "\n",
        "Example 2:\n",
        "```python\n",
        "model.compile('sgd', loss=tf.keras.losses.CategoricalCrossentropy())\n",
        "```\n",
        "\n",
        "Example 3:\n",
        "```python\n",
        "model.compile(optimizer='sgd',\n",
        "              loss='sparse_categorical_crossentropy',\n",
        "              metrics=['accuracy'])\n",
        "```\n",
        "\n",
        "\n",
        "List of Losses in Keras:\n",
        "\n",
        "https://keras.io/api/losses/\n",
        "\n",
        "https://www.tensorflow.org/api_docs/python/tf/keras/losses"
      ]
    },
    {
      "cell_type": "markdown",
      "metadata": {
        "id": "jUrzl5EsqmhQ",
        "colab_type": "text"
      },
      "source": [
        "### **Metrics**\n",
        "```python\n",
        "tf.keras.metrics\n",
        "```\n",
        "Example:\n",
        "```python\n",
        "model.compile(optimizer='sgd',\n",
        "              loss='mse',\n",
        "              metrics=[tf.keras.metrics.Accuracy()])\n",
        "```\n",
        "\n",
        "Check out list of all metrics here:\n",
        "\n",
        "https://keras.io/api/metrics/"
      ]
    },
    {
      "cell_type": "markdown",
      "metadata": {
        "id": "0oOU9Ymqvec9",
        "colab_type": "text"
      },
      "source": [
        "### **Callbacks**\n",
        "\n",
        "```python\n",
        "tf.keras.callbacks\n",
        "```\n",
        "\n"
      ]
    },
    {
      "cell_type": "code",
      "metadata": {
        "id": "NrP19LJgnDn7",
        "colab_type": "code",
        "colab": {
          "base_uri": "https://localhost:8080/",
          "height": 243
        },
        "outputId": "2254ebb5-1997-4853-85a3-fc060f608f9d"
      },
      "source": [
        "for i in dir(tf.keras.callbacks):\n",
        "  if not i.startswith(\"_\"):\n",
        "    print(i)"
      ],
      "execution_count": null,
      "outputs": [
        {
          "output_type": "stream",
          "text": [
            "BaseLogger\n",
            "CSVLogger\n",
            "Callback\n",
            "EarlyStopping\n",
            "History\n",
            "LambdaCallback\n",
            "LearningRateScheduler\n",
            "ModelCheckpoint\n",
            "ProgbarLogger\n",
            "ReduceLROnPlateau\n",
            "RemoteMonitor\n",
            "TensorBoard\n",
            "TerminateOnNaN\n"
          ],
          "name": "stdout"
        }
      ]
    },
    {
      "cell_type": "code",
      "metadata": {
        "id": "V3zIdNwmwGR0",
        "colab_type": "code",
        "colab": {}
      },
      "source": [
        "from tensorflow.keras.callbacks import EarlyStopping, ModelCheckpoint"
      ],
      "execution_count": null,
      "outputs": []
    },
    {
      "cell_type": "code",
      "metadata": {
        "id": "DqktVoOwxPCS",
        "colab_type": "code",
        "colab": {}
      },
      "source": [
        "## earlystopping function tracks loss, and if loss doesnt chage for 5 epochs training stops\n",
        " \n",
        "estop = EarlyStopping(monitor = 'loss',\n",
        "                          min_delta = 0,\n",
        "                          patience = 5,\n",
        "                          verbose = 1,\n",
        "                          restore_best_weights = True)"
      ],
      "execution_count": null,
      "outputs": []
    },
    {
      "cell_type": "code",
      "metadata": {
        "id": "Y0xknP4gxjLp",
        "colab_type": "code",
        "colab": {}
      },
      "source": [
        "## model checkpoint saves the model based on criteria\n",
        "\n",
        "modelcheckpoint = ModelCheckpoint(filepath='path/to/save/model.hdf5',\n",
        "                             monitor='val_loss',\n",
        "                             mode='min',\n",
        "                             save_best_only=True,\n",
        "                             verbose=1)"
      ],
      "execution_count": null,
      "outputs": []
    },
    {
      "cell_type": "code",
      "metadata": {
        "id": "C6kaMp5gxk_Z",
        "colab_type": "code",
        "colab": {}
      },
      "source": [
        "## applying checkpoints\n",
        "\n",
        "# model.fit(epochs=EPOCHS, callbacks=[estop, modelcheckpoint])"
      ],
      "execution_count": null,
      "outputs": []
    },
    {
      "cell_type": "markdown",
      "metadata": {
        "id": "HxHAHYTewRYN",
        "colab_type": "text"
      },
      "source": [
        "### **Keras Utilities**\n",
        "\n",
        "Keras utilities are set of helper functional that can be utilized throughout out deep learning process \n",
        "\n",
        "> tf.keras.utils\n",
        "\n",
        "[Explore all utilities here](https://www.tensorflow.org/api_docs/python/tf/keras/utils)"
      ]
    },
    {
      "cell_type": "code",
      "metadata": {
        "id": "77JHoCb_0ddY",
        "colab_type": "code",
        "colab": {
          "base_uri": "https://localhost:8080/",
          "height": 399
        },
        "outputId": "4fb81fec-6428-45cf-bf06-1c0854b2c9d6"
      },
      "source": [
        "for i in dir(tf.keras.utils):\n",
        "  if not i.startswith(\"_\"):\n",
        "    print(i)"
      ],
      "execution_count": 4,
      "outputs": [
        {
          "output_type": "stream",
          "text": [
            "CustomObjectScope\n",
            "GeneratorEnqueuer\n",
            "HDF5Matrix\n",
            "OrderedEnqueuer\n",
            "Progbar\n",
            "Sequence\n",
            "SequenceEnqueuer\n",
            "convert_all_kernels_in_model\n",
            "custom_object_scope\n",
            "deserialize_keras_object\n",
            "get_custom_objects\n",
            "get_file\n",
            "get_registered_name\n",
            "get_registered_object\n",
            "get_source_inputs\n",
            "model_to_dot\n",
            "multi_gpu_model\n",
            "normalize\n",
            "plot_model\n",
            "register_keras_serializable\n",
            "serialize_keras_object\n",
            "to_categorical\n"
          ],
          "name": "stdout"
        }
      ]
    },
    {
      "cell_type": "code",
      "metadata": {
        "id": "-evEd-nqxPzr",
        "colab_type": "code",
        "colab": {}
      },
      "source": [
        "from tensorflow.keras.utils import to_categorical"
      ],
      "execution_count": 5,
      "outputs": []
    },
    {
      "cell_type": "code",
      "metadata": {
        "id": "DQcg524Oxk2X",
        "colab_type": "code",
        "colab": {}
      },
      "source": [
        "## convert y_train to categorical\n",
        "\n",
        "y_train_new = to_categorical(\n",
        "    y_train, num_classes=None, dtype='float32'\n",
        ")"
      ],
      "execution_count": null,
      "outputs": []
    },
    {
      "cell_type": "markdown",
      "metadata": {
        "id": "1xVz1UeYx23i",
        "colab_type": "text"
      },
      "source": [
        "### **EXERCISE**\n",
        "\n",
        "1. Explore the Keras Applications API and mention atleast one use of this API \n",
        "> tf.keras.applications\n",
        "2. Explore the Keras Backend API and mention one use of this API\n",
        "> tf.keras.backend\n",
        "\n",
        "### **Bonus**\n",
        "1. Explore the Keras preprocessing API and mention the usage of one_hot and Tokenizer functions\n",
        "> tf.keras.preprocessing.text.one_hot\n",
        "> tf.keras.preprocessing.text.Tokenizer    \n",
        "2. Explore the Regularizers API\n",
        "> tf.keras.regularizers\n",
        "\n",
        "### **Hint**\n",
        "[Make use of the Tensorflow Documentation here](https://www.tensorflow.org/api_docs/python/tf/keras)\n",
        "\n",
        "#### **Please share all your answers in new cells below and keep the answers short and simple **\n"
      ]
    },
    {
      "cell_type": "code",
      "metadata": {
        "id": "Gylw4RcLxzk5",
        "colab_type": "code",
        "colab": {}
      },
      "source": [
        ""
      ],
      "execution_count": null,
      "outputs": []
    },
    {
      "cell_type": "code",
      "metadata": {
        "id": "o2zqYr9uxhbD",
        "colab_type": "code",
        "colab": {}
      },
      "source": [
        ""
      ],
      "execution_count": 5,
      "outputs": []
    }
  ]
}