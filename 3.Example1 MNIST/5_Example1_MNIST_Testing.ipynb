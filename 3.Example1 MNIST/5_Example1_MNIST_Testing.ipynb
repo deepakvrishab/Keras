{
  "nbformat": 4,
  "nbformat_minor": 0,
  "metadata": {
    "colab": {
      "name": "5.Example1_MNIST_Testing.ipynb",
      "provenance": [],
      "collapsed_sections": []
    },
    "kernelspec": {
      "name": "python3",
      "display_name": "Python 3"
    },
    "accelerator": "GPU"
  },
  "cells": [
    {
      "cell_type": "markdown",
      "metadata": {
        "id": "16q4Ay7e5tgZ",
        "colab_type": "text"
      },
      "source": [
        "## **Simple Neural Network with Keras and TensorFlow 2**\n",
        "\n",
        "As first hands-on example of the course, the goal is to give a thorough understanding of the end-to-end deep learning cycle with Keras in a simple way. \n",
        "\n",
        "In this example you will deal with a very simple and popular example dataset called MNIST, which comes inbuilt with Keras. [You can read all about the dataset here](http://yann.lecun.com/exdb/mnist/)\n",
        "\n",
        "This example is divided into the following parts:\n",
        "1. Preprocessing the data\n",
        "2. Creating the simple densely connected model\n",
        "3. Training the model\n",
        "4. Adding callbacks\n",
        "5. Testing and evaluating the model\n",
        "6. Improving the performance\n",
        "\n",
        "We will go through each part sequentially, gradually building upon the concepts"
      ]
    },
    {
      "cell_type": "markdown",
      "metadata": {
        "id": "E8m15AOS7rXQ",
        "colab_type": "text"
      },
      "source": [
        "### **Overview of the dataset**\n",
        "\n",
        "- The MNIST dataset consists of grayscale images of handwritten digits (0 to 9). \n",
        "- Each image is of dimension 28x28.\n",
        "- Dataset contains 60000 Training images and 10000 Test images\n",
        "- The dataset comes inbuilt with tf.keras, with normalized images, separated into training and testing sets   \n",
        "\n",
        "![MNIST](https://upload.wikimedia.org/wikipedia/commons/2/27/MnistExamples.png)"
      ]
    },
    {
      "cell_type": "markdown",
      "metadata": {
        "id": "QNvYMXMA82NF",
        "colab_type": "text"
      },
      "source": [
        "### **What we are building**\n",
        "\n",
        "We are building an image classifier capable of identifying handwritten digits ranging from 0 to 9. To train the model, we will use the training set of 60000 images and the rest 10000 testing set to test the model later on. \n",
        "\n",
        "- Our neural network will be a fully connected (densely connected) neural network.\n",
        "- Input layer of 784 input (28x28 image pixels)\n",
        "- 2 hidden fully connected layers of 256 nodes each (this number may change as we play around with the network)\n",
        "- output layer with 10 nodes (1 node for each digit from 0 to 9)\n",
        "\n",
        "> **input layer[754] --> dense1[256] --> dense2[256] --> output[10]** "
      ]
    },
    {
      "cell_type": "markdown",
      "metadata": {
        "id": "AG1dnyLaGTRu",
        "colab_type": "text"
      },
      "source": [
        "### **Part 1 - Preprocessing the dataset**\n",
        "\n",
        "In this part we will fetch the dataset from keras, visualize the dataset, and perform some preprocessing steps so that we can prepare our dataset to be fed into the neural network for training. \n",
        "\n",
        "One of the most important of preprocessing steps involve **flattening the images.** Our images are 28x28 in dimension, but the network we are training is a fully connected network and accepts only one-dimension matrix individual inputs. So this step will be like unrolling a barrel. Here's how it looks like --\n",
        "> [1 0] <br> \n",
        "> [3 4]   --> [1 0 3 4 7 8] <br>\n",
        "> [7 8]"
      ]
    },
    {
      "cell_type": "code",
      "metadata": {
        "id": "4nxgUR9C5sEm",
        "colab_type": "code",
        "colab": {}
      },
      "source": [
        "## import preprocessing libraries\n",
        "from tensorflow.keras.datasets import mnist\n",
        "from tensorflow.keras.utils import to_categorical\n",
        "\n",
        "import numpy as np\n",
        "import matplotlib.pyplot as plt\n",
        "import random"
      ],
      "execution_count": 1,
      "outputs": []
    },
    {
      "cell_type": "code",
      "metadata": {
        "id": "2f8NqQA710Aa",
        "colab_type": "code",
        "colab": {
          "base_uri": "https://localhost:8080/",
          "height": 52
        },
        "outputId": "a3fc20ba-4fed-4882-e4eb-90128db08159"
      },
      "source": [
        "## fetch the mnist dataset\n",
        "(x_train, y_train), (x_test, y_test) = mnist.load_data()"
      ],
      "execution_count": 2,
      "outputs": [
        {
          "output_type": "stream",
          "text": [
            "Downloading data from https://storage.googleapis.com/tensorflow/tf-keras-datasets/mnist.npz\n",
            "11493376/11490434 [==============================] - 0s 0us/step\n"
          ],
          "name": "stdout"
        }
      ]
    },
    {
      "cell_type": "code",
      "metadata": {
        "id": "h6VMSbj55ezb",
        "colab_type": "code",
        "colab": {
          "base_uri": "https://localhost:8080/",
          "height": 87
        },
        "outputId": "6a7bd097-d7a6-440f-f0af-9dc355993543"
      },
      "source": [
        "## Check the data shape\n",
        "print(\"x_train: \", x_train.shape)\n",
        "print(\"y_train: \", y_train.shape)\n",
        "print(\"x_test: \", x_test.shape)\n",
        "print(\"y_test: \", y_test.shape)"
      ],
      "execution_count": 3,
      "outputs": [
        {
          "output_type": "stream",
          "text": [
            "x_train:  (60000, 28, 28)\n",
            "y_train:  (60000,)\n",
            "x_test:  (10000, 28, 28)\n",
            "y_test:  (10000,)\n"
          ],
          "name": "stdout"
        }
      ]
    },
    {
      "cell_type": "code",
      "metadata": {
        "id": "ZA1kzEk8Yhwc",
        "colab_type": "code",
        "colab": {
          "base_uri": "https://localhost:8080/",
          "height": 267
        },
        "outputId": "eea5a78f-70f1-433d-e325-44c9dd71309f"
      },
      "source": [
        "## Lets plots the images\n",
        "fig = plt.figure()\n",
        "\n",
        "for i in range(6):\n",
        "  plt.subplot(2, 3, i+1)\n",
        "  plt.imshow(x_train[i], cmap='gray', interpolation='none') ## image\n",
        "  plt.title(f\"Label: {y_train[i]}\")\n",
        "  plt.xticks([])\n",
        "fig.show();"
      ],
      "execution_count": 4,
      "outputs": [
        {
          "output_type": "display_data",
          "data": {
            "image/png": "[encoded data removed]",
            "text/plain": [
              "<Figure size 432x288 with 6 Axes>"
            ]
          },
          "metadata": {
            "tags": [],
            "needs_background": "light"
          }
        }
      ]
    },
    {
      "cell_type": "code",
      "metadata": {
        "id": "T91hjmJ2as4Z",
        "colab_type": "code",
        "colab": {
          "base_uri": "https://localhost:8080/",
          "height": 1000
        },
        "outputId": "e311634d-5f03-4b8d-a94e-5cf6b281b944"
      },
      "source": [
        "## Lets take a look at a single image data\n",
        "NUM = 0\n",
        "\n",
        "print(f\"Label: {y_train[NUM]}\")\n",
        "print(\"Shape: \", x_train[NUM].shape)\n",
        "print(\"*\"*50)\n",
        "digit = x_train[NUM]\n",
        "print(digit)"
      ],
      "execution_count": 5,
      "outputs": [
        {
          "output_type": "stream",
          "text": [
            "Label: 5\n",
            "Shape:  (28, 28)\n",
            "**************************************************\n",
            "[[  0   0   0   0   0   0   0   0   0   0   0   0   0   0   0   0   0   0\n",
            "    0   0   0   0   0   0   0   0   0   0]\n",
            " [  0   0   0   0   0   0   0   0   0   0   0   0   0   0   0   0   0   0\n",
            "    0   0   0   0   0   0   0   0   0   0]\n",
            " [  0   0   0   0   0   0   0   0   0   0   0   0   0   0   0   0   0   0\n",
            "    0   0   0   0   0   0   0   0   0   0]\n",
            " [  0   0   0   0   0   0   0   0   0   0   0   0   0   0   0   0   0   0\n",
            "    0   0   0   0   0   0   0   0   0   0]\n",
            " [  0   0   0   0   0   0   0   0   0   0   0   0   0   0   0   0   0   0\n",
            "    0   0   0   0   0   0   0   0   0   0]\n",
            " [  0   0   0   0   0   0   0   0   0   0   0   0   3  18  18  18 126 136\n",
            "  175  26 166 255 247 127   0   0   0   0]\n",
            " [  0   0   0   0   0   0   0   0  30  36  94 154 170 253 253 253 253 253\n",
            "  225 172 253 242 195  64   0   0   0   0]\n",
            " [  0   0   0   0   0   0   0  49 238 253 253 253 253 253 253 253 253 251\n",
            "   93  82  82  56  39   0   0   0   0   0]\n",
            " [  0   0   0   0   0   0   0  18 219 253 253 253 253 253 198 182 247 241\n",
            "    0   0   0   0   0   0   0   0   0   0]\n",
            " [  0   0   0   0   0   0   0   0  80 156 107 253 253 205  11   0  43 154\n",
            "    0   0   0   0   0   0   0   0   0   0]\n",
            " [  0   0   0   0   0   0   0   0   0  14   1 154 253  90   0   0   0   0\n",
            "    0   0   0   0   0   0   0   0   0   0]\n",
            " [  0   0   0   0   0   0   0   0   0   0   0 139 253 190   2   0   0   0\n",
            "    0   0   0   0   0   0   0   0   0   0]\n",
            " [  0   0   0   0   0   0   0   0   0   0   0  11 190 253  70   0   0   0\n",
            "    0   0   0   0   0   0   0   0   0   0]\n",
            " [  0   0   0   0   0   0   0   0   0   0   0   0  35 241 225 160 108   1\n",
            "    0   0   0   0   0   0   0   0   0   0]\n",
            " [  0   0   0   0   0   0   0   0   0   0   0   0   0  81 240 253 253 119\n",
            "   25   0   0   0   0   0   0   0   0   0]\n",
            " [  0   0   0   0   0   0   0   0   0   0   0   0   0   0  45 186 253 253\n",
            "  150  27   0   0   0   0   0   0   0   0]\n",
            " [  0   0   0   0   0   0   0   0   0   0   0   0   0   0   0  16  93 252\n",
            "  253 187   0   0   0   0   0   0   0   0]\n",
            " [  0   0   0   0   0   0   0   0   0   0   0   0   0   0   0   0   0 249\n",
            "  253 249  64   0   0   0   0   0   0   0]\n",
            " [  0   0   0   0   0   0   0   0   0   0   0   0   0   0  46 130 183 253\n",
            "  253 207   2   0   0   0   0   0   0   0]\n",
            " [  0   0   0   0   0   0   0   0   0   0   0   0  39 148 229 253 253 253\n",
            "  250 182   0   0   0   0   0   0   0   0]\n",
            " [  0   0   0   0   0   0   0   0   0   0  24 114 221 253 253 253 253 201\n",
            "   78   0   0   0   0   0   0   0   0   0]\n",
            " [  0   0   0   0   0   0   0   0  23  66 213 253 253 253 253 198  81   2\n",
            "    0   0   0   0   0   0   0   0   0   0]\n",
            " [  0   0   0   0   0   0  18 171 219 253 253 253 253 195  80   9   0   0\n",
            "    0   0   0   0   0   0   0   0   0   0]\n",
            " [  0   0   0   0  55 172 226 253 253 253 253 244 133  11   0   0   0   0\n",
            "    0   0   0   0   0   0   0   0   0   0]\n",
            " [  0   0   0   0 136 253 253 253 212 135 132  16   0   0   0   0   0   0\n",
            "    0   0   0   0   0   0   0   0   0   0]\n",
            " [  0   0   0   0   0   0   0   0   0   0   0   0   0   0   0   0   0   0\n",
            "    0   0   0   0   0   0   0   0   0   0]\n",
            " [  0   0   0   0   0   0   0   0   0   0   0   0   0   0   0   0   0   0\n",
            "    0   0   0   0   0   0   0   0   0   0]\n",
            " [  0   0   0   0   0   0   0   0   0   0   0   0   0   0   0   0   0   0\n",
            "    0   0   0   0   0   0   0   0   0   0]]\n"
          ],
          "name": "stdout"
        }
      ]
    },
    {
      "cell_type": "code",
      "metadata": {
        "id": "RjfP2UZacC7e",
        "colab_type": "code",
        "colab": {
          "base_uri": "https://localhost:8080/",
          "height": 503
        },
        "outputId": "b6fa9d5a-a42d-4a68-c55c-99d0b0dc59fd"
      },
      "source": [
        "#Prettify the print\n",
        "for i in digit:\n",
        "    print(*i, sep=\" \")"
      ],
      "execution_count": 6,
      "outputs": [
        {
          "output_type": "stream",
          "text": [
            "0 0 0 0 0 0 0 0 0 0 0 0 0 0 0 0 0 0 0 0 0 0 0 0 0 0 0 0\n",
            "0 0 0 0 0 0 0 0 0 0 0 0 0 0 0 0 0 0 0 0 0 0 0 0 0 0 0 0\n",
            "0 0 0 0 0 0 0 0 0 0 0 0 0 0 0 0 0 0 0 0 0 0 0 0 0 0 0 0\n",
            "0 0 0 0 0 0 0 0 0 0 0 0 0 0 0 0 0 0 0 0 0 0 0 0 0 0 0 0\n",
            "0 0 0 0 0 0 0 0 0 0 0 0 0 0 0 0 0 0 0 0 0 0 0 0 0 0 0 0\n",
            "0 0 0 0 0 0 0 0 0 0 0 0 3 18 18 18 126 136 175 26 166 255 247 127 0 0 0 0\n",
            "0 0 0 0 0 0 0 0 30 36 94 154 170 253 253 253 253 253 225 172 253 242 195 64 0 0 0 0\n",
            "0 0 0 0 0 0 0 49 238 253 253 253 253 253 253 253 253 251 93 82 82 56 39 0 0 0 0 0\n",
            "0 0 0 0 0 0 0 18 219 253 253 253 253 253 198 182 247 241 0 0 0 0 0 0 0 0 0 0\n",
            "0 0 0 0 0 0 0 0 80 156 107 253 253 205 11 0 43 154 0 0 0 0 0 0 0 0 0 0\n",
            "0 0 0 0 0 0 0 0 0 14 1 154 253 90 0 0 0 0 0 0 0 0 0 0 0 0 0 0\n",
            "0 0 0 0 0 0 0 0 0 0 0 139 253 190 2 0 0 0 0 0 0 0 0 0 0 0 0 0\n",
            "0 0 0 0 0 0 0 0 0 0 0 11 190 253 70 0 0 0 0 0 0 0 0 0 0 0 0 0\n",
            "0 0 0 0 0 0 0 0 0 0 0 0 35 241 225 160 108 1 0 0 0 0 0 0 0 0 0 0\n",
            "0 0 0 0 0 0 0 0 0 0 0 0 0 81 240 253 253 119 25 0 0 0 0 0 0 0 0 0\n",
            "0 0 0 0 0 0 0 0 0 0 0 0 0 0 45 186 253 253 150 27 0 0 0 0 0 0 0 0\n",
            "0 0 0 0 0 0 0 0 0 0 0 0 0 0 0 16 93 252 253 187 0 0 0 0 0 0 0 0\n",
            "0 0 0 0 0 0 0 0 0 0 0 0 0 0 0 0 0 249 253 249 64 0 0 0 0 0 0 0\n",
            "0 0 0 0 0 0 0 0 0 0 0 0 0 0 46 130 183 253 253 207 2 0 0 0 0 0 0 0\n",
            "0 0 0 0 0 0 0 0 0 0 0 0 39 148 229 253 253 253 250 182 0 0 0 0 0 0 0 0\n",
            "0 0 0 0 0 0 0 0 0 0 24 114 221 253 253 253 253 201 78 0 0 0 0 0 0 0 0 0\n",
            "0 0 0 0 0 0 0 0 23 66 213 253 253 253 253 198 81 2 0 0 0 0 0 0 0 0 0 0\n",
            "0 0 0 0 0 0 18 171 219 253 253 253 253 195 80 9 0 0 0 0 0 0 0 0 0 0 0 0\n",
            "0 0 0 0 55 172 226 253 253 253 253 244 133 11 0 0 0 0 0 0 0 0 0 0 0 0 0 0\n",
            "0 0 0 0 136 253 253 253 212 135 132 16 0 0 0 0 0 0 0 0 0 0 0 0 0 0 0 0\n",
            "0 0 0 0 0 0 0 0 0 0 0 0 0 0 0 0 0 0 0 0 0 0 0 0 0 0 0 0\n",
            "0 0 0 0 0 0 0 0 0 0 0 0 0 0 0 0 0 0 0 0 0 0 0 0 0 0 0 0\n",
            "0 0 0 0 0 0 0 0 0 0 0 0 0 0 0 0 0 0 0 0 0 0 0 0 0 0 0 0\n"
          ],
          "name": "stdout"
        }
      ]
    },
    {
      "cell_type": "markdown",
      "metadata": {
        "id": "R56PXQ6eg6yJ",
        "colab_type": "text"
      },
      "source": [
        "##### **As can be seen above, each image consists of 28x28 grayscale pixels ranging from 0 to 255**"
      ]
    },
    {
      "cell_type": "markdown",
      "metadata": {
        "id": "dAeRX_XUiVIh",
        "colab_type": "text"
      },
      "source": [
        "### **Preparing the input data**\n",
        "\n",
        "For this step we will unroll each input image and convert it into a single dimension matrix. To do this we will reshape our input data images to 784\n",
        "> for example, (60000, 28, 28) --> Reshape --> (60000, 784)  "
      ]
    },
    {
      "cell_type": "code",
      "metadata": {
        "id": "G7Y2IhAbdsih",
        "colab_type": "code",
        "colab": {}
      },
      "source": [
        "x_train = x_train.reshape(60000, 784) # flatten training data\n",
        "x_test = x_test.reshape(10000, 784) # flatten test data"
      ],
      "execution_count": 7,
      "outputs": []
    },
    {
      "cell_type": "code",
      "metadata": {
        "id": "DX7_XYAveNpU",
        "colab_type": "code",
        "colab": {}
      },
      "source": [
        "## change the data type to float\n",
        "x_train = x_train.astype('float')\n",
        "x_test = x_test.astype('float')"
      ],
      "execution_count": 8,
      "outputs": []
    },
    {
      "cell_type": "markdown",
      "metadata": {
        "id": "Xu6Yzs6HlTkt",
        "colab_type": "text"
      },
      "source": [
        "**Normalize the dataset**\n",
        "\n",
        "[here's a good article on normalization](https://arthurdouillard.com/post/normalization/)"
      ]
    },
    {
      "cell_type": "code",
      "metadata": {
        "id": "y_oFFT1JePH8",
        "colab_type": "code",
        "colab": {}
      },
      "source": [
        "## normalize / scale the image data\n",
        "x_train /= 255\n",
        "x_test /= 255"
      ],
      "execution_count": 9,
      "outputs": []
    },
    {
      "cell_type": "code",
      "metadata": {
        "id": "RCTrF5ogkDK7",
        "colab_type": "code",
        "colab": {
          "base_uri": "https://localhost:8080/",
          "height": 52
        },
        "outputId": "e5e9987e-c322-4cc7-c36c-4104afaf7751"
      },
      "source": [
        "## check the data after processing\n",
        "print(x_train.shape, x_test.shape)\n",
        "\n",
        "print(max(x_train[0]), max(x_test[0]))"
      ],
      "execution_count": 10,
      "outputs": [
        {
          "output_type": "stream",
          "text": [
            "(60000, 784) (10000, 784)\n",
            "1.0 1.0\n"
          ],
          "name": "stdout"
        }
      ]
    },
    {
      "cell_type": "markdown",
      "metadata": {
        "id": "YGCuVF0ckmjW",
        "colab_type": "text"
      },
      "source": [
        "#### **Process the labels**\n",
        "Currently the labels are raw and single digit representation. We will need to convert these labels to one-hot encoded matrices. \n",
        "\n",
        ">5 = [0, 0, 0, 0, 0, 1, 0, 0, 0, 0]\n",
        "\n",
        "[Check out one-hot encoding here](https://hackernoon.com/what-is-one-hot-encoding-why-and-when-do-you-have-to-use-it-e3c6186d008f)\n"
      ]
    },
    {
      "cell_type": "code",
      "metadata": {
        "id": "Io03uZmjkSyN",
        "colab_type": "code",
        "colab": {}
      },
      "source": [
        "NUM_CLASSES = 10 \n",
        "\n",
        "y_train = to_categorical(y_train, num_classes=NUM_CLASSES)\n",
        "y_test = to_categorical(y_test, num_classes=NUM_CLASSES)"
      ],
      "execution_count": 11,
      "outputs": []
    },
    {
      "cell_type": "code",
      "metadata": {
        "id": "ySGclqM5m2my",
        "colab_type": "code",
        "colab": {
          "base_uri": "https://localhost:8080/",
          "height": 52
        },
        "outputId": "6bd4fa30-2b7a-4ead-87ee-739a6059461f"
      },
      "source": [
        "print(y_train.shape, y_train[0])\n",
        "print(y_test.shape, y_test[0])"
      ],
      "execution_count": 12,
      "outputs": [
        {
          "output_type": "stream",
          "text": [
            "(60000, 10) [0. 0. 0. 0. 0. 1. 0. 0. 0. 0.]\n",
            "(10000, 10) [0. 0. 0. 0. 0. 0. 0. 1. 0. 0.]\n"
          ],
          "name": "stdout"
        }
      ]
    },
    {
      "cell_type": "markdown",
      "metadata": {
        "id": "68wojrT-oa0M",
        "colab_type": "text"
      },
      "source": [
        "### **Part 2 - Creating the Neural Network**\n",
        "\n",
        "We will use the Sequential class of Keras to build this simple neural network. The Sequential class is pretty popular to quickly stack layers of neural network to build the network  "
      ]
    },
    {
      "cell_type": "code",
      "metadata": {
        "id": "XmPnWyfiqNlQ",
        "colab_type": "code",
        "colab": {}
      },
      "source": [
        "## importing the relevant libraries\n",
        "from tensorflow.keras.models import Sequential\n",
        "from tensorflow.keras.layers import Dense, Activation"
      ],
      "execution_count": 13,
      "outputs": []
    },
    {
      "cell_type": "code",
      "metadata": {
        "id": "jeIfuHvMm-wz",
        "colab_type": "code",
        "colab": {}
      },
      "source": [
        "## create the model instance\n",
        "\n",
        "model = Sequential()"
      ],
      "execution_count": 14,
      "outputs": []
    },
    {
      "cell_type": "code",
      "metadata": {
        "id": "8oTK5ivvqJfJ",
        "colab_type": "code",
        "colab": {}
      },
      "source": [
        "## add first layer \n",
        "\n",
        "model.add(Dense(256, input_shape=(784,))) # make sure you put comma after 784, this represents a tuple, which should be the input for input layer "
      ],
      "execution_count": 15,
      "outputs": []
    },
    {
      "cell_type": "markdown",
      "metadata": {
        "id": "sAkvMk85sHen",
        "colab_type": "text"
      },
      "source": [
        "#### Adding the activation layer can be done in two ways \n",
        "- Use the Actvation layer seperately \n",
        "- Define the activation funtion in the layer itself \n",
        "\n",
        "[Check out this article about activation functions](https://medium.com/the-theory-of-everything/understanding-activation-functions-in-neural-networks-9491262884e0)"
      ]
    },
    {
      "cell_type": "code",
      "metadata": {
        "id": "ThWv9moPrJQb",
        "colab_type": "code",
        "colab": {}
      },
      "source": [
        "## add activation layer\n",
        "model.add(Activation('relu'))"
      ],
      "execution_count": 16,
      "outputs": []
    },
    {
      "cell_type": "code",
      "metadata": {
        "id": "2EPPytDArYxx",
        "colab_type": "code",
        "colab": {}
      },
      "source": [
        "## add second layer along with activation\n",
        "model.add(Dense(256, activation=\"relu\"))"
      ],
      "execution_count": 17,
      "outputs": []
    },
    {
      "cell_type": "code",
      "metadata": {
        "id": "oSjxeipPr0Hb",
        "colab_type": "code",
        "colab": {}
      },
      "source": [
        "## add the last layer\n",
        "model.add(Dense(10, activation=\"softmax\")) ## we have ten output labels"
      ],
      "execution_count": 18,
      "outputs": []
    },
    {
      "cell_type": "code",
      "metadata": {
        "id": "5PxpNTAItJvI",
        "colab_type": "code",
        "colab": {
          "base_uri": "https://localhost:8080/",
          "height": 295
        },
        "outputId": "f11e7d2c-745e-4e98-f315-91eaa7bdfa90"
      },
      "source": [
        "## lets get an overview of the network we put together so far\n",
        "model.summary()"
      ],
      "execution_count": 19,
      "outputs": [
        {
          "output_type": "stream",
          "text": [
            "Model: \"sequential\"\n",
            "_________________________________________________________________\n",
            "Layer (type)                 Output Shape              Param #   \n",
            "=================================================================\n",
            "dense (Dense)                (None, 256)               200960    \n",
            "_________________________________________________________________\n",
            "activation (Activation)      (None, 256)               0         \n",
            "_________________________________________________________________\n",
            "dense_1 (Dense)              (None, 256)               65792     \n",
            "_________________________________________________________________\n",
            "dense_2 (Dense)              (None, 10)                2570      \n",
            "=================================================================\n",
            "Total params: 269,322\n",
            "Trainable params: 269,322\n",
            "Non-trainable params: 0\n",
            "_________________________________________________________________\n"
          ],
          "name": "stdout"
        }
      ]
    },
    {
      "cell_type": "markdown",
      "metadata": {
        "id": "zmSTynCjteMU",
        "colab_type": "text"
      },
      "source": [
        "#### **Whats missing now?**\n",
        "\n",
        "We have the network in place, we have defined the layers, actvations functions and stuff, but, we have not yet defined important **hyperparameters** such as loss function, learning rate, optimizer, and metrics\n",
        "\n",
        "[More about learning rates](https://towardsdatascience.com/understanding-learning-rates-and-how-it-improves-performance-in-deep-learning-d0d4059c1c10)\n",
        "\n",
        "#### **We compile the model to define the hyperparameters, basically, we define model properties and finalise the model**"
      ]
    },
    {
      "cell_type": "code",
      "metadata": {
        "id": "rRBqxyVUtQF8",
        "colab_type": "code",
        "colab": {}
      },
      "source": [
        "## compiling the model\n",
        "model.compile(loss=\"categorical_crossentropy\", optimizer=\"sgd\", metrics=[\"accuracy\"])"
      ],
      "execution_count": 20,
      "outputs": []
    },
    {
      "cell_type": "code",
      "metadata": {
        "id": "Z8SIbGCaves4",
        "colab_type": "code",
        "colab": {
          "base_uri": "https://localhost:8080/",
          "height": 295
        },
        "outputId": "92d99629-1bfa-4752-b32d-dff62cc18ae2"
      },
      "source": [
        "model.summary()"
      ],
      "execution_count": 21,
      "outputs": [
        {
          "output_type": "stream",
          "text": [
            "Model: \"sequential\"\n",
            "_________________________________________________________________\n",
            "Layer (type)                 Output Shape              Param #   \n",
            "=================================================================\n",
            "dense (Dense)                (None, 256)               200960    \n",
            "_________________________________________________________________\n",
            "activation (Activation)      (None, 256)               0         \n",
            "_________________________________________________________________\n",
            "dense_1 (Dense)              (None, 256)               65792     \n",
            "_________________________________________________________________\n",
            "dense_2 (Dense)              (None, 10)                2570      \n",
            "=================================================================\n",
            "Total params: 269,322\n",
            "Trainable params: 269,322\n",
            "Non-trainable params: 0\n",
            "_________________________________________________________________\n"
          ],
          "name": "stdout"
        }
      ]
    },
    {
      "cell_type": "markdown",
      "metadata": {
        "id": "gSXfikOOwcwR",
        "colab_type": "text"
      },
      "source": [
        "### **Part 3 - Training the network**\n",
        "\n",
        "This is the part where we train the network that we have built. "
      ]
    },
    {
      "cell_type": "code",
      "metadata": {
        "id": "N65Xu8-bwG0e",
        "colab_type": "code",
        "colab": {
          "base_uri": "https://localhost:8080/",
          "height": 364
        },
        "outputId": "6cca63ca-6334-49b2-b84c-d5bd9a60ef2a"
      },
      "source": [
        "## Lets first confirm that GPU is available :)\n",
        "!nvidia-smi"
      ],
      "execution_count": 22,
      "outputs": [
        {
          "output_type": "stream",
          "text": [
            "Wed Jul  1 13:57:37 2020       \n",
            "+-----------------------------------------------------------------------------+\n",
            "| NVIDIA-SMI 450.36.06    Driver Version: 418.67       CUDA Version: 10.1     |\n",
            "|-------------------------------+----------------------+----------------------+\n",
            "| GPU  Name        Persistence-M| Bus-Id        Disp.A | Volatile Uncorr. ECC |\n",
            "| Fan  Temp  Perf  Pwr:Usage/Cap|         Memory-Usage | GPU-Util  Compute M. |\n",
            "|                               |                      |               MIG M. |\n",
            "|===============================+======================+======================|\n",
            "|   0  Tesla K80           Off  | 00000000:00:04.0 Off |                    0 |\n",
            "| N/A   52C    P0    70W / 149W |    133MiB / 11441MiB |      0%      Default |\n",
            "|                               |                      |                 ERR! |\n",
            "+-------------------------------+----------------------+----------------------+\n",
            "                                                                               \n",
            "+-----------------------------------------------------------------------------+\n",
            "| Processes:                                                                  |\n",
            "|  GPU   GI   CI        PID   Type   Process name                  GPU Memory |\n",
            "|        ID   ID                                                   Usage      |\n",
            "|=============================================================================|\n",
            "|  No running processes found                                                 |\n",
            "+-----------------------------------------------------------------------------+\n"
          ],
          "name": "stdout"
        }
      ]
    },
    {
      "cell_type": "code",
      "metadata": {
        "id": "i4STE3aVxYnZ",
        "colab_type": "code",
        "colab": {
          "base_uri": "https://localhost:8080/",
          "height": 35
        },
        "outputId": "4756f39c-5bde-4639-c1fa-5c94d35ca997"
      },
      "source": [
        "import tensorflow as tf\n",
        "tf.__version__"
      ],
      "execution_count": 23,
      "outputs": [
        {
          "output_type": "execute_result",
          "data": {
            "application/vnd.google.colaboratory.intrinsic": {
              "type": "string"
            },
            "text/plain": [
              "'2.2.0'"
            ]
          },
          "metadata": {
            "tags": []
          },
          "execution_count": 23
        }
      ]
    },
    {
      "cell_type": "code",
      "metadata": {
        "id": "iCqdz8lxw6Hh",
        "colab_type": "code",
        "colab": {
          "base_uri": "https://localhost:8080/",
          "height": 35
        },
        "outputId": "5d789ec7-3424-49b3-ef9f-ac2141d57167"
      },
      "source": [
        "tf.config.list_physical_devices('GPU')"
      ],
      "execution_count": 24,
      "outputs": [
        {
          "output_type": "execute_result",
          "data": {
            "text/plain": [
              "[PhysicalDevice(name='/physical_device:GPU:0', device_type='GPU')]"
            ]
          },
          "metadata": {
            "tags": []
          },
          "execution_count": 24
        }
      ]
    },
    {
      "cell_type": "markdown",
      "metadata": {
        "id": "VspUhwEIyAUZ",
        "colab_type": "text"
      },
      "source": [
        "#### **Prepare for training**\n",
        "\n",
        "We need to figure out certain parameters like number of epochs, batch_size, and many more.. Lets start with the simplest ones\n",
        "\n",
        "[Article on epochs, batch size, and iterations](https://towardsdatascience.com/epoch-vs-iterations-vs-batch-size-4dfb9c7ce9c9#:~:text=the%20data%20given.-,Epochs,it%20in%20several%20smaller%20batches.)"
      ]
    },
    {
      "cell_type": "code",
      "metadata": {
        "id": "5MZ35e0My472",
        "colab_type": "code",
        "colab": {}
      },
      "source": [
        "EPOCHS = 10\n",
        "BATCH_SIZE = 128"
      ],
      "execution_count": 25,
      "outputs": []
    },
    {
      "cell_type": "code",
      "metadata": {
        "id": "0Yohz404xWuq",
        "colab_type": "code",
        "colab": {
          "base_uri": "https://localhost:8080/",
          "height": 364
        },
        "outputId": "65f3e2f4-f57e-41fd-9dd9-4e6cfbe27d4f"
      },
      "source": [
        "history = model.fit(  ## we save the training result in history variable\n",
        "    x=x_train,  ## training images \n",
        "    y=y_train,  ## training labels\n",
        "    epochs=EPOCHS,  ## number of epochs\n",
        "    batch_size=BATCH_SIZE,  ## define the batch size\n",
        "    shuffle=True,   ## lets shuffle the inputs\n",
        "    validation_split=0.2 ## 20% training data will be used as validation data\n",
        ")"
      ],
      "execution_count": 26,
      "outputs": [
        {
          "output_type": "stream",
          "text": [
            "Epoch 1/10\n",
            "375/375 [==============================] - 2s 5ms/step - loss: 1.2945 - accuracy: 0.6843 - val_loss: 0.6417 - val_accuracy: 0.8573\n",
            "Epoch 2/10\n",
            "375/375 [==============================] - 2s 4ms/step - loss: 0.5386 - accuracy: 0.8653 - val_loss: 0.4211 - val_accuracy: 0.8929\n",
            "Epoch 3/10\n",
            "375/375 [==============================] - 2s 4ms/step - loss: 0.4119 - accuracy: 0.8888 - val_loss: 0.3550 - val_accuracy: 0.9054\n",
            "Epoch 4/10\n",
            "375/375 [==============================] - 2s 4ms/step - loss: 0.3604 - accuracy: 0.9005 - val_loss: 0.3213 - val_accuracy: 0.9120\n",
            "Epoch 5/10\n",
            "375/375 [==============================] - 2s 4ms/step - loss: 0.3299 - accuracy: 0.9072 - val_loss: 0.3006 - val_accuracy: 0.9168\n",
            "Epoch 6/10\n",
            "375/375 [==============================] - 2s 4ms/step - loss: 0.3084 - accuracy: 0.9133 - val_loss: 0.2838 - val_accuracy: 0.9215\n",
            "Epoch 7/10\n",
            "375/375 [==============================] - 2s 5ms/step - loss: 0.2915 - accuracy: 0.9170 - val_loss: 0.2698 - val_accuracy: 0.9244\n",
            "Epoch 8/10\n",
            "375/375 [==============================] - 2s 5ms/step - loss: 0.2772 - accuracy: 0.9215 - val_loss: 0.2608 - val_accuracy: 0.9273\n",
            "Epoch 9/10\n",
            "375/375 [==============================] - 2s 5ms/step - loss: 0.2651 - accuracy: 0.9249 - val_loss: 0.2499 - val_accuracy: 0.9298\n",
            "Epoch 10/10\n",
            "375/375 [==============================] - 2s 4ms/step - loss: 0.2543 - accuracy: 0.9281 - val_loss: 0.2419 - val_accuracy: 0.9314\n"
          ],
          "name": "stdout"
        }
      ]
    },
    {
      "cell_type": "code",
      "metadata": {
        "id": "mkPls_SmyeA_",
        "colab_type": "code",
        "colab": {
          "base_uri": "https://localhost:8080/",
          "height": 35
        },
        "outputId": "cb6878ae-e94e-4f8a-b6ee-a52b468ffb0b"
      },
      "source": [
        "## check out the result\n",
        "print(history.history.keys())"
      ],
      "execution_count": 27,
      "outputs": [
        {
          "output_type": "stream",
          "text": [
            "dict_keys(['loss', 'accuracy', 'val_loss', 'val_accuracy'])\n"
          ],
          "name": "stdout"
        }
      ]
    },
    {
      "cell_type": "code",
      "metadata": {
        "id": "Vg3Skr0W2LKc",
        "colab_type": "code",
        "colab": {
          "base_uri": "https://localhost:8080/",
          "height": 107
        },
        "outputId": "0d84667a-5b76-45f2-fa17-4aff263d0d8e"
      },
      "source": [
        "for i in history.history.keys():\n",
        "  print(history.history[i])"
      ],
      "execution_count": 28,
      "outputs": [
        {
          "output_type": "stream",
          "text": [
            "[1.2945365905761719, 0.5386118292808533, 0.4118572473526001, 0.36038127541542053, 0.3299453854560852, 0.30840611457824707, 0.2915361225605011, 0.2772360146045685, 0.2651374042034149, 0.2543209493160248]\n",
            "[0.6842708587646484, 0.8653333187103271, 0.8888333439826965, 0.9004583358764648, 0.9072291851043701, 0.9132708311080933, 0.916979193687439, 0.921541690826416, 0.9248541593551636, 0.9280833601951599]\n",
            "[0.6416988372802734, 0.42112287878990173, 0.3549993634223938, 0.321270614862442, 0.3006197214126587, 0.2838347554206848, 0.26983773708343506, 0.26079368591308594, 0.24994391202926636, 0.24188682436943054]\n",
            "[0.8573333621025085, 0.8929166793823242, 0.9054166674613953, 0.9120000004768372, 0.9167500138282776, 0.921500027179718, 0.9244166612625122, 0.9273333549499512, 0.9297500252723694, 0.9314166903495789]\n"
          ],
          "name": "stdout"
        }
      ]
    },
    {
      "cell_type": "markdown",
      "metadata": {
        "id": "kacFyC6D2ijn",
        "colab_type": "text"
      },
      "source": [
        "#### **Plotting the result**"
      ]
    },
    {
      "cell_type": "code",
      "metadata": {
        "id": "7IGK5uu62eHq",
        "colab_type": "code",
        "colab": {
          "base_uri": "https://localhost:8080/",
          "height": 297
        },
        "outputId": "0eff6fd1-0c5c-4322-dff4-08bfd6665245"
      },
      "source": [
        "plt.style.use('ggplot') ## use ggplot style sheet. Its just prettier :)\n",
        "\n",
        "fig = plt.figure(figsize=(10, 4))\n",
        "## accuracy plot\n",
        "plt.subplot(1, 2, 1)\n",
        "plt.plot(history.history['accuracy'])\n",
        "plt.plot(history.history['val_accuracy'])\n",
        "plt.title('Accuracy of Model')\n",
        "plt.xlabel('Epochs')\n",
        "plt.ylabel('Accuracy')\n",
        "plt.legend(['train', 'test'], loc='lower right')\n",
        "\n",
        "## loss plot\n",
        "plt.subplot(1, 2, 2)\n",
        "plt.plot(history.history['loss'])\n",
        "plt.plot(history.history['val_loss'])\n",
        "plt.title('Loss of Model')\n",
        "plt.xlabel('Epochs')\n",
        "plt.ylabel('Loss')\n",
        "plt.legend(['train', 'test'], loc='upper right')\n",
        "\n",
        "plt.tight_layout()\n",
        "\n",
        "fig.show();"
      ],
      "execution_count": 29,
      "outputs": [
        {
          "output_type": "display_data",
          "data": {
            "image/png": "[encoded data removed]",
            "text/plain": [
              "<Figure size 720x288 with 2 Axes>"
            ]
          },
          "metadata": {
            "tags": []
          }
        }
      ]
    },
    {
      "cell_type": "markdown",
      "metadata": {
        "id": "mqsOVw4lBa8h",
        "colab_type": "text"
      },
      "source": [
        "#### **Saving and loading the model**\n",
        "\n",
        "Models can be saved in two ways\n",
        "1. Whole models\n",
        "  - Whole models can be saved using model.save() or tf.keras.models.save_model() function.\n",
        "  - Models are saved in the TF SavedModel format by default\n",
        "  - Models are saved as HDF5 files if the specified format is 'h5' or file extension is '.h5' \n",
        "  >[Read about HDF5 for Python here](http://docs.h5py.org/en/stable/)\n",
        "\n",
        "2. Saving the architecture and weights separately\n",
        "   - Save the model architecture as JSON or YAML\n",
        "   - Save the model weights as HDF5 files\n"
      ]
    },
    {
      "cell_type": "code",
      "metadata": {
        "id": "WoDtOYQb2bMa",
        "colab_type": "code",
        "colab": {}
      },
      "source": [
        "## lets create a folder to save the model \n",
        "!mkdir -p models"
      ],
      "execution_count": 30,
      "outputs": []
    },
    {
      "cell_type": "code",
      "metadata": {
        "id": "PvDDgPy5DjDD",
        "colab_type": "code",
        "colab": {}
      },
      "source": [
        "## lets save the whole model as hdf5 file\n",
        "model.save(\"models/model_basic_v1.h5\")"
      ],
      "execution_count": 31,
      "outputs": []
    },
    {
      "cell_type": "code",
      "metadata": {
        "id": "t35y64atF7Sb",
        "colab_type": "code",
        "colab": {
          "base_uri": "https://localhost:8080/",
          "height": 35
        },
        "outputId": "5225892f-b35c-4123-ddbd-de4e34b4ac66"
      },
      "source": [
        "## check saved model\n",
        "!ls models"
      ],
      "execution_count": 32,
      "outputs": [
        {
          "output_type": "stream",
          "text": [
            "model_basic_v1.h5\n"
          ],
          "name": "stdout"
        }
      ]
    },
    {
      "cell_type": "code",
      "metadata": {
        "id": "G0Cjh8M-Gs9K",
        "colab_type": "code",
        "colab": {}
      },
      "source": [
        "## load saved model\n",
        "model_loaded = tf.keras.models.load_model(\"models/model_basic_v1.h5\")"
      ],
      "execution_count": 33,
      "outputs": []
    },
    {
      "cell_type": "code",
      "metadata": {
        "id": "P-s3BKKrHMVI",
        "colab_type": "code",
        "colab": {
          "base_uri": "https://localhost:8080/",
          "height": 295
        },
        "outputId": "c9bea0fc-fabb-44f2-946b-7468cf3baf47"
      },
      "source": [
        "model_loaded.summary()"
      ],
      "execution_count": 34,
      "outputs": [
        {
          "output_type": "stream",
          "text": [
            "Model: \"sequential\"\n",
            "_________________________________________________________________\n",
            "Layer (type)                 Output Shape              Param #   \n",
            "=================================================================\n",
            "dense (Dense)                (None, 256)               200960    \n",
            "_________________________________________________________________\n",
            "activation (Activation)      (None, 256)               0         \n",
            "_________________________________________________________________\n",
            "dense_1 (Dense)              (None, 256)               65792     \n",
            "_________________________________________________________________\n",
            "dense_2 (Dense)              (None, 10)                2570      \n",
            "=================================================================\n",
            "Total params: 269,322\n",
            "Trainable params: 269,322\n",
            "Non-trainable params: 0\n",
            "_________________________________________________________________\n"
          ],
          "name": "stdout"
        }
      ]
    },
    {
      "cell_type": "code",
      "metadata": {
        "id": "GcKB8x_UHPI4",
        "colab_type": "code",
        "colab": {}
      },
      "source": [
        "## lets serialize and save the model architecture and weights separately\n",
        "## we will use that in next section\n",
        "model_json = model.to_json()\n",
        "\n",
        "with open(\"models/model_arch_v1.json\", \"w\") as json_file:\n",
        "  json_file.write(model_json)\n",
        "\n",
        "## serialize and save weights to HDF5\n",
        "model.save_weights(\"models/model_weights_v1.h5\")"
      ],
      "execution_count": 35,
      "outputs": []
    },
    {
      "cell_type": "code",
      "metadata": {
        "id": "nZtzVyHzIs_2",
        "colab_type": "code",
        "colab": {
          "base_uri": "https://localhost:8080/",
          "height": 35
        },
        "outputId": "3b974f00-7bc6-4bca-ef6a-6f8ea85bbeb8"
      },
      "source": [
        "!ls models"
      ],
      "execution_count": 36,
      "outputs": [
        {
          "output_type": "stream",
          "text": [
            "model_arch_v1.json  model_basic_v1.h5  model_weights_v1.h5\n"
          ],
          "name": "stdout"
        }
      ]
    },
    {
      "cell_type": "markdown",
      "metadata": {
        "id": "cZxCEQ8fJQav",
        "colab_type": "text"
      },
      "source": [
        "### **Lets add some callbacks to make it do stuff for us**"
      ]
    },
    {
      "cell_type": "code",
      "metadata": {
        "id": "gO7QjqG3IuT_",
        "colab_type": "code",
        "colab": {}
      },
      "source": [
        "## lets load the model architecture so we can train new model from scratch\n",
        "with open('models/model_arch_v1.json', 'r') as json_file:\n",
        "  model_v2_json = json_file.read()\n",
        "\n",
        "model_v2 = tf.keras.models.model_from_json(model_v2_json)"
      ],
      "execution_count": 37,
      "outputs": []
    },
    {
      "cell_type": "code",
      "metadata": {
        "id": "5UtzV8xGQi_Z",
        "colab_type": "code",
        "colab": {
          "base_uri": "https://localhost:8080/",
          "height": 295
        },
        "outputId": "4eb1e5d6-4e1d-4123-8e7b-7666e8ca1230"
      },
      "source": [
        "model.summary()"
      ],
      "execution_count": 38,
      "outputs": [
        {
          "output_type": "stream",
          "text": [
            "Model: \"sequential\"\n",
            "_________________________________________________________________\n",
            "Layer (type)                 Output Shape              Param #   \n",
            "=================================================================\n",
            "dense (Dense)                (None, 256)               200960    \n",
            "_________________________________________________________________\n",
            "activation (Activation)      (None, 256)               0         \n",
            "_________________________________________________________________\n",
            "dense_1 (Dense)              (None, 256)               65792     \n",
            "_________________________________________________________________\n",
            "dense_2 (Dense)              (None, 10)                2570      \n",
            "=================================================================\n",
            "Total params: 269,322\n",
            "Trainable params: 269,322\n",
            "Non-trainable params: 0\n",
            "_________________________________________________________________\n"
          ],
          "name": "stdout"
        }
      ]
    },
    {
      "cell_type": "code",
      "metadata": {
        "id": "jRF51jCfQiuI",
        "colab_type": "code",
        "colab": {}
      },
      "source": [
        "## import callbacks from keras\n",
        "from tensorflow.keras.callbacks import EarlyStopping, ModelCheckpoint, CSVLogger"
      ],
      "execution_count": 39,
      "outputs": []
    },
    {
      "cell_type": "code",
      "metadata": {
        "id": "0oqSDRh6RLke",
        "colab_type": "code",
        "colab": {}
      },
      "source": [
        "## early stopping callback\n",
        "earlystop = EarlyStopping(\n",
        "    patience=3,\n",
        "    monitor='val_loss',\n",
        "    mode='min',\n",
        "    verbose=1\n",
        ")"
      ],
      "execution_count": 40,
      "outputs": []
    },
    {
      "cell_type": "code",
      "metadata": {
        "id": "wyiIQzC-SBwl",
        "colab_type": "code",
        "colab": {}
      },
      "source": [
        "## model check pointing callback\n",
        "checkpoint = ModelCheckpoint(\n",
        "    filepath=\"models/model_best_v3.h5\",\n",
        "    monitor=\"val_loss\",\n",
        "    save_best_only=True,\n",
        "    mode='min',\n",
        "    verbose=1\n",
        "    )"
      ],
      "execution_count": 41,
      "outputs": []
    },
    {
      "cell_type": "code",
      "metadata": {
        "id": "EPUzbPoqTBnL",
        "colab_type": "code",
        "colab": {}
      },
      "source": [
        "## csvlogger callback\n",
        "!mkdir -p csvlogs\n",
        "\n",
        "cvslogs = CSVLogger(\n",
        "    filename=\"csvlogs/training_log_v3.log\"\n",
        ")"
      ],
      "execution_count": 42,
      "outputs": []
    },
    {
      "cell_type": "code",
      "metadata": {
        "id": "tvDcmin9VO_Q",
        "colab_type": "code",
        "colab": {}
      },
      "source": [
        "callbacks = [earlystop, checkpoint, cvslogs]"
      ],
      "execution_count": 43,
      "outputs": []
    },
    {
      "cell_type": "markdown",
      "metadata": {
        "id": "dbopbYUiV6wF",
        "colab_type": "text"
      },
      "source": [
        "#### Lets add optimizer with a different learning rate as well "
      ]
    },
    {
      "cell_type": "code",
      "metadata": {
        "id": "im831gz-VQC0",
        "colab_type": "code",
        "colab": {}
      },
      "source": [
        "from tensorflow.keras.optimizers import SGD"
      ],
      "execution_count": 44,
      "outputs": []
    },
    {
      "cell_type": "code",
      "metadata": {
        "id": "t1yDedWYWOKB",
        "colab_type": "code",
        "colab": {}
      },
      "source": [
        "optimizer = SGD(learning_rate=0.001)"
      ],
      "execution_count": 45,
      "outputs": []
    },
    {
      "cell_type": "code",
      "metadata": {
        "id": "bWeZ83LWWN_o",
        "colab_type": "code",
        "colab": {}
      },
      "source": [
        "## model compile\n",
        "model_v2.compile(\n",
        "    optimizer=optimizer,\n",
        "    loss='categorical_crossentropy',\n",
        "    metrics=['accuracy'],\n",
        ")"
      ],
      "execution_count": 46,
      "outputs": []
    },
    {
      "cell_type": "code",
      "metadata": {
        "id": "JGajTed7WNzY",
        "colab_type": "code",
        "colab": {
          "base_uri": "https://localhost:8080/",
          "height": 711
        },
        "outputId": "d1f0c31a-67ab-4bad-8634-e46715a859ef"
      },
      "source": [
        "## train the model with callbacks\n",
        "history2 = model_v2.fit(\n",
        "    x=x_train,\n",
        "    y=y_train,\n",
        "    batch_size=BATCH_SIZE,\n",
        "    epochs=EPOCHS,\n",
        "    callbacks=callbacks,\n",
        "    validation_split=0.2,\n",
        "    shuffle=True\n",
        ")"
      ],
      "execution_count": 47,
      "outputs": [
        {
          "output_type": "stream",
          "text": [
            "Epoch 1/10\n",
            "367/375 [============================>.] - ETA: 0s - loss: 2.2096 - accuracy: 0.2478\n",
            "Epoch 00001: val_loss improved from inf to 2.09311, saving model to models/model_best_v3.h5\n",
            "375/375 [==============================] - 2s 5ms/step - loss: 2.2074 - accuracy: 0.2504 - val_loss: 2.0931 - val_accuracy: 0.3863\n",
            "Epoch 2/10\n",
            "375/375 [==============================] - ETA: 0s - loss: 1.9936 - accuracy: 0.4791\n",
            "Epoch 00002: val_loss improved from 2.09311 to 1.87558, saving model to models/model_best_v3.h5\n",
            "375/375 [==============================] - 2s 4ms/step - loss: 1.9936 - accuracy: 0.4791 - val_loss: 1.8756 - val_accuracy: 0.5729\n",
            "Epoch 3/10\n",
            "361/375 [===========================>..] - ETA: 0s - loss: 1.7773 - accuracy: 0.6115\n",
            "Epoch 00003: val_loss improved from 1.87558 to 1.64323, saving model to models/model_best_v3.h5\n",
            "375/375 [==============================] - 2s 4ms/step - loss: 1.7727 - accuracy: 0.6136 - val_loss: 1.6432 - val_accuracy: 0.6753\n",
            "Epoch 4/10\n",
            "368/375 [============================>.] - ETA: 0s - loss: 1.5451 - accuracy: 0.6928\n",
            "Epoch 00004: val_loss improved from 1.64323 to 1.40918, saving model to models/model_best_v3.h5\n",
            "375/375 [==============================] - 2s 4ms/step - loss: 1.5432 - accuracy: 0.6935 - val_loss: 1.4092 - val_accuracy: 0.7465\n",
            "Epoch 5/10\n",
            "365/375 [============================>.] - ETA: 0s - loss: 1.3263 - accuracy: 0.7496\n",
            "Epoch 00005: val_loss improved from 1.40918 to 1.19661, saving model to models/model_best_v3.h5\n",
            "375/375 [==============================] - 2s 4ms/step - loss: 1.3239 - accuracy: 0.7498 - val_loss: 1.1966 - val_accuracy: 0.7936\n",
            "Epoch 6/10\n",
            "375/375 [==============================] - ETA: 0s - loss: 1.1344 - accuracy: 0.7851\n",
            "Epoch 00006: val_loss improved from 1.19661 to 1.02176, saving model to models/model_best_v3.h5\n",
            "375/375 [==============================] - 2s 4ms/step - loss: 1.1344 - accuracy: 0.7851 - val_loss: 1.0218 - val_accuracy: 0.8194\n",
            "Epoch 7/10\n",
            "362/375 [===========================>..] - ETA: 0s - loss: 0.9858 - accuracy: 0.8069\n",
            "Epoch 00007: val_loss improved from 1.02176 to 0.88662, saving model to models/model_best_v3.h5\n",
            "375/375 [==============================] - 2s 4ms/step - loss: 0.9835 - accuracy: 0.8074 - val_loss: 0.8866 - val_accuracy: 0.8328\n",
            "Epoch 8/10\n",
            "361/375 [===========================>..] - ETA: 0s - loss: 0.8708 - accuracy: 0.8228\n",
            "Epoch 00008: val_loss improved from 0.88662 to 0.78461, saving model to models/model_best_v3.h5\n",
            "375/375 [==============================] - 2s 4ms/step - loss: 0.8682 - accuracy: 0.8232 - val_loss: 0.7846 - val_accuracy: 0.8428\n",
            "Epoch 9/10\n",
            "370/375 [============================>.] - ETA: 0s - loss: 0.7809 - accuracy: 0.8322\n",
            "Epoch 00009: val_loss improved from 0.78461 to 0.70742, saving model to models/model_best_v3.h5\n",
            "375/375 [==============================] - 2s 4ms/step - loss: 0.7806 - accuracy: 0.8324 - val_loss: 0.7074 - val_accuracy: 0.8533\n",
            "Epoch 10/10\n",
            "375/375 [==============================] - ETA: 0s - loss: 0.7133 - accuracy: 0.8426\n",
            "Epoch 00010: val_loss improved from 0.70742 to 0.64778, saving model to models/model_best_v3.h5\n",
            "375/375 [==============================] - 2s 4ms/step - loss: 0.7133 - accuracy: 0.8426 - val_loss: 0.6478 - val_accuracy: 0.8618\n"
          ],
          "name": "stdout"
        }
      ]
    },
    {
      "cell_type": "code",
      "metadata": {
        "colab_type": "code",
        "id": "PBM8Hk2FsCuc",
        "colab": {}
      },
      "source": [
        "## lets first create a function to plot loss and accuracy\n",
        "\n",
        "def plot_history(history):\n",
        "  fig = plt.figure(figsize=(10, 4))\n",
        "  ## accuracy plot\n",
        "  plt.subplot(1, 2, 1)\n",
        "  plt.plot(history.history['accuracy'])\n",
        "  plt.plot(history.history['val_accuracy'])\n",
        "  plt.title('Accuracy of Model 2')\n",
        "  plt.xlabel('Epochs')\n",
        "  plt.ylabel('Accuracy')\n",
        "  plt.legend(['train', 'test'], loc='lower right')\n",
        "\n",
        "  ## loss plot\n",
        "  plt.subplot(1, 2, 2)\n",
        "  plt.plot(history2.history['loss'])\n",
        "  plt.plot(history2.history['val_loss'])\n",
        "  plt.title('Loss of Model 2')\n",
        "  plt.xlabel('Epochs')\n",
        "  plt.ylabel('Loss')\n",
        "  plt.legend(['train', 'test'], loc='upper right')\n",
        "\n",
        "  plt.tight_layout()\n",
        "\n",
        "  fig.show();"
      ],
      "execution_count": 49,
      "outputs": []
    },
    {
      "cell_type": "code",
      "metadata": {
        "id": "vW99uGlTsD5x",
        "colab_type": "code",
        "colab": {
          "base_uri": "https://localhost:8080/",
          "height": 297
        },
        "outputId": "ea363266-93e6-4a8f-9ff6-520b906e47b9"
      },
      "source": [
        "plot_history(history2)"
      ],
      "execution_count": 50,
      "outputs": [
        {
          "output_type": "display_data",
          "data": {
            "image/png": "[encoded data removed]",
            "text/plain": [
              "<Figure size 720x288 with 2 Axes>"
            ]
          },
          "metadata": {
            "tags": []
          }
        }
      ]
    },
    {
      "cell_type": "markdown",
      "metadata": {
        "id": "XiX2bw4XrRDK",
        "colab_type": "text"
      },
      "source": [
        "### **Testing and Evaluating the model**"
      ]
    },
    {
      "cell_type": "code",
      "metadata": {
        "id": "KpCgTe_obNo4",
        "colab_type": "code",
        "colab": {}
      },
      "source": [
        "## lets start withmaking a few prediction\n",
        "SAMPLES = 6 # test 6 samples from x_test\n",
        "\n",
        "predictions = model_v2.predict(x_test[:SAMPLES]) ## actual prediction\n",
        "\n",
        "# old function\n",
        "prediction_classes = model_v2.predict_classes(x_test[:SAMPLES])  ## class predictions old function now deprecated"
      ],
      "execution_count": 54,
      "outputs": []
    },
    {
      "cell_type": "code",
      "metadata": {
        "id": "1fOcZJwEbOwj",
        "colab_type": "code",
        "colab": {
          "base_uri": "https://localhost:8080/",
          "height": 433
        },
        "outputId": "90e04f76-3299-4a58-b68d-cab041046a10"
      },
      "source": [
        "print(predictions)\n",
        "print(predictions.round(2))"
      ],
      "execution_count": 59,
      "outputs": [
        {
          "output_type": "stream",
          "text": [
            "[[6.35794736e-03 1.65769667e-03 7.89082702e-03 1.57757569e-02\n",
            "  1.24972761e-02 1.17959147e-02 1.61792792e-03 8.55149150e-01\n",
            "  1.02492310e-02 7.70082101e-02]\n",
            " [1.21961296e-01 8.79726280e-03 4.56242114e-01 1.24355718e-01\n",
            "  1.63617730e-03 1.11843459e-01 7.49568194e-02 1.10196834e-03\n",
            "  9.81919318e-02 9.13338677e-04]\n",
            " [3.30109545e-03 8.23105752e-01 4.51493561e-02 2.16083843e-02\n",
            "  1.11856675e-02 8.56123865e-03 1.79967936e-02 1.73893087e-02\n",
            "  3.87109816e-02 1.29915122e-02]\n",
            " [9.46298063e-01 6.98552685e-05 6.06244942e-03 4.25364682e-03\n",
            "  6.84353872e-04 2.11184788e-02 1.43791744e-02 3.83435679e-03\n",
            "  2.33546109e-03 9.64155886e-04]\n",
            " [1.45688001e-02 2.69638863e-03 3.61199714e-02 1.12414332e-02\n",
            "  6.52290046e-01 2.48063374e-02 4.78711240e-02 4.77348454e-02\n",
            "  2.45824941e-02 1.38088524e-01]\n",
            " [7.74722081e-04 9.14938807e-01 1.83771048e-02 1.30132800e-02\n",
            "  5.04194386e-03 2.98887980e-03 3.20653105e-03 1.28204077e-02\n",
            "  2.13498995e-02 7.48858228e-03]]\n",
            "[[0.01 0.   0.01 0.02 0.01 0.01 0.   0.86 0.01 0.08]\n",
            " [0.12 0.01 0.46 0.12 0.   0.11 0.07 0.   0.1  0.  ]\n",
            " [0.   0.82 0.05 0.02 0.01 0.01 0.02 0.02 0.04 0.01]\n",
            " [0.95 0.   0.01 0.   0.   0.02 0.01 0.   0.   0.  ]\n",
            " [0.01 0.   0.04 0.01 0.65 0.02 0.05 0.05 0.02 0.14]\n",
            " [0.   0.91 0.02 0.01 0.01 0.   0.   0.01 0.02 0.01]]\n"
          ],
          "name": "stdout"
        }
      ]
    },
    {
      "cell_type": "code",
      "metadata": {
        "id": "SYAV7PGowKnt",
        "colab_type": "code",
        "colab": {
          "base_uri": "https://localhost:8080/",
          "height": 35
        },
        "outputId": "4c15d7f1-a9e6-4c5f-d2d4-7e97f5eee885"
      },
      "source": [
        "prediction_classes = np.argmax(predictions, axis=-1)\n",
        "print(prediction_classes)"
      ],
      "execution_count": 61,
      "outputs": [
        {
          "output_type": "stream",
          "text": [
            "[7 2 1 0 4 1]\n"
          ],
          "name": "stdout"
        }
      ]
    },
    {
      "cell_type": "code",
      "metadata": {
        "id": "hKjqmMbCxdu8",
        "colab_type": "code",
        "colab": {
          "base_uri": "https://localhost:8080/",
          "height": 121
        },
        "outputId": "712e1e21-8ed6-421e-be4b-de5d84023cf1"
      },
      "source": [
        "## now lets check the actual labels from y_test\n",
        "print(y_test[:SAMPLES])"
      ],
      "execution_count": 62,
      "outputs": [
        {
          "output_type": "stream",
          "text": [
            "[[0. 0. 0. 0. 0. 0. 0. 1. 0. 0.]\n",
            " [0. 0. 1. 0. 0. 0. 0. 0. 0. 0.]\n",
            " [0. 1. 0. 0. 0. 0. 0. 0. 0. 0.]\n",
            " [1. 0. 0. 0. 0. 0. 0. 0. 0. 0.]\n",
            " [0. 0. 0. 0. 1. 0. 0. 0. 0. 0.]\n",
            " [0. 1. 0. 0. 0. 0. 0. 0. 0. 0.]]\n"
          ],
          "name": "stdout"
        }
      ]
    },
    {
      "cell_type": "code",
      "metadata": {
        "id": "5AROZdIaxz0T",
        "colab_type": "code",
        "colab": {
          "base_uri": "https://localhost:8080/",
          "height": 35
        },
        "outputId": "f91504c2-b626-4fc4-80d3-d8ad23133638"
      },
      "source": [
        "## extract the labels classes from y_test\n",
        "actual_classes = np.argmax(y_test[:SAMPLES], axis=-1)\n",
        "print(actual_classes)"
      ],
      "execution_count": 64,
      "outputs": [
        {
          "output_type": "stream",
          "text": [
            "[7 2 1 0 4 1]\n"
          ],
          "name": "stdout"
        }
      ]
    },
    {
      "cell_type": "markdown",
      "metadata": {
        "id": "jHX_xGpdybtI",
        "colab_type": "text"
      },
      "source": [
        "#### **Now lets do that with all the test images**"
      ]
    },
    {
      "cell_type": "code",
      "metadata": {
        "id": "ewGq6mKDyN4M",
        "colab_type": "code",
        "colab": {
          "base_uri": "https://localhost:8080/",
          "height": 35
        },
        "outputId": "fb44a182-3c75-4b13-bdf0-77d98decd319"
      },
      "source": [
        "score = model_v2.evaluate(x_test, y_test, return_dict=True)"
      ],
      "execution_count": 67,
      "outputs": [
        {
          "output_type": "stream",
          "text": [
            "313/313 [==============================] - 1s 3ms/step - loss: 0.6481 - accuracy: 0.8626\n"
          ],
          "name": "stdout"
        }
      ]
    },
    {
      "cell_type": "code",
      "metadata": {
        "id": "xwq748ZuzH8E",
        "colab_type": "code",
        "colab": {
          "base_uri": "https://localhost:8080/",
          "height": 35
        },
        "outputId": "c0f28579-b00c-49d7-b595-2b09b62927e3"
      },
      "source": [
        "score"
      ],
      "execution_count": 68,
      "outputs": [
        {
          "output_type": "execute_result",
          "data": {
            "text/plain": [
              "{'accuracy': 0.8626000285148621, 'loss': 0.6481156945228577}"
            ]
          },
          "metadata": {
            "tags": []
          },
          "execution_count": 68
        }
      ]
    },
    {
      "cell_type": "markdown",
      "metadata": {
        "id": "eNSb0qwa0OJy",
        "colab_type": "text"
      },
      "source": [
        "### **Visualize the predictions**"
      ]
    },
    {
      "cell_type": "code",
      "metadata": {
        "id": "Sinr1WHvzJi1",
        "colab_type": "code",
        "colab": {}
      },
      "source": [
        "def show_images(samples, predicted):\n",
        "  fig = plt.figure(figsize=(6, 6))\n",
        "  for i, image in enumerate(samples):\n",
        "    plt.subplot(3, 3, i+1)\n",
        "    image = image.reshape(28, 28) * 255\n",
        "    plt.imshow(image, cmap='gray', interpolation='none')\n",
        "    plt.title(f\"Predicted {predicted[i]}\")\n",
        "    plt.grid(False)\n",
        "    plt.xticks([])\n",
        "\n",
        "  plt.tight_layout()\n",
        "  fig.show();"
      ],
      "execution_count": 83,
      "outputs": []
    },
    {
      "cell_type": "code",
      "metadata": {
        "id": "hpccnN1Q1-K1",
        "colab_type": "code",
        "colab": {
          "base_uri": "https://localhost:8080/",
          "height": 303
        },
        "outputId": "180006d2-b3ef-47c7-d1e5-02bd02b51cd3"
      },
      "source": [
        "show_images(x_test[:SAMPLES], prediction_classes)"
      ],
      "execution_count": 84,
      "outputs": [
        {
          "output_type": "display_data",
          "data": {
            "image/png": "[encoded data removed]",
            "text/plain": [
              "<Figure size 432x432 with 6 Axes>"
            ]
          },
          "metadata": {
            "tags": []
          }
        }
      ]
    },
    {
      "cell_type": "code",
      "metadata": {
        "id": "ZIDf0qv-3nlT",
        "colab_type": "code",
        "colab": {}
      },
      "source": [
        ""
      ],
      "execution_count": null,
      "outputs": []
    }
  ]
}