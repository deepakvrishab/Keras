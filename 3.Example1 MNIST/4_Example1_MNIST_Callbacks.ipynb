{
  "nbformat": 4,
  "nbformat_minor": 0,
  "metadata": {
    "colab": {
      "name": "4.Example1_MNIST_Callbacks.ipynb",
      "provenance": [],
      "collapsed_sections": []
    },
    "kernelspec": {
      "name": "python3",
      "display_name": "Python 3"
    },
    "accelerator": "GPU"
  },
  "cells": [
    {
      "cell_type": "markdown",
      "metadata": {
        "id": "16q4Ay7e5tgZ",
        "colab_type": "text"
      },
      "source": [
        "## **Simple Neural Network with Keras and TensorFlow 2**\n",
        "\n",
        "As first hands-on example of the course, the goal is to give a thorough understanding of the end-to-end deep learning cycle with Keras in a simple way. \n",
        "\n",
        "In this example you will deal with a very simple and popular example dataset called MNIST, which comes inbuilt with Keras. [You can read all about the dataset here](http://yann.lecun.com/exdb/mnist/)\n",
        "\n",
        "This example is divided into the following parts:\n",
        "1. Preprocessing the data\n",
        "2. Creating the simple densely connected model\n",
        "3. Training the model\n",
        "4. Adding callbacks\n",
        "5. Testing and evaluating the model\n",
        "6. Improving the performance\n",
        "\n",
        "We will go through each part sequentially, gradually building upon the concepts"
      ]
    },
    {
      "cell_type": "markdown",
      "metadata": {
        "id": "E8m15AOS7rXQ",
        "colab_type": "text"
      },
      "source": [
        "### **Overview of the dataset**\n",
        "\n",
        "- The MNIST dataset consists of grayscale images of handwritten digits (0 to 9). \n",
        "- Each image is of dimension 28x28.\n",
        "- Dataset contains 60000 Training images and 10000 Test images\n",
        "- The dataset comes inbuilt with tf.keras, with normalized images, separated into training and testing sets   \n",
        "\n",
        "![MNIST](https://upload.wikimedia.org/wikipedia/commons/2/27/MnistExamples.png)"
      ]
    },
    {
      "cell_type": "markdown",
      "metadata": {
        "id": "QNvYMXMA82NF",
        "colab_type": "text"
      },
      "source": [
        "### **What we are building**\n",
        "\n",
        "We are building an image classifier capable of identifying handwritten digits ranging from 0 to 9. To train the model, we will use the training set of 60000 images and the rest 10000 testing set to test the model later on. \n",
        "\n",
        "- Our neural network will be a fully connected (densely connected) neural network.\n",
        "- Input layer of 784 input (28x28 image pixels)\n",
        "- 2 hidden fully connected layers of 256 nodes each (this number may change as we play around with the network)\n",
        "- output layer with 10 nodes (1 node for each digit from 0 to 9)\n",
        "\n",
        "> **input layer[754] --> dense1[256] --> dense2[256] --> output[10]** "
      ]
    },
    {
      "cell_type": "markdown",
      "metadata": {
        "id": "AG1dnyLaGTRu",
        "colab_type": "text"
      },
      "source": [
        "### **Part 1 - Preprocessing the dataset**\n",
        "\n",
        "In this part we will fetch the dataset from keras, visualize the dataset, and perform some preprocessing steps so that we can prepare our dataset to be fed into the neural network for training. \n",
        "\n",
        "One of the most important of preprocessing steps involve **flattening the images.** Our images are 28x28 in dimension, but the network we are training is a fully connected network and accepts only one-dimension matrix individual inputs. So this step will be like unrolling a barrel. Here's how it looks like --\n",
        "> [1 0] <br> \n",
        "> [3 4]   --> [1 0 3 4 7 8] <br>\n",
        "> [7 8]"
      ]
    },
    {
      "cell_type": "code",
      "metadata": {
        "id": "4nxgUR9C5sEm",
        "colab_type": "code",
        "colab": {}
      },
      "source": [
        "## import preprocessing libraries\n",
        "from tensorflow.keras.datasets import mnist\n",
        "from tensorflow.keras.utils import to_categorical\n",
        "\n",
        "import numpy as np\n",
        "import matplotlib.pyplot as plt\n",
        "import random"
      ],
      "execution_count": 1,
      "outputs": []
    },
    {
      "cell_type": "code",
      "metadata": {
        "id": "2f8NqQA710Aa",
        "colab_type": "code",
        "colab": {
          "base_uri": "https://localhost:8080/",
          "height": 52
        },
        "outputId": "8797ca12-4c44-423f-9fec-bcf5e71c29e0"
      },
      "source": [
        "## fetch the mnist dataset\n",
        "(x_train, y_train), (x_test, y_test) = mnist.load_data()"
      ],
      "execution_count": 2,
      "outputs": [
        {
          "output_type": "stream",
          "text": [
            "Downloading data from https://storage.googleapis.com/tensorflow/tf-keras-datasets/mnist.npz\n",
            "11493376/11490434 [==============================] - 0s 0us/step\n"
          ],
          "name": "stdout"
        }
      ]
    },
    {
      "cell_type": "code",
      "metadata": {
        "id": "h6VMSbj55ezb",
        "colab_type": "code",
        "colab": {
          "base_uri": "https://localhost:8080/",
          "height": 87
        },
        "outputId": "68202fbd-5a6a-4ee4-add5-85a738d1cbbb"
      },
      "source": [
        "## Check the data shape\n",
        "print(\"x_train: \", x_train.shape)\n",
        "print(\"y_train: \", y_train.shape)\n",
        "print(\"x_test: \", x_test.shape)\n",
        "print(\"y_test: \", y_test.shape)"
      ],
      "execution_count": 3,
      "outputs": [
        {
          "output_type": "stream",
          "text": [
            "x_train:  (60000, 28, 28)\n",
            "y_train:  (60000,)\n",
            "x_test:  (10000, 28, 28)\n",
            "y_test:  (10000,)\n"
          ],
          "name": "stdout"
        }
      ]
    },
    {
      "cell_type": "code",
      "metadata": {
        "id": "ZA1kzEk8Yhwc",
        "colab_type": "code",
        "colab": {
          "base_uri": "https://localhost:8080/",
          "height": 267
        },
        "outputId": "ca07b33f-b1ef-4687-fc93-e5601dabd970"
      },
      "source": [
        "## Lets plots the images\n",
        "fig = plt.figure()\n",
        "\n",
        "for i in range(6):\n",
        "  plt.subplot(2, 3, i+1)\n",
        "  plt.imshow(x_train[i], cmap='gray', interpolation='none') ## image\n",
        "  plt.title(f\"Label: {y_train[i]}\")\n",
        "  plt.xticks([])\n",
        "fig.show();"
      ],
      "execution_count": 4,
      "outputs": [
        {
          "output_type": "display_data",
          "data": {
            "image/png": "[encoded data removed]",
            "text/plain": [
              "<Figure size 432x288 with 6 Axes>"
            ]
          },
          "metadata": {
            "tags": [],
            "needs_background": "light"
          }
        }
      ]
    },
    {
      "cell_type": "code",
      "metadata": {
        "id": "T91hjmJ2as4Z",
        "colab_type": "code",
        "colab": {
          "base_uri": "https://localhost:8080/",
          "height": 1000
        },
        "outputId": "cb63806e-c1be-4f3d-c383-2a490478abdd"
      },
      "source": [
        "## Lets take a look at a single image data\n",
        "NUM = 0\n",
        "\n",
        "print(f\"Label: {y_train[NUM]}\")\n",
        "print(\"Shape: \", x_train[NUM].shape)\n",
        "print(\"*\"*50)\n",
        "digit = x_train[NUM]\n",
        "print(digit)"
      ],
      "execution_count": 5,
      "outputs": [
        {
          "output_type": "stream",
          "text": [
            "Label: 5\n",
            "Shape:  (28, 28)\n",
            "**************************************************\n",
            "[[  0   0   0   0   0   0   0   0   0   0   0   0   0   0   0   0   0   0\n",
            "    0   0   0   0   0   0   0   0   0   0]\n",
            " [  0   0   0   0   0   0   0   0   0   0   0   0   0   0   0   0   0   0\n",
            "    0   0   0   0   0   0   0   0   0   0]\n",
            " [  0   0   0   0   0   0   0   0   0   0   0   0   0   0   0   0   0   0\n",
            "    0   0   0   0   0   0   0   0   0   0]\n",
            " [  0   0   0   0   0   0   0   0   0   0   0   0   0   0   0   0   0   0\n",
            "    0   0   0   0   0   0   0   0   0   0]\n",
            " [  0   0   0   0   0   0   0   0   0   0   0   0   0   0   0   0   0   0\n",
            "    0   0   0   0   0   0   0   0   0   0]\n",
            " [  0   0   0   0   0   0   0   0   0   0   0   0   3  18  18  18 126 136\n",
            "  175  26 166 255 247 127   0   0   0   0]\n",
            " [  0   0   0   0   0   0   0   0  30  36  94 154 170 253 253 253 253 253\n",
            "  225 172 253 242 195  64   0   0   0   0]\n",
            " [  0   0   0   0   0   0   0  49 238 253 253 253 253 253 253 253 253 251\n",
            "   93  82  82  56  39   0   0   0   0   0]\n",
            " [  0   0   0   0   0   0   0  18 219 253 253 253 253 253 198 182 247 241\n",
            "    0   0   0   0   0   0   0   0   0   0]\n",
            " [  0   0   0   0   0   0   0   0  80 156 107 253 253 205  11   0  43 154\n",
            "    0   0   0   0   0   0   0   0   0   0]\n",
            " [  0   0   0   0   0   0   0   0   0  14   1 154 253  90   0   0   0   0\n",
            "    0   0   0   0   0   0   0   0   0   0]\n",
            " [  0   0   0   0   0   0   0   0   0   0   0 139 253 190   2   0   0   0\n",
            "    0   0   0   0   0   0   0   0   0   0]\n",
            " [  0   0   0   0   0   0   0   0   0   0   0  11 190 253  70   0   0   0\n",
            "    0   0   0   0   0   0   0   0   0   0]\n",
            " [  0   0   0   0   0   0   0   0   0   0   0   0  35 241 225 160 108   1\n",
            "    0   0   0   0   0   0   0   0   0   0]\n",
            " [  0   0   0   0   0   0   0   0   0   0   0   0   0  81 240 253 253 119\n",
            "   25   0   0   0   0   0   0   0   0   0]\n",
            " [  0   0   0   0   0   0   0   0   0   0   0   0   0   0  45 186 253 253\n",
            "  150  27   0   0   0   0   0   0   0   0]\n",
            " [  0   0   0   0   0   0   0   0   0   0   0   0   0   0   0  16  93 252\n",
            "  253 187   0   0   0   0   0   0   0   0]\n",
            " [  0   0   0   0   0   0   0   0   0   0   0   0   0   0   0   0   0 249\n",
            "  253 249  64   0   0   0   0   0   0   0]\n",
            " [  0   0   0   0   0   0   0   0   0   0   0   0   0   0  46 130 183 253\n",
            "  253 207   2   0   0   0   0   0   0   0]\n",
            " [  0   0   0   0   0   0   0   0   0   0   0   0  39 148 229 253 253 253\n",
            "  250 182   0   0   0   0   0   0   0   0]\n",
            " [  0   0   0   0   0   0   0   0   0   0  24 114 221 253 253 253 253 201\n",
            "   78   0   0   0   0   0   0   0   0   0]\n",
            " [  0   0   0   0   0   0   0   0  23  66 213 253 253 253 253 198  81   2\n",
            "    0   0   0   0   0   0   0   0   0   0]\n",
            " [  0   0   0   0   0   0  18 171 219 253 253 253 253 195  80   9   0   0\n",
            "    0   0   0   0   0   0   0   0   0   0]\n",
            " [  0   0   0   0  55 172 226 253 253 253 253 244 133  11   0   0   0   0\n",
            "    0   0   0   0   0   0   0   0   0   0]\n",
            " [  0   0   0   0 136 253 253 253 212 135 132  16   0   0   0   0   0   0\n",
            "    0   0   0   0   0   0   0   0   0   0]\n",
            " [  0   0   0   0   0   0   0   0   0   0   0   0   0   0   0   0   0   0\n",
            "    0   0   0   0   0   0   0   0   0   0]\n",
            " [  0   0   0   0   0   0   0   0   0   0   0   0   0   0   0   0   0   0\n",
            "    0   0   0   0   0   0   0   0   0   0]\n",
            " [  0   0   0   0   0   0   0   0   0   0   0   0   0   0   0   0   0   0\n",
            "    0   0   0   0   0   0   0   0   0   0]]\n"
          ],
          "name": "stdout"
        }
      ]
    },
    {
      "cell_type": "code",
      "metadata": {
        "id": "RjfP2UZacC7e",
        "colab_type": "code",
        "colab": {
          "base_uri": "https://localhost:8080/",
          "height": 503
        },
        "outputId": "60d0df17-c52a-4f13-b05e-1dcf43dc918a"
      },
      "source": [
        "#Prettify the print\n",
        "for i in digit:\n",
        "    print(*i, sep=\" \")"
      ],
      "execution_count": 6,
      "outputs": [
        {
          "output_type": "stream",
          "text": [
            "0 0 0 0 0 0 0 0 0 0 0 0 0 0 0 0 0 0 0 0 0 0 0 0 0 0 0 0\n",
            "0 0 0 0 0 0 0 0 0 0 0 0 0 0 0 0 0 0 0 0 0 0 0 0 0 0 0 0\n",
            "0 0 0 0 0 0 0 0 0 0 0 0 0 0 0 0 0 0 0 0 0 0 0 0 0 0 0 0\n",
            "0 0 0 0 0 0 0 0 0 0 0 0 0 0 0 0 0 0 0 0 0 0 0 0 0 0 0 0\n",
            "0 0 0 0 0 0 0 0 0 0 0 0 0 0 0 0 0 0 0 0 0 0 0 0 0 0 0 0\n",
            "0 0 0 0 0 0 0 0 0 0 0 0 3 18 18 18 126 136 175 26 166 255 247 127 0 0 0 0\n",
            "0 0 0 0 0 0 0 0 30 36 94 154 170 253 253 253 253 253 225 172 253 242 195 64 0 0 0 0\n",
            "0 0 0 0 0 0 0 49 238 253 253 253 253 253 253 253 253 251 93 82 82 56 39 0 0 0 0 0\n",
            "0 0 0 0 0 0 0 18 219 253 253 253 253 253 198 182 247 241 0 0 0 0 0 0 0 0 0 0\n",
            "0 0 0 0 0 0 0 0 80 156 107 253 253 205 11 0 43 154 0 0 0 0 0 0 0 0 0 0\n",
            "0 0 0 0 0 0 0 0 0 14 1 154 253 90 0 0 0 0 0 0 0 0 0 0 0 0 0 0\n",
            "0 0 0 0 0 0 0 0 0 0 0 139 253 190 2 0 0 0 0 0 0 0 0 0 0 0 0 0\n",
            "0 0 0 0 0 0 0 0 0 0 0 11 190 253 70 0 0 0 0 0 0 0 0 0 0 0 0 0\n",
            "0 0 0 0 0 0 0 0 0 0 0 0 35 241 225 160 108 1 0 0 0 0 0 0 0 0 0 0\n",
            "0 0 0 0 0 0 0 0 0 0 0 0 0 81 240 253 253 119 25 0 0 0 0 0 0 0 0 0\n",
            "0 0 0 0 0 0 0 0 0 0 0 0 0 0 45 186 253 253 150 27 0 0 0 0 0 0 0 0\n",
            "0 0 0 0 0 0 0 0 0 0 0 0 0 0 0 16 93 252 253 187 0 0 0 0 0 0 0 0\n",
            "0 0 0 0 0 0 0 0 0 0 0 0 0 0 0 0 0 249 253 249 64 0 0 0 0 0 0 0\n",
            "0 0 0 0 0 0 0 0 0 0 0 0 0 0 46 130 183 253 253 207 2 0 0 0 0 0 0 0\n",
            "0 0 0 0 0 0 0 0 0 0 0 0 39 148 229 253 253 253 250 182 0 0 0 0 0 0 0 0\n",
            "0 0 0 0 0 0 0 0 0 0 24 114 221 253 253 253 253 201 78 0 0 0 0 0 0 0 0 0\n",
            "0 0 0 0 0 0 0 0 23 66 213 253 253 253 253 198 81 2 0 0 0 0 0 0 0 0 0 0\n",
            "0 0 0 0 0 0 18 171 219 253 253 253 253 195 80 9 0 0 0 0 0 0 0 0 0 0 0 0\n",
            "0 0 0 0 55 172 226 253 253 253 253 244 133 11 0 0 0 0 0 0 0 0 0 0 0 0 0 0\n",
            "0 0 0 0 136 253 253 253 212 135 132 16 0 0 0 0 0 0 0 0 0 0 0 0 0 0 0 0\n",
            "0 0 0 0 0 0 0 0 0 0 0 0 0 0 0 0 0 0 0 0 0 0 0 0 0 0 0 0\n",
            "0 0 0 0 0 0 0 0 0 0 0 0 0 0 0 0 0 0 0 0 0 0 0 0 0 0 0 0\n",
            "0 0 0 0 0 0 0 0 0 0 0 0 0 0 0 0 0 0 0 0 0 0 0 0 0 0 0 0\n"
          ],
          "name": "stdout"
        }
      ]
    },
    {
      "cell_type": "markdown",
      "metadata": {
        "id": "R56PXQ6eg6yJ",
        "colab_type": "text"
      },
      "source": [
        "##### **As can be seen above, each image consists of 28x28 grayscale pixels ranging from 0 to 255**"
      ]
    },
    {
      "cell_type": "markdown",
      "metadata": {
        "id": "dAeRX_XUiVIh",
        "colab_type": "text"
      },
      "source": [
        "### **Preparing the input data**\n",
        "\n",
        "For this step we will unroll each input image and convert it into a single dimension matrix. To do this we will reshape our input data images to 784\n",
        "> for example, (60000, 28, 28) --> Reshape --> (60000, 784)  "
      ]
    },
    {
      "cell_type": "code",
      "metadata": {
        "id": "G7Y2IhAbdsih",
        "colab_type": "code",
        "colab": {}
      },
      "source": [
        "x_train = x_train.reshape(60000, 784) # flatten training data\n",
        "x_test = x_test.reshape(10000, 784) # flatten test data"
      ],
      "execution_count": 7,
      "outputs": []
    },
    {
      "cell_type": "code",
      "metadata": {
        "id": "DX7_XYAveNpU",
        "colab_type": "code",
        "colab": {}
      },
      "source": [
        "## change the data type to float\n",
        "x_train = x_train.astype('float')\n",
        "x_test = x_test.astype('float')"
      ],
      "execution_count": 8,
      "outputs": []
    },
    {
      "cell_type": "markdown",
      "metadata": {
        "id": "Xu6Yzs6HlTkt",
        "colab_type": "text"
      },
      "source": [
        "**Normalize the dataset**\n",
        "\n",
        "[here's a good article on normalization](https://arthurdouillard.com/post/normalization/)"
      ]
    },
    {
      "cell_type": "code",
      "metadata": {
        "id": "y_oFFT1JePH8",
        "colab_type": "code",
        "colab": {}
      },
      "source": [
        "## normalize / scale the image data\n",
        "x_train /= 255\n",
        "x_test /= 255"
      ],
      "execution_count": 9,
      "outputs": []
    },
    {
      "cell_type": "code",
      "metadata": {
        "id": "RCTrF5ogkDK7",
        "colab_type": "code",
        "colab": {
          "base_uri": "https://localhost:8080/",
          "height": 52
        },
        "outputId": "7193761e-3cc6-4991-ae85-139d6760e4c3"
      },
      "source": [
        "## check the data after processing\n",
        "print(x_train.shape, x_test.shape)\n",
        "\n",
        "print(max(x_train[0]), max(x_test[0]))"
      ],
      "execution_count": 10,
      "outputs": [
        {
          "output_type": "stream",
          "text": [
            "(60000, 784) (10000, 784)\n",
            "1.0 1.0\n"
          ],
          "name": "stdout"
        }
      ]
    },
    {
      "cell_type": "markdown",
      "metadata": {
        "id": "YGCuVF0ckmjW",
        "colab_type": "text"
      },
      "source": [
        "#### **Process the labels**\n",
        "Currently the labels are raw and single digit representation. We will need to convert these labels to one-hot encoded matrices. \n",
        "\n",
        ">5 = [0, 0, 0, 0, 0, 1, 0, 0, 0, 0]\n",
        "\n",
        "[Check out one-hot encoding here](https://hackernoon.com/what-is-one-hot-encoding-why-and-when-do-you-have-to-use-it-e3c6186d008f)\n"
      ]
    },
    {
      "cell_type": "code",
      "metadata": {
        "id": "Io03uZmjkSyN",
        "colab_type": "code",
        "colab": {}
      },
      "source": [
        "NUM_CLASSES = 10 \n",
        "\n",
        "y_train = to_categorical(y_train, num_classes=NUM_CLASSES)\n",
        "y_test = to_categorical(y_test, num_classes=NUM_CLASSES)"
      ],
      "execution_count": 11,
      "outputs": []
    },
    {
      "cell_type": "code",
      "metadata": {
        "id": "ySGclqM5m2my",
        "colab_type": "code",
        "colab": {
          "base_uri": "https://localhost:8080/",
          "height": 52
        },
        "outputId": "e887408a-8d4d-4f01-caad-081b58afc92a"
      },
      "source": [
        "print(y_train.shape, y_train[0])\n",
        "print(y_test.shape, y_test[0])"
      ],
      "execution_count": 12,
      "outputs": [
        {
          "output_type": "stream",
          "text": [
            "(60000, 10) [0. 0. 0. 0. 0. 1. 0. 0. 0. 0.]\n",
            "(10000, 10) [0. 0. 0. 0. 0. 0. 0. 1. 0. 0.]\n"
          ],
          "name": "stdout"
        }
      ]
    },
    {
      "cell_type": "markdown",
      "metadata": {
        "id": "68wojrT-oa0M",
        "colab_type": "text"
      },
      "source": [
        "### **Part 2 - Creating the Neural Network**\n",
        "\n",
        "We will use the Sequential class of Keras to build this simple neural network. The Sequential class is pretty popular to quickly stack layers of neural network to build the network  "
      ]
    },
    {
      "cell_type": "code",
      "metadata": {
        "id": "XmPnWyfiqNlQ",
        "colab_type": "code",
        "colab": {}
      },
      "source": [
        "## importing the relevant libraries\n",
        "from tensorflow.keras.models import Sequential\n",
        "from tensorflow.keras.layers import Dense, Activation"
      ],
      "execution_count": 13,
      "outputs": []
    },
    {
      "cell_type": "code",
      "metadata": {
        "id": "jeIfuHvMm-wz",
        "colab_type": "code",
        "colab": {}
      },
      "source": [
        "## create the model instance\n",
        "\n",
        "model = Sequential()"
      ],
      "execution_count": 14,
      "outputs": []
    },
    {
      "cell_type": "code",
      "metadata": {
        "id": "8oTK5ivvqJfJ",
        "colab_type": "code",
        "colab": {}
      },
      "source": [
        "## add first layer \n",
        "\n",
        "model.add(Dense(256, input_shape=(784,))) # make sure you put comma after 784, this represents a tuple, which should be the input for input layer "
      ],
      "execution_count": 15,
      "outputs": []
    },
    {
      "cell_type": "markdown",
      "metadata": {
        "id": "sAkvMk85sHen",
        "colab_type": "text"
      },
      "source": [
        "#### Adding the activation layer can be done in two ways \n",
        "- Use the Actvation layer seperately \n",
        "- Define the activation funtion in the layer itself \n",
        "\n",
        "[Check out this article about activation functions](https://medium.com/the-theory-of-everything/understanding-activation-functions-in-neural-networks-9491262884e0)"
      ]
    },
    {
      "cell_type": "code",
      "metadata": {
        "id": "ThWv9moPrJQb",
        "colab_type": "code",
        "colab": {}
      },
      "source": [
        "## add activation layer\n",
        "model.add(Activation('relu'))"
      ],
      "execution_count": 16,
      "outputs": []
    },
    {
      "cell_type": "code",
      "metadata": {
        "id": "2EPPytDArYxx",
        "colab_type": "code",
        "colab": {}
      },
      "source": [
        "## add second layer along with activation\n",
        "model.add(Dense(256, activation=\"relu\"))"
      ],
      "execution_count": 17,
      "outputs": []
    },
    {
      "cell_type": "code",
      "metadata": {
        "id": "oSjxeipPr0Hb",
        "colab_type": "code",
        "colab": {}
      },
      "source": [
        "## add the last layer\n",
        "model.add(Dense(10, activation=\"softmax\")) ## we have ten output labels"
      ],
      "execution_count": 18,
      "outputs": []
    },
    {
      "cell_type": "code",
      "metadata": {
        "id": "5PxpNTAItJvI",
        "colab_type": "code",
        "colab": {
          "base_uri": "https://localhost:8080/",
          "height": 295
        },
        "outputId": "d8be0348-32e5-4d89-f479-9cacf8e13e8e"
      },
      "source": [
        "## lets get an overview of the network we put together so far\n",
        "model.summary()"
      ],
      "execution_count": 19,
      "outputs": [
        {
          "output_type": "stream",
          "text": [
            "Model: \"sequential\"\n",
            "_________________________________________________________________\n",
            "Layer (type)                 Output Shape              Param #   \n",
            "=================================================================\n",
            "dense (Dense)                (None, 256)               200960    \n",
            "_________________________________________________________________\n",
            "activation (Activation)      (None, 256)               0         \n",
            "_________________________________________________________________\n",
            "dense_1 (Dense)              (None, 256)               65792     \n",
            "_________________________________________________________________\n",
            "dense_2 (Dense)              (None, 10)                2570      \n",
            "=================================================================\n",
            "Total params: 269,322\n",
            "Trainable params: 269,322\n",
            "Non-trainable params: 0\n",
            "_________________________________________________________________\n"
          ],
          "name": "stdout"
        }
      ]
    },
    {
      "cell_type": "markdown",
      "metadata": {
        "id": "zmSTynCjteMU",
        "colab_type": "text"
      },
      "source": [
        "#### **Whats missing now?**\n",
        "\n",
        "We have the network in place, we have defined the layers, actvations functions and stuff, but, we have not yet defined important **hyperparameters** such as loss function, learning rate, optimizer, and metrics\n",
        "\n",
        "[More about learning rates](https://towardsdatascience.com/understanding-learning-rates-and-how-it-improves-performance-in-deep-learning-d0d4059c1c10)\n",
        "\n",
        "#### **We compile the model to define the hyperparameters, basically, we define model properties and finalise the model**"
      ]
    },
    {
      "cell_type": "code",
      "metadata": {
        "id": "rRBqxyVUtQF8",
        "colab_type": "code",
        "colab": {}
      },
      "source": [
        "## compiling the model\n",
        "model.compile(loss=\"categorical_crossentropy\", optimizer=\"sgd\", metrics=[\"accuracy\"])"
      ],
      "execution_count": 20,
      "outputs": []
    },
    {
      "cell_type": "code",
      "metadata": {
        "id": "Z8SIbGCaves4",
        "colab_type": "code",
        "colab": {
          "base_uri": "https://localhost:8080/",
          "height": 295
        },
        "outputId": "331511d7-f84a-4126-cdb1-4c8eceac9fb5"
      },
      "source": [
        "model.summary()"
      ],
      "execution_count": 21,
      "outputs": [
        {
          "output_type": "stream",
          "text": [
            "Model: \"sequential\"\n",
            "_________________________________________________________________\n",
            "Layer (type)                 Output Shape              Param #   \n",
            "=================================================================\n",
            "dense (Dense)                (None, 256)               200960    \n",
            "_________________________________________________________________\n",
            "activation (Activation)      (None, 256)               0         \n",
            "_________________________________________________________________\n",
            "dense_1 (Dense)              (None, 256)               65792     \n",
            "_________________________________________________________________\n",
            "dense_2 (Dense)              (None, 10)                2570      \n",
            "=================================================================\n",
            "Total params: 269,322\n",
            "Trainable params: 269,322\n",
            "Non-trainable params: 0\n",
            "_________________________________________________________________\n"
          ],
          "name": "stdout"
        }
      ]
    },
    {
      "cell_type": "markdown",
      "metadata": {
        "id": "gSXfikOOwcwR",
        "colab_type": "text"
      },
      "source": [
        "### **Part 3 - Training the network**\n",
        "\n",
        "This is the part where we train the network that we have built. "
      ]
    },
    {
      "cell_type": "code",
      "metadata": {
        "id": "N65Xu8-bwG0e",
        "colab_type": "code",
        "colab": {
          "base_uri": "https://localhost:8080/",
          "height": 364
        },
        "outputId": "7c4073e7-6d2d-4c85-a065-832d2b62cf72"
      },
      "source": [
        "## Lets first confirm that GPU is available :)\n",
        "!nvidia-smi"
      ],
      "execution_count": 22,
      "outputs": [
        {
          "output_type": "stream",
          "text": [
            "Wed Jul  1 11:45:06 2020       \n",
            "+-----------------------------------------------------------------------------+\n",
            "| NVIDIA-SMI 450.36.06    Driver Version: 418.67       CUDA Version: 10.1     |\n",
            "|-------------------------------+----------------------+----------------------+\n",
            "| GPU  Name        Persistence-M| Bus-Id        Disp.A | Volatile Uncorr. ECC |\n",
            "| Fan  Temp  Perf  Pwr:Usage/Cap|         Memory-Usage | GPU-Util  Compute M. |\n",
            "|                               |                      |               MIG M. |\n",
            "|===============================+======================+======================|\n",
            "|   0  Tesla K80           Off  | 00000000:00:04.0 Off |                    0 |\n",
            "| N/A   68C    P0    71W / 149W |    133MiB / 11441MiB |      0%      Default |\n",
            "|                               |                      |                 ERR! |\n",
            "+-------------------------------+----------------------+----------------------+\n",
            "                                                                               \n",
            "+-----------------------------------------------------------------------------+\n",
            "| Processes:                                                                  |\n",
            "|  GPU   GI   CI        PID   Type   Process name                  GPU Memory |\n",
            "|        ID   ID                                                   Usage      |\n",
            "|=============================================================================|\n",
            "|  No running processes found                                                 |\n",
            "+-----------------------------------------------------------------------------+\n"
          ],
          "name": "stdout"
        }
      ]
    },
    {
      "cell_type": "code",
      "metadata": {
        "id": "i4STE3aVxYnZ",
        "colab_type": "code",
        "colab": {
          "base_uri": "https://localhost:8080/",
          "height": 35
        },
        "outputId": "96300d64-5292-42aa-e4d6-dd0af9f0a8f3"
      },
      "source": [
        "import tensorflow as tf\n",
        "tf.__version__"
      ],
      "execution_count": 23,
      "outputs": [
        {
          "output_type": "execute_result",
          "data": {
            "application/vnd.google.colaboratory.intrinsic": {
              "type": "string"
            },
            "text/plain": [
              "'2.2.0'"
            ]
          },
          "metadata": {
            "tags": []
          },
          "execution_count": 23
        }
      ]
    },
    {
      "cell_type": "code",
      "metadata": {
        "id": "iCqdz8lxw6Hh",
        "colab_type": "code",
        "colab": {
          "base_uri": "https://localhost:8080/",
          "height": 35
        },
        "outputId": "5ea370df-16e9-48d1-d137-d9578751f028"
      },
      "source": [
        "tf.config.list_physical_devices('GPU')"
      ],
      "execution_count": 24,
      "outputs": [
        {
          "output_type": "execute_result",
          "data": {
            "text/plain": [
              "[PhysicalDevice(name='/physical_device:GPU:0', device_type='GPU')]"
            ]
          },
          "metadata": {
            "tags": []
          },
          "execution_count": 24
        }
      ]
    },
    {
      "cell_type": "markdown",
      "metadata": {
        "id": "VspUhwEIyAUZ",
        "colab_type": "text"
      },
      "source": [
        "#### **Prepare for training**\n",
        "\n",
        "We need to figure out certain parameters like number of epochs, batch_size, and many more.. Lets start with the simplest ones\n",
        "\n",
        "[Article on epochs, batch size, and iterations](https://towardsdatascience.com/epoch-vs-iterations-vs-batch-size-4dfb9c7ce9c9#:~:text=the%20data%20given.-,Epochs,it%20in%20several%20smaller%20batches.)"
      ]
    },
    {
      "cell_type": "code",
      "metadata": {
        "id": "5MZ35e0My472",
        "colab_type": "code",
        "colab": {}
      },
      "source": [
        "EPOCHS = 10\n",
        "BATCH_SIZE = 128"
      ],
      "execution_count": 25,
      "outputs": []
    },
    {
      "cell_type": "code",
      "metadata": {
        "id": "0Yohz404xWuq",
        "colab_type": "code",
        "colab": {
          "base_uri": "https://localhost:8080/",
          "height": 364
        },
        "outputId": "b1c0a469-738d-41e4-b1a0-56f067bf0a5d"
      },
      "source": [
        "history = model.fit(  ## we save the training result in history variable\n",
        "    x=x_train,  ## training images \n",
        "    y=y_train,  ## training labels\n",
        "    epochs=EPOCHS,  ## number of epochs\n",
        "    batch_size=BATCH_SIZE,  ## define the batch size\n",
        "    shuffle=True,   ## lets shuffle the inputs\n",
        "    validation_split=0.2 ## 20% training data will be used as validation data\n",
        ")"
      ],
      "execution_count": 26,
      "outputs": [
        {
          "output_type": "stream",
          "text": [
            "Epoch 1/10\n",
            "375/375 [==============================] - 2s 5ms/step - loss: 1.2883 - accuracy: 0.7092 - val_loss: 0.6277 - val_accuracy: 0.8612\n",
            "Epoch 2/10\n",
            "375/375 [==============================] - 2s 4ms/step - loss: 0.5279 - accuracy: 0.8680 - val_loss: 0.4171 - val_accuracy: 0.8916\n",
            "Epoch 3/10\n",
            "375/375 [==============================] - 2s 4ms/step - loss: 0.4078 - accuracy: 0.8905 - val_loss: 0.3548 - val_accuracy: 0.9039\n",
            "Epoch 4/10\n",
            "375/375 [==============================] - 2s 4ms/step - loss: 0.3581 - accuracy: 0.9015 - val_loss: 0.3203 - val_accuracy: 0.9107\n",
            "Epoch 5/10\n",
            "375/375 [==============================] - 2s 4ms/step - loss: 0.3280 - accuracy: 0.9080 - val_loss: 0.2999 - val_accuracy: 0.9158\n",
            "Epoch 6/10\n",
            "375/375 [==============================] - 2s 4ms/step - loss: 0.3067 - accuracy: 0.9132 - val_loss: 0.2835 - val_accuracy: 0.9184\n",
            "Epoch 7/10\n",
            "375/375 [==============================] - 2s 5ms/step - loss: 0.2898 - accuracy: 0.9180 - val_loss: 0.2699 - val_accuracy: 0.9231\n",
            "Epoch 8/10\n",
            "375/375 [==============================] - 2s 5ms/step - loss: 0.2755 - accuracy: 0.9220 - val_loss: 0.2599 - val_accuracy: 0.9246\n",
            "Epoch 9/10\n",
            "375/375 [==============================] - 2s 4ms/step - loss: 0.2636 - accuracy: 0.9253 - val_loss: 0.2519 - val_accuracy: 0.9262\n",
            "Epoch 10/10\n",
            "375/375 [==============================] - 2s 4ms/step - loss: 0.2527 - accuracy: 0.9285 - val_loss: 0.2398 - val_accuracy: 0.9312\n"
          ],
          "name": "stdout"
        }
      ]
    },
    {
      "cell_type": "code",
      "metadata": {
        "id": "mkPls_SmyeA_",
        "colab_type": "code",
        "colab": {
          "base_uri": "https://localhost:8080/",
          "height": 35
        },
        "outputId": "c09aabeb-ec54-4c3a-99a8-73f1dc50466f"
      },
      "source": [
        "## check out the result\n",
        "print(history.history.keys())"
      ],
      "execution_count": 27,
      "outputs": [
        {
          "output_type": "stream",
          "text": [
            "dict_keys(['loss', 'accuracy', 'val_loss', 'val_accuracy'])\n"
          ],
          "name": "stdout"
        }
      ]
    },
    {
      "cell_type": "code",
      "metadata": {
        "id": "Vg3Skr0W2LKc",
        "colab_type": "code",
        "colab": {
          "base_uri": "https://localhost:8080/",
          "height": 107
        },
        "outputId": "a69dd4d1-a6ff-4688-84ba-e4cfd89870cd"
      },
      "source": [
        "for i in history.history.keys():\n",
        "  print(history.history[i])"
      ],
      "execution_count": 28,
      "outputs": [
        {
          "output_type": "stream",
          "text": [
            "[1.2882604598999023, 0.5278987884521484, 0.4077931344509125, 0.35808321833610535, 0.32797619700431824, 0.3066682815551758, 0.28977155685424805, 0.27552899718284607, 0.263638436794281, 0.25268858671188354]\n",
            "[0.7092291712760925, 0.8680416941642761, 0.890500009059906, 0.901520848274231, 0.9079583287239075, 0.9131666421890259, 0.9180208444595337, 0.9219791889190674, 0.9253333210945129, 0.9284791946411133]\n",
            "[0.6277223229408264, 0.41713741421699524, 0.35477808117866516, 0.3203066885471344, 0.2998543977737427, 0.2835492193698883, 0.2698988914489746, 0.2599341869354248, 0.2519208490848541, 0.23983630537986755]\n",
            "[0.8611666560173035, 0.8915833234786987, 0.9039166569709778, 0.9107499718666077, 0.9158333539962769, 0.9184166789054871, 0.9230833053588867, 0.9245833158493042, 0.9262499809265137, 0.9311666488647461]\n"
          ],
          "name": "stdout"
        }
      ]
    },
    {
      "cell_type": "markdown",
      "metadata": {
        "id": "kacFyC6D2ijn",
        "colab_type": "text"
      },
      "source": [
        "#### **Plotting the result**"
      ]
    },
    {
      "cell_type": "code",
      "metadata": {
        "id": "7IGK5uu62eHq",
        "colab_type": "code",
        "colab": {
          "base_uri": "https://localhost:8080/",
          "height": 297
        },
        "outputId": "b6402ff3-56d5-4594-d8a5-bf74d9623a9a"
      },
      "source": [
        "plt.style.use('ggplot') ## use ggplot style sheet. Its just prettier :)\n",
        "\n",
        "fig = plt.figure(figsize=(10, 4))\n",
        "## accuracy plot\n",
        "plt.subplot(1, 2, 1)\n",
        "plt.plot(history.history['accuracy'])\n",
        "plt.plot(history.history['val_accuracy'])\n",
        "plt.title('Accuracy of Model')\n",
        "plt.xlabel('Epochs')\n",
        "plt.ylabel('Accuracy')\n",
        "plt.legend(['train', 'test'], loc='lower right')\n",
        "\n",
        "## loss plot\n",
        "plt.subplot(1, 2, 2)\n",
        "plt.plot(history.history['loss'])\n",
        "plt.plot(history.history['val_loss'])\n",
        "plt.title('Loss of Model')\n",
        "plt.xlabel('Epochs')\n",
        "plt.ylabel('Loss')\n",
        "plt.legend(['train', 'test'], loc='upper right')\n",
        "\n",
        "plt.tight_layout()\n",
        "\n",
        "fig.show();"
      ],
      "execution_count": 29,
      "outputs": [
        {
          "output_type": "display_data",
          "data": {
            "image/png": "[encoded data removed]",
            "text/plain": [
              "<Figure size 720x288 with 2 Axes>"
            ]
          },
          "metadata": {
            "tags": []
          }
        }
      ]
    },
    {
      "cell_type": "markdown",
      "metadata": {
        "id": "mqsOVw4lBa8h",
        "colab_type": "text"
      },
      "source": [
        "#### **Saving and loading the model**\n",
        "\n",
        "Models can be saved in two ways\n",
        "1. Whole models\n",
        "  - Whole models can be saved using model.save() or tf.keras.models.save_model() function.\n",
        "  - Models are saved in the TF SavedModel format by default\n",
        "  - Models are saved as HDF5 files if the specified format is 'h5' or file extension is '.h5' \n",
        "  >[Read about HDF5 for Python here](http://docs.h5py.org/en/stable/)\n",
        "\n",
        "2. Saving the architecture and weights separately\n",
        "   - Save the model architecture as JSON or YAML\n",
        "   - Save the model weights as HDF5 files\n"
      ]
    },
    {
      "cell_type": "code",
      "metadata": {
        "id": "WoDtOYQb2bMa",
        "colab_type": "code",
        "colab": {}
      },
      "source": [
        "## lets create a folder to save the model \n",
        "!mkdir -p models"
      ],
      "execution_count": 30,
      "outputs": []
    },
    {
      "cell_type": "code",
      "metadata": {
        "id": "PvDDgPy5DjDD",
        "colab_type": "code",
        "colab": {}
      },
      "source": [
        "## lets save the whole model as hdf5 file\n",
        "model.save(\"models/model_basic_v1.h5\")"
      ],
      "execution_count": 31,
      "outputs": []
    },
    {
      "cell_type": "code",
      "metadata": {
        "id": "t35y64atF7Sb",
        "colab_type": "code",
        "colab": {
          "base_uri": "https://localhost:8080/",
          "height": 35
        },
        "outputId": "ec6a8624-3f26-406a-a41d-169a97ad4e91"
      },
      "source": [
        "## check saved model\n",
        "!ls models"
      ],
      "execution_count": 32,
      "outputs": [
        {
          "output_type": "stream",
          "text": [
            "model_basic_v1.h5\n"
          ],
          "name": "stdout"
        }
      ]
    },
    {
      "cell_type": "code",
      "metadata": {
        "id": "G0Cjh8M-Gs9K",
        "colab_type": "code",
        "colab": {}
      },
      "source": [
        "## load saved model\n",
        "model_loaded = tf.keras.models.load_model(\"models/model_basic_v1.h5\")"
      ],
      "execution_count": 33,
      "outputs": []
    },
    {
      "cell_type": "code",
      "metadata": {
        "id": "P-s3BKKrHMVI",
        "colab_type": "code",
        "colab": {
          "base_uri": "https://localhost:8080/",
          "height": 295
        },
        "outputId": "2a0b5289-5316-4a23-8474-db3e588a61bf"
      },
      "source": [
        "model_loaded.summary()"
      ],
      "execution_count": 34,
      "outputs": [
        {
          "output_type": "stream",
          "text": [
            "Model: \"sequential\"\n",
            "_________________________________________________________________\n",
            "Layer (type)                 Output Shape              Param #   \n",
            "=================================================================\n",
            "dense (Dense)                (None, 256)               200960    \n",
            "_________________________________________________________________\n",
            "activation (Activation)      (None, 256)               0         \n",
            "_________________________________________________________________\n",
            "dense_1 (Dense)              (None, 256)               65792     \n",
            "_________________________________________________________________\n",
            "dense_2 (Dense)              (None, 10)                2570      \n",
            "=================================================================\n",
            "Total params: 269,322\n",
            "Trainable params: 269,322\n",
            "Non-trainable params: 0\n",
            "_________________________________________________________________\n"
          ],
          "name": "stdout"
        }
      ]
    },
    {
      "cell_type": "code",
      "metadata": {
        "id": "GcKB8x_UHPI4",
        "colab_type": "code",
        "colab": {}
      },
      "source": [
        "## lets serialize and save the model architecture and weights separately\n",
        "## we will use that in next section\n",
        "model_json = model.to_json()\n",
        "\n",
        "with open(\"models/model_arch_v1.json\", \"w\") as json_file:\n",
        "  json_file.write(model_json)\n",
        "\n",
        "## serialize and save weights to HDF5\n",
        "model.save_weights(\"models/model_weights_v1.h5\")"
      ],
      "execution_count": 35,
      "outputs": []
    },
    {
      "cell_type": "code",
      "metadata": {
        "id": "nZtzVyHzIs_2",
        "colab_type": "code",
        "colab": {
          "base_uri": "https://localhost:8080/",
          "height": 35
        },
        "outputId": "cad8497c-edb3-426f-d65b-cd6641698126"
      },
      "source": [
        "!ls models"
      ],
      "execution_count": 36,
      "outputs": [
        {
          "output_type": "stream",
          "text": [
            "model_arch_v1.json  model_basic_v1.h5  model_weights_v1.h5\n"
          ],
          "name": "stdout"
        }
      ]
    },
    {
      "cell_type": "markdown",
      "metadata": {
        "id": "cZxCEQ8fJQav",
        "colab_type": "text"
      },
      "source": [
        "### **Lets add some callbacks to make it do stuff for us**"
      ]
    },
    {
      "cell_type": "code",
      "metadata": {
        "id": "gO7QjqG3IuT_",
        "colab_type": "code",
        "colab": {}
      },
      "source": [
        "## lets load the model architecture so we can train new model from scratch\n",
        "with open('models/model_arch_v1.json', 'r') as json_file:\n",
        "  model_v2_json = json_file.read()\n",
        "\n",
        "model_v2 = tf.keras.models.model_from_json(model_v2_json)"
      ],
      "execution_count": 78,
      "outputs": []
    },
    {
      "cell_type": "code",
      "metadata": {
        "id": "5UtzV8xGQi_Z",
        "colab_type": "code",
        "colab": {
          "base_uri": "https://localhost:8080/",
          "height": 295
        },
        "outputId": "a0cf3cdb-a767-4a3c-d6f6-1eefe2830595"
      },
      "source": [
        "model.summary()"
      ],
      "execution_count": 79,
      "outputs": [
        {
          "output_type": "stream",
          "text": [
            "Model: \"sequential\"\n",
            "_________________________________________________________________\n",
            "Layer (type)                 Output Shape              Param #   \n",
            "=================================================================\n",
            "dense (Dense)                (None, 256)               200960    \n",
            "_________________________________________________________________\n",
            "activation (Activation)      (None, 256)               0         \n",
            "_________________________________________________________________\n",
            "dense_1 (Dense)              (None, 256)               65792     \n",
            "_________________________________________________________________\n",
            "dense_2 (Dense)              (None, 10)                2570      \n",
            "=================================================================\n",
            "Total params: 269,322\n",
            "Trainable params: 269,322\n",
            "Non-trainable params: 0\n",
            "_________________________________________________________________\n"
          ],
          "name": "stdout"
        }
      ]
    },
    {
      "cell_type": "code",
      "metadata": {
        "id": "jRF51jCfQiuI",
        "colab_type": "code",
        "colab": {}
      },
      "source": [
        "## import callbacks from keras\n",
        "from tensorflow.keras.callbacks import EarlyStopping, ModelCheckpoint, CSVLogger"
      ],
      "execution_count": 80,
      "outputs": []
    },
    {
      "cell_type": "code",
      "metadata": {
        "id": "0oqSDRh6RLke",
        "colab_type": "code",
        "colab": {}
      },
      "source": [
        "## early stopping callback\n",
        "earlystop = EarlyStopping(\n",
        "    patience=3,\n",
        "    monitor='val_loss',\n",
        "    mode='min',\n",
        "    verbose=1\n",
        ")"
      ],
      "execution_count": 81,
      "outputs": []
    },
    {
      "cell_type": "code",
      "metadata": {
        "id": "wyiIQzC-SBwl",
        "colab_type": "code",
        "colab": {}
      },
      "source": [
        "## model check pointing callback\n",
        "checkpoint = ModelCheckpoint(\n",
        "    filepath=\"models/model_best_v3.h5\",\n",
        "    monitor=\"val_loss\",\n",
        "    save_best_only=True,\n",
        "    mode='min',\n",
        "    verbose=1\n",
        "    )"
      ],
      "execution_count": 82,
      "outputs": []
    },
    {
      "cell_type": "code",
      "metadata": {
        "id": "EPUzbPoqTBnL",
        "colab_type": "code",
        "colab": {}
      },
      "source": [
        "## csvlogger callback\n",
        "!mkdir -p csvlogs\n",
        "\n",
        "cvslogs = CSVLogger(\n",
        "    filename=\"csvlogs/training_log_v3.log\"\n",
        ")"
      ],
      "execution_count": 83,
      "outputs": []
    },
    {
      "cell_type": "code",
      "metadata": {
        "id": "tvDcmin9VO_Q",
        "colab_type": "code",
        "colab": {}
      },
      "source": [
        "callbacks = [earlystop, checkpoint, cvslogs]"
      ],
      "execution_count": 84,
      "outputs": []
    },
    {
      "cell_type": "markdown",
      "metadata": {
        "id": "dbopbYUiV6wF",
        "colab_type": "text"
      },
      "source": [
        "#### Lets add optimizer with a different learning rate as well "
      ]
    },
    {
      "cell_type": "code",
      "metadata": {
        "id": "im831gz-VQC0",
        "colab_type": "code",
        "colab": {}
      },
      "source": [
        "from tensorflow.keras.optimizers import SGD"
      ],
      "execution_count": 85,
      "outputs": []
    },
    {
      "cell_type": "code",
      "metadata": {
        "id": "t1yDedWYWOKB",
        "colab_type": "code",
        "colab": {}
      },
      "source": [
        "optimizer = SGD(learning_rate=0.001)"
      ],
      "execution_count": 86,
      "outputs": []
    },
    {
      "cell_type": "code",
      "metadata": {
        "id": "bWeZ83LWWN_o",
        "colab_type": "code",
        "colab": {}
      },
      "source": [
        "## model compile\n",
        "model_v2.compile(\n",
        "    optimizer=optimizer,\n",
        "    loss='categorical_crossentropy',\n",
        "    metrics=['accuracy'],\n",
        ")"
      ],
      "execution_count": 87,
      "outputs": []
    },
    {
      "cell_type": "code",
      "metadata": {
        "id": "JGajTed7WNzY",
        "colab_type": "code",
        "colab": {
          "base_uri": "https://localhost:8080/",
          "height": 711
        },
        "outputId": "3918f253-8c86-4f2d-8a39-6556cbce161d"
      },
      "source": [
        "## train the model with callbacks\n",
        "history2 = model_v2.fit(\n",
        "    x=x_train,\n",
        "    y=y_train,\n",
        "    batch_size=BATCH_SIZE,\n",
        "    epochs=EPOCHS,\n",
        "    callbacks=callbacks,\n",
        "    validation_split=0.2,\n",
        "    shuffle=True\n",
        ")"
      ],
      "execution_count": 88,
      "outputs": [
        {
          "output_type": "stream",
          "text": [
            "Epoch 1/10\n",
            "366/375 [============================>.] - ETA: 0s - loss: 2.2282 - accuracy: 0.1961\n",
            "Epoch 00001: val_loss improved from inf to 2.12399, saving model to models/model_best_v3.h5\n",
            "375/375 [==============================] - 2s 5ms/step - loss: 2.2257 - accuracy: 0.1999 - val_loss: 2.1240 - val_accuracy: 0.3847\n",
            "Epoch 2/10\n",
            "368/375 [============================>.] - ETA: 0s - loss: 2.0326 - accuracy: 0.5025\n",
            "Epoch 00002: val_loss improved from 2.12399 to 1.91877, saving model to models/model_best_v3.h5\n",
            "375/375 [==============================] - 2s 4ms/step - loss: 2.0304 - accuracy: 0.5044 - val_loss: 1.9188 - val_accuracy: 0.6167\n",
            "Epoch 3/10\n",
            "368/375 [============================>.] - ETA: 0s - loss: 1.8198 - accuracy: 0.6572\n",
            "Epoch 00003: val_loss improved from 1.91877 to 1.68888, saving model to models/model_best_v3.h5\n",
            "375/375 [==============================] - 2s 4ms/step - loss: 1.8171 - accuracy: 0.6588 - val_loss: 1.6889 - val_accuracy: 0.7172\n",
            "Epoch 4/10\n",
            "368/375 [============================>.] - ETA: 0s - loss: 1.5870 - accuracy: 0.7284\n",
            "Epoch 00004: val_loss improved from 1.68888 to 1.44964, saving model to models/model_best_v3.h5\n",
            "375/375 [==============================] - 2s 4ms/step - loss: 1.5852 - accuracy: 0.7289 - val_loss: 1.4496 - val_accuracy: 0.7628\n",
            "Epoch 5/10\n",
            "365/375 [============================>.] - ETA: 0s - loss: 1.3594 - accuracy: 0.7655\n",
            "Epoch 00005: val_loss improved from 1.44964 to 1.22837, saving model to models/model_best_v3.h5\n",
            "375/375 [==============================] - 2s 4ms/step - loss: 1.3575 - accuracy: 0.7653 - val_loss: 1.2284 - val_accuracy: 0.7899\n",
            "Epoch 6/10\n",
            "362/375 [===========================>..] - ETA: 0s - loss: 1.1615 - accuracy: 0.7892\n",
            "Epoch 00006: val_loss improved from 1.22837 to 1.04519, saving model to models/model_best_v3.h5\n",
            "375/375 [==============================] - 2s 4ms/step - loss: 1.1587 - accuracy: 0.7888 - val_loss: 1.0452 - val_accuracy: 0.8111\n",
            "Epoch 7/10\n",
            "371/375 [============================>.] - ETA: 0s - loss: 1.0010 - accuracy: 0.8054\n",
            "Epoch 00007: val_loss improved from 1.04519 to 0.90408, saving model to models/model_best_v3.h5\n",
            "375/375 [==============================] - 2s 4ms/step - loss: 1.0005 - accuracy: 0.8054 - val_loss: 0.9041 - val_accuracy: 0.8267\n",
            "Epoch 8/10\n",
            "371/375 [============================>.] - ETA: 0s - loss: 0.8811 - accuracy: 0.8199\n",
            "Epoch 00008: val_loss improved from 0.90408 to 0.79902, saving model to models/model_best_v3.h5\n",
            "375/375 [==============================] - 2s 4ms/step - loss: 0.8808 - accuracy: 0.8199 - val_loss: 0.7990 - val_accuracy: 0.8372\n",
            "Epoch 9/10\n",
            "369/375 [============================>.] - ETA: 0s - loss: 0.7914 - accuracy: 0.8300\n",
            "Epoch 00009: val_loss improved from 0.79902 to 0.71989, saving model to models/model_best_v3.h5\n",
            "375/375 [==============================] - 2s 4ms/step - loss: 0.7907 - accuracy: 0.8301 - val_loss: 0.7199 - val_accuracy: 0.8476\n",
            "Epoch 10/10\n",
            "370/375 [============================>.] - ETA: 0s - loss: 0.7231 - accuracy: 0.8382\n",
            "Epoch 00010: val_loss improved from 0.71989 to 0.65897, saving model to models/model_best_v3.h5\n",
            "375/375 [==============================] - 2s 4ms/step - loss: 0.7221 - accuracy: 0.8386 - val_loss: 0.6590 - val_accuracy: 0.8563\n"
          ],
          "name": "stdout"
        }
      ]
    },
    {
      "cell_type": "code",
      "metadata": {
        "id": "4NWRE2fOa-Ad",
        "colab_type": "code",
        "colab": {
          "base_uri": "https://localhost:8080/",
          "height": 297
        },
        "outputId": "8b803d67-f2c7-4702-caf7-62d84e2d2348"
      },
      "source": [
        "fig = plt.figure(figsize=(10, 4))\n",
        "## accuracy plot\n",
        "plt.subplot(1, 2, 1)\n",
        "plt.plot(history2.history['accuracy'])\n",
        "plt.plot(history2.history['val_accuracy'])\n",
        "plt.title('Accuracy of Model 2')\n",
        "plt.xlabel('Epochs')\n",
        "plt.ylabel('Accuracy')\n",
        "plt.legend(['train', 'test'], loc='lower right')\n",
        "\n",
        "## loss plot\n",
        "plt.subplot(1, 2, 2)\n",
        "plt.plot(history2.history['loss'])\n",
        "plt.plot(history2.history['val_loss'])\n",
        "plt.title('Loss of Model 2')\n",
        "plt.xlabel('Epochs')\n",
        "plt.ylabel('Loss')\n",
        "plt.legend(['train', 'test'], loc='upper right')\n",
        "\n",
        "plt.tight_layout()\n",
        "\n",
        "fig.show();"
      ],
      "execution_count": 89,
      "outputs": [
        {
          "output_type": "display_data",
          "data": {
            "image/png": "[encoded data removed]",
            "text/plain": [
              "<Figure size 720x288 with 2 Axes>"
            ]
          },
          "metadata": {
            "tags": []
          }
        }
      ]
    },
    {
      "cell_type": "code",
      "metadata": {
        "id": "KpCgTe_obNo4",
        "colab_type": "code",
        "colab": {}
      },
      "source": [
        ""
      ],
      "execution_count": null,
      "outputs": []
    },
    {
      "cell_type": "code",
      "metadata": {
        "id": "1fOcZJwEbOwj",
        "colab_type": "code",
        "colab": {}
      },
      "source": [
        ""
      ],
      "execution_count": null,
      "outputs": []
    }
  ]
}