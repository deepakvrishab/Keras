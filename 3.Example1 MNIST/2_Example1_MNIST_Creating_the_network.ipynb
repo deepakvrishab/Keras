{
  "nbformat": 4,
  "nbformat_minor": 0,
  "metadata": {
    "colab": {
      "name": "2.Example1_MNIST_Creating_the_network.ipynb",
      "provenance": [],
      "collapsed_sections": []
    },
    "kernelspec": {
      "name": "python3",
      "display_name": "Python 3"
    },
    "accelerator": "GPU"
  },
  "cells": [
    {
      "cell_type": "markdown",
      "metadata": {
        "id": "16q4Ay7e5tgZ",
        "colab_type": "text"
      },
      "source": [
        "## **Simple Neural Network with Keras and TensorFlow 2**\n",
        "\n",
        "As first hands-on example of the course, the goal is to give a thorough understanding of the end-to-end deep learning cycle with Keras in a simple way. \n",
        "\n",
        "In this example you will deal with a very simple and popular example dataset called MNIST, which comes inbuilt with Keras. [You can read all about the dataset here](http://yann.lecun.com/exdb/mnist/)\n",
        "\n",
        "This example is divided into the following parts:\n",
        "1. Preprocessing the data\n",
        "2. Creating the simple densely connected model\n",
        "3. Training the model\n",
        "4. Adding callbacks\n",
        "5. Testing and evaluating the model\n",
        "6. Improving the performance\n",
        "\n",
        "We will go through each part sequentially, gradually building upon the concepts"
      ]
    },
    {
      "cell_type": "markdown",
      "metadata": {
        "id": "E8m15AOS7rXQ",
        "colab_type": "text"
      },
      "source": [
        "### **Overview of the dataset**\n",
        "\n",
        "- The MNIST dataset consists of grayscale images of handwritten digits (0 to 9). \n",
        "- Each image is of dimension 28x28.\n",
        "- Dataset contains 60000 Training images and 10000 Test images\n",
        "- The dataset comes inbuilt with tf.keras, with normalized images, separated into training and testing sets   \n",
        "\n",
        "![MNIST](https://upload.wikimedia.org/wikipedia/commons/2/27/MnistExamples.png)"
      ]
    },
    {
      "cell_type": "markdown",
      "metadata": {
        "id": "QNvYMXMA82NF",
        "colab_type": "text"
      },
      "source": [
        "### **What we are building**\n",
        "\n",
        "We are building an image classifier capable of identifying handwritten digits ranging from 0 to 9. To train the model, we will use the training set of 60000 images and the rest 10000 testing set to test the model later on. \n",
        "\n",
        "- Our neural network will be a fully connected (densely connected) neural network.\n",
        "- Input layer of 784 input (28x28 image pixels)\n",
        "- 2 hidden fully connected layers of 256 nodes each (this number may change as we play around with the network)\n",
        "- output layer with 10 nodes (1 node for each digit from 0 to 9)\n",
        "\n",
        "> **input layer[754] --> dense1[256] --> dense2[256] --> output[10]** "
      ]
    },
    {
      "cell_type": "markdown",
      "metadata": {
        "id": "AG1dnyLaGTRu",
        "colab_type": "text"
      },
      "source": [
        "### **Part 1 - Preprocessing the dataset**\n",
        "\n",
        "In this part we will fetch the dataset from keras, visualize the dataset, and perform some preprocessing steps so that we can prepare our dataset to be fed into the neural network for training. \n",
        "\n",
        "One of the most important of preprocessing steps involve **flattening the images.** Our images are 28x28 in dimension, but the network we are training is a fully connected network and accepts only one-dimension matrix individual inputs. So this step will be like unrolling a barrel. Here's how it looks like --\n",
        "> [1 0] <br> \n",
        "> [3 4]   --> [1 0 3 4 7 8] <br>\n",
        "> [7 8]"
      ]
    },
    {
      "cell_type": "code",
      "metadata": {
        "id": "4nxgUR9C5sEm",
        "colab_type": "code",
        "colab": {}
      },
      "source": [
        "## import preprocessing libraries\n",
        "from tensorflow.keras.datasets import mnist\n",
        "from tensorflow.keras.utils import to_categorical\n",
        "\n",
        "import numpy as np\n",
        "import matplotlib.pyplot as plt\n",
        "import random"
      ],
      "execution_count": null,
      "outputs": []
    },
    {
      "cell_type": "code",
      "metadata": {
        "id": "2f8NqQA710Aa",
        "colab_type": "code",
        "colab": {
          "base_uri": "https://localhost:8080/",
          "height": 52
        },
        "outputId": "2959f403-e902-4819-f09d-a41a42f8e385"
      },
      "source": [
        "## fetch the mnist dataset\n",
        "(x_train, y_train), (x_test, y_test) = mnist.load_data()"
      ],
      "execution_count": null,
      "outputs": [
        {
          "output_type": "stream",
          "text": [
            "Downloading data from https://storage.googleapis.com/tensorflow/tf-keras-datasets/mnist.npz\n",
            "11493376/11490434 [==============================] - 0s 0us/step\n"
          ],
          "name": "stdout"
        }
      ]
    },
    {
      "cell_type": "code",
      "metadata": {
        "id": "h6VMSbj55ezb",
        "colab_type": "code",
        "colab": {
          "base_uri": "https://localhost:8080/",
          "height": 87
        },
        "outputId": "e3acbc6e-356a-4b52-87c3-2690549f03d3"
      },
      "source": [
        "## Check the data shape\n",
        "print(\"x_train: \", x_train.shape)\n",
        "print(\"y_train: \", y_train.shape)\n",
        "print(\"x_test: \", x_test.shape)\n",
        "print(\"y_test: \", y_test.shape)"
      ],
      "execution_count": null,
      "outputs": [
        {
          "output_type": "stream",
          "text": [
            "x_train:  (60000, 28, 28)\n",
            "y_train:  (60000,)\n",
            "x_test:  (10000, 28, 28)\n",
            "y_test:  (10000,)\n"
          ],
          "name": "stdout"
        }
      ]
    },
    {
      "cell_type": "code",
      "metadata": {
        "id": "ZA1kzEk8Yhwc",
        "colab_type": "code",
        "colab": {
          "base_uri": "https://localhost:8080/",
          "height": 267
        },
        "outputId": "33e727a6-58be-4c96-9579-cc998d7dbf96"
      },
      "source": [
        "## Lets plots the images\n",
        "fig = plt.figure()\n",
        "\n",
        "for i in range(6):\n",
        "  plt.subplot(2, 3, i+1)\n",
        "  plt.imshow(x_train[i], cmap='gray', interpolation='none') ## image\n",
        "  plt.title(f\"Label: {y_train[i]}\")\n",
        "  plt.xticks([])\n",
        "fig.show();"
      ],
      "execution_count": null,
      "outputs": [
        {
          "output_type": "display_data",
          "data": {
            "image/png": "[encoded data removed]",
            "text/plain": [
              "<Figure size 432x288 with 6 Axes>"
            ]
          },
          "metadata": {
            "tags": [],
            "needs_background": "light"
          }
        }
      ]
    },
    {
      "cell_type": "code",
      "metadata": {
        "id": "T91hjmJ2as4Z",
        "colab_type": "code",
        "colab": {
          "base_uri": "https://localhost:8080/",
          "height": 1000
        },
        "outputId": "2252c88c-638b-4f8e-8d5b-39773c853e34"
      },
      "source": [
        "## Lets take a look at a single image data\n",
        "NUM = 0\n",
        "\n",
        "print(f\"Label: {y_train[NUM]}\")\n",
        "print(\"Shape: \", x_train[NUM].shape)\n",
        "print(\"*\"*50)\n",
        "digit = x_train[NUM]\n",
        "print(digit)"
      ],
      "execution_count": null,
      "outputs": [
        {
          "output_type": "stream",
          "text": [
            "Label: 5\n",
            "Shape:  (28, 28)\n",
            "**************************************************\n",
            "[[  0   0   0   0   0   0   0   0   0   0   0   0   0   0   0   0   0   0\n",
            "    0   0   0   0   0   0   0   0   0   0]\n",
            " [  0   0   0   0   0   0   0   0   0   0   0   0   0   0   0   0   0   0\n",
            "    0   0   0   0   0   0   0   0   0   0]\n",
            " [  0   0   0   0   0   0   0   0   0   0   0   0   0   0   0   0   0   0\n",
            "    0   0   0   0   0   0   0   0   0   0]\n",
            " [  0   0   0   0   0   0   0   0   0   0   0   0   0   0   0   0   0   0\n",
            "    0   0   0   0   0   0   0   0   0   0]\n",
            " [  0   0   0   0   0   0   0   0   0   0   0   0   0   0   0   0   0   0\n",
            "    0   0   0   0   0   0   0   0   0   0]\n",
            " [  0   0   0   0   0   0   0   0   0   0   0   0   3  18  18  18 126 136\n",
            "  175  26 166 255 247 127   0   0   0   0]\n",
            " [  0   0   0   0   0   0   0   0  30  36  94 154 170 253 253 253 253 253\n",
            "  225 172 253 242 195  64   0   0   0   0]\n",
            " [  0   0   0   0   0   0   0  49 238 253 253 253 253 253 253 253 253 251\n",
            "   93  82  82  56  39   0   0   0   0   0]\n",
            " [  0   0   0   0   0   0   0  18 219 253 253 253 253 253 198 182 247 241\n",
            "    0   0   0   0   0   0   0   0   0   0]\n",
            " [  0   0   0   0   0   0   0   0  80 156 107 253 253 205  11   0  43 154\n",
            "    0   0   0   0   0   0   0   0   0   0]\n",
            " [  0   0   0   0   0   0   0   0   0  14   1 154 253  90   0   0   0   0\n",
            "    0   0   0   0   0   0   0   0   0   0]\n",
            " [  0   0   0   0   0   0   0   0   0   0   0 139 253 190   2   0   0   0\n",
            "    0   0   0   0   0   0   0   0   0   0]\n",
            " [  0   0   0   0   0   0   0   0   0   0   0  11 190 253  70   0   0   0\n",
            "    0   0   0   0   0   0   0   0   0   0]\n",
            " [  0   0   0   0   0   0   0   0   0   0   0   0  35 241 225 160 108   1\n",
            "    0   0   0   0   0   0   0   0   0   0]\n",
            " [  0   0   0   0   0   0   0   0   0   0   0   0   0  81 240 253 253 119\n",
            "   25   0   0   0   0   0   0   0   0   0]\n",
            " [  0   0   0   0   0   0   0   0   0   0   0   0   0   0  45 186 253 253\n",
            "  150  27   0   0   0   0   0   0   0   0]\n",
            " [  0   0   0   0   0   0   0   0   0   0   0   0   0   0   0  16  93 252\n",
            "  253 187   0   0   0   0   0   0   0   0]\n",
            " [  0   0   0   0   0   0   0   0   0   0   0   0   0   0   0   0   0 249\n",
            "  253 249  64   0   0   0   0   0   0   0]\n",
            " [  0   0   0   0   0   0   0   0   0   0   0   0   0   0  46 130 183 253\n",
            "  253 207   2   0   0   0   0   0   0   0]\n",
            " [  0   0   0   0   0   0   0   0   0   0   0   0  39 148 229 253 253 253\n",
            "  250 182   0   0   0   0   0   0   0   0]\n",
            " [  0   0   0   0   0   0   0   0   0   0  24 114 221 253 253 253 253 201\n",
            "   78   0   0   0   0   0   0   0   0   0]\n",
            " [  0   0   0   0   0   0   0   0  23  66 213 253 253 253 253 198  81   2\n",
            "    0   0   0   0   0   0   0   0   0   0]\n",
            " [  0   0   0   0   0   0  18 171 219 253 253 253 253 195  80   9   0   0\n",
            "    0   0   0   0   0   0   0   0   0   0]\n",
            " [  0   0   0   0  55 172 226 253 253 253 253 244 133  11   0   0   0   0\n",
            "    0   0   0   0   0   0   0   0   0   0]\n",
            " [  0   0   0   0 136 253 253 253 212 135 132  16   0   0   0   0   0   0\n",
            "    0   0   0   0   0   0   0   0   0   0]\n",
            " [  0   0   0   0   0   0   0   0   0   0   0   0   0   0   0   0   0   0\n",
            "    0   0   0   0   0   0   0   0   0   0]\n",
            " [  0   0   0   0   0   0   0   0   0   0   0   0   0   0   0   0   0   0\n",
            "    0   0   0   0   0   0   0   0   0   0]\n",
            " [  0   0   0   0   0   0   0   0   0   0   0   0   0   0   0   0   0   0\n",
            "    0   0   0   0   0   0   0   0   0   0]]\n"
          ],
          "name": "stdout"
        }
      ]
    },
    {
      "cell_type": "code",
      "metadata": {
        "id": "RjfP2UZacC7e",
        "colab_type": "code",
        "colab": {
          "base_uri": "https://localhost:8080/",
          "height": 503
        },
        "outputId": "50dbfed3-68aa-44da-b3f0-fcc3deeb8a15"
      },
      "source": [
        "#Prettify the print\n",
        "for i in digit:\n",
        "    print(*i, sep=\" \")"
      ],
      "execution_count": null,
      "outputs": [
        {
          "output_type": "stream",
          "text": [
            "0 0 0 0 0 0 0 0 0 0 0 0 0 0 0 0 0 0 0 0 0 0 0 0 0 0 0 0\n",
            "0 0 0 0 0 0 0 0 0 0 0 0 0 0 0 0 0 0 0 0 0 0 0 0 0 0 0 0\n",
            "0 0 0 0 0 0 0 0 0 0 0 0 0 0 0 0 0 0 0 0 0 0 0 0 0 0 0 0\n",
            "0 0 0 0 0 0 0 0 0 0 0 0 0 0 0 0 0 0 0 0 0 0 0 0 0 0 0 0\n",
            "0 0 0 0 0 0 0 0 0 0 0 0 0 0 0 0 0 0 0 0 0 0 0 0 0 0 0 0\n",
            "0 0 0 0 0 0 0 0 0 0 0 0 3 18 18 18 126 136 175 26 166 255 247 127 0 0 0 0\n",
            "0 0 0 0 0 0 0 0 30 36 94 154 170 253 253 253 253 253 225 172 253 242 195 64 0 0 0 0\n",
            "0 0 0 0 0 0 0 49 238 253 253 253 253 253 253 253 253 251 93 82 82 56 39 0 0 0 0 0\n",
            "0 0 0 0 0 0 0 18 219 253 253 253 253 253 198 182 247 241 0 0 0 0 0 0 0 0 0 0\n",
            "0 0 0 0 0 0 0 0 80 156 107 253 253 205 11 0 43 154 0 0 0 0 0 0 0 0 0 0\n",
            "0 0 0 0 0 0 0 0 0 14 1 154 253 90 0 0 0 0 0 0 0 0 0 0 0 0 0 0\n",
            "0 0 0 0 0 0 0 0 0 0 0 139 253 190 2 0 0 0 0 0 0 0 0 0 0 0 0 0\n",
            "0 0 0 0 0 0 0 0 0 0 0 11 190 253 70 0 0 0 0 0 0 0 0 0 0 0 0 0\n",
            "0 0 0 0 0 0 0 0 0 0 0 0 35 241 225 160 108 1 0 0 0 0 0 0 0 0 0 0\n",
            "0 0 0 0 0 0 0 0 0 0 0 0 0 81 240 253 253 119 25 0 0 0 0 0 0 0 0 0\n",
            "0 0 0 0 0 0 0 0 0 0 0 0 0 0 45 186 253 253 150 27 0 0 0 0 0 0 0 0\n",
            "0 0 0 0 0 0 0 0 0 0 0 0 0 0 0 16 93 252 253 187 0 0 0 0 0 0 0 0\n",
            "0 0 0 0 0 0 0 0 0 0 0 0 0 0 0 0 0 249 253 249 64 0 0 0 0 0 0 0\n",
            "0 0 0 0 0 0 0 0 0 0 0 0 0 0 46 130 183 253 253 207 2 0 0 0 0 0 0 0\n",
            "0 0 0 0 0 0 0 0 0 0 0 0 39 148 229 253 253 253 250 182 0 0 0 0 0 0 0 0\n",
            "0 0 0 0 0 0 0 0 0 0 24 114 221 253 253 253 253 201 78 0 0 0 0 0 0 0 0 0\n",
            "0 0 0 0 0 0 0 0 23 66 213 253 253 253 253 198 81 2 0 0 0 0 0 0 0 0 0 0\n",
            "0 0 0 0 0 0 18 171 219 253 253 253 253 195 80 9 0 0 0 0 0 0 0 0 0 0 0 0\n",
            "0 0 0 0 55 172 226 253 253 253 253 244 133 11 0 0 0 0 0 0 0 0 0 0 0 0 0 0\n",
            "0 0 0 0 136 253 253 253 212 135 132 16 0 0 0 0 0 0 0 0 0 0 0 0 0 0 0 0\n",
            "0 0 0 0 0 0 0 0 0 0 0 0 0 0 0 0 0 0 0 0 0 0 0 0 0 0 0 0\n",
            "0 0 0 0 0 0 0 0 0 0 0 0 0 0 0 0 0 0 0 0 0 0 0 0 0 0 0 0\n",
            "0 0 0 0 0 0 0 0 0 0 0 0 0 0 0 0 0 0 0 0 0 0 0 0 0 0 0 0\n"
          ],
          "name": "stdout"
        }
      ]
    },
    {
      "cell_type": "markdown",
      "metadata": {
        "id": "R56PXQ6eg6yJ",
        "colab_type": "text"
      },
      "source": [
        "##### **As can be seen above, each image consists of 28x28 grayscale pixels ranging from 0 to 255**"
      ]
    },
    {
      "cell_type": "markdown",
      "metadata": {
        "id": "dAeRX_XUiVIh",
        "colab_type": "text"
      },
      "source": [
        "### **Preparing the input data**\n",
        "\n",
        "For this step we will unroll each input image and convert it into a single dimension matrix. To do this we will reshape our input data images to 784\n",
        "> for example, (60000, 28, 28) --> Reshape --> (60000, 784)  "
      ]
    },
    {
      "cell_type": "code",
      "metadata": {
        "id": "G7Y2IhAbdsih",
        "colab_type": "code",
        "colab": {}
      },
      "source": [
        "x_train = x_train.reshape(60000, 784) # flatten training data\n",
        "x_test = x_test.reshape(10000, 784) # flatten test data"
      ],
      "execution_count": null,
      "outputs": []
    },
    {
      "cell_type": "code",
      "metadata": {
        "id": "DX7_XYAveNpU",
        "colab_type": "code",
        "colab": {}
      },
      "source": [
        "## change the data type to float\n",
        "x_train = x_train.astype('float')\n",
        "x_test = x_test.astype('float')"
      ],
      "execution_count": null,
      "outputs": []
    },
    {
      "cell_type": "markdown",
      "metadata": {
        "id": "Xu6Yzs6HlTkt",
        "colab_type": "text"
      },
      "source": [
        "**Normalize the dataset**\n",
        "\n",
        "[here's a good article on normalization](https://arthurdouillard.com/post/normalization/)"
      ]
    },
    {
      "cell_type": "code",
      "metadata": {
        "id": "y_oFFT1JePH8",
        "colab_type": "code",
        "colab": {}
      },
      "source": [
        "## normalize / scale the image data\n",
        "x_train /= 255\n",
        "x_test /= 255"
      ],
      "execution_count": null,
      "outputs": []
    },
    {
      "cell_type": "code",
      "metadata": {
        "id": "RCTrF5ogkDK7",
        "colab_type": "code",
        "colab": {
          "base_uri": "https://localhost:8080/",
          "height": 52
        },
        "outputId": "f94e959b-668e-4528-e9f0-7932e55fb0d1"
      },
      "source": [
        "## check the data after processing\n",
        "print(x_train.shape, x_test.shape)\n",
        "\n",
        "print(max(x_train[0]), max(x_test[0]))"
      ],
      "execution_count": null,
      "outputs": [
        {
          "output_type": "stream",
          "text": [
            "(60000, 784) (10000, 784)\n",
            "1.0 1.0\n"
          ],
          "name": "stdout"
        }
      ]
    },
    {
      "cell_type": "markdown",
      "metadata": {
        "id": "YGCuVF0ckmjW",
        "colab_type": "text"
      },
      "source": [
        "#### **Process the labels**\n",
        "Currently the labels are raw and single digit representation. We will need to convert these labels to one-hot encoded matrices. \n",
        "\n",
        ">5 = [0, 0, 0, 0, 0, 1, 0, 0, 0, 0]\n",
        "\n",
        "[Check out one-hot encoding here](https://hackernoon.com/what-is-one-hot-encoding-why-and-when-do-you-have-to-use-it-e3c6186d008f)\n"
      ]
    },
    {
      "cell_type": "code",
      "metadata": {
        "id": "Io03uZmjkSyN",
        "colab_type": "code",
        "colab": {}
      },
      "source": [
        "NUM_CLASSES = 10 \n",
        "\n",
        "y_train = to_categorical(y_train, num_classes=NUM_CLASSES)\n",
        "y_test = to_categorical(y_test, num_classes=NUM_CLASSES)"
      ],
      "execution_count": null,
      "outputs": []
    },
    {
      "cell_type": "code",
      "metadata": {
        "id": "ySGclqM5m2my",
        "colab_type": "code",
        "colab": {
          "base_uri": "https://localhost:8080/",
          "height": 52
        },
        "outputId": "f666cca7-ac4f-4cc6-9ce9-d82f25272333"
      },
      "source": [
        "print(y_train.shape, y_train[0])\n",
        "print(y_test.shape, y_test[0])"
      ],
      "execution_count": null,
      "outputs": [
        {
          "output_type": "stream",
          "text": [
            "(60000, 10) [0. 0. 0. 0. 0. 1. 0. 0. 0. 0.]\n",
            "(10000, 10) [0. 0. 0. 0. 0. 0. 0. 1. 0. 0.]\n"
          ],
          "name": "stdout"
        }
      ]
    },
    {
      "cell_type": "markdown",
      "metadata": {
        "id": "68wojrT-oa0M",
        "colab_type": "text"
      },
      "source": [
        "### **Part 2 - Creating the Neural Network**\n",
        "\n",
        "We will use the Sequential class of Keras to build this simple neural network. The Sequential class is pretty popular to quickly stack layers of neural network to build the network  "
      ]
    },
    {
      "cell_type": "code",
      "metadata": {
        "id": "XmPnWyfiqNlQ",
        "colab_type": "code",
        "colab": {}
      },
      "source": [
        "## importing the relevant libraries\n",
        "from tensorflow.keras.models import Sequential\n",
        "from tensorflow.keras.layers import Dense, Activation"
      ],
      "execution_count": 49,
      "outputs": []
    },
    {
      "cell_type": "code",
      "metadata": {
        "id": "jeIfuHvMm-wz",
        "colab_type": "code",
        "colab": {}
      },
      "source": [
        "## create the model instance\n",
        "\n",
        "model = Sequential()"
      ],
      "execution_count": 50,
      "outputs": []
    },
    {
      "cell_type": "code",
      "metadata": {
        "id": "8oTK5ivvqJfJ",
        "colab_type": "code",
        "colab": {}
      },
      "source": [
        "## add first layer \n",
        "\n",
        "model.add(Dense(256, input_shape=(784,))) # make sure you put comma after 784, this represents a tuple, which should be the input for input layer "
      ],
      "execution_count": 51,
      "outputs": []
    },
    {
      "cell_type": "markdown",
      "metadata": {
        "id": "sAkvMk85sHen",
        "colab_type": "text"
      },
      "source": [
        "#### Adding the activation layer can be done in two ways \n",
        "- Use the Actvation layer seperately \n",
        "- Define the activation funtion in the layer itself \n",
        "\n",
        "[Check out this article about activation functions](https://medium.com/the-theory-of-everything/understanding-activation-functions-in-neural-networks-9491262884e0)"
      ]
    },
    {
      "cell_type": "code",
      "metadata": {
        "id": "ThWv9moPrJQb",
        "colab_type": "code",
        "colab": {}
      },
      "source": [
        "## add activation layer\n",
        "model.add(Activation('relu'))"
      ],
      "execution_count": 52,
      "outputs": []
    },
    {
      "cell_type": "code",
      "metadata": {
        "id": "2EPPytDArYxx",
        "colab_type": "code",
        "colab": {}
      },
      "source": [
        "## add second layer along with activation\n",
        "model.add(Dense(256, activation=\"relu\"))"
      ],
      "execution_count": 53,
      "outputs": []
    },
    {
      "cell_type": "code",
      "metadata": {
        "id": "oSjxeipPr0Hb",
        "colab_type": "code",
        "colab": {}
      },
      "source": [
        "## add the last layer\n",
        "model.add(Dense(10, activation=\"softmax\")) ## we have ten output labels"
      ],
      "execution_count": 54,
      "outputs": []
    },
    {
      "cell_type": "code",
      "metadata": {
        "id": "5PxpNTAItJvI",
        "colab_type": "code",
        "colab": {
          "base_uri": "https://localhost:8080/",
          "height": 295
        },
        "outputId": "c48c81d6-a1a7-4947-c38b-7df767190ae4"
      },
      "source": [
        "## lets get an overview of the network we put together so far\n",
        "model.summary()"
      ],
      "execution_count": 56,
      "outputs": [
        {
          "output_type": "stream",
          "text": [
            "Model: \"sequential\"\n",
            "_________________________________________________________________\n",
            "Layer (type)                 Output Shape              Param #   \n",
            "=================================================================\n",
            "dense (Dense)                (None, 256)               200960    \n",
            "_________________________________________________________________\n",
            "activation (Activation)      (None, 256)               0         \n",
            "_________________________________________________________________\n",
            "dense_1 (Dense)              (None, 256)               65792     \n",
            "_________________________________________________________________\n",
            "dense_2 (Dense)              (None, 10)                2570      \n",
            "=================================================================\n",
            "Total params: 269,322\n",
            "Trainable params: 269,322\n",
            "Non-trainable params: 0\n",
            "_________________________________________________________________\n"
          ],
          "name": "stdout"
        }
      ]
    },
    {
      "cell_type": "markdown",
      "metadata": {
        "id": "zmSTynCjteMU",
        "colab_type": "text"
      },
      "source": [
        "#### **Whats missing now?**\n",
        "\n",
        "We have the network in place, we have defined the layers, actvations functions and stuff, but, we have not yet defined important **hyperparameters** such as loss function, learning rate, optimizer, and metrics\n",
        "\n",
        "[More about learning rates](https://towardsdatascience.com/understanding-learning-rates-and-how-it-improves-performance-in-deep-learning-d0d4059c1c10)\n",
        "\n",
        "#### **We compile the model to define the hyperparameters, basically, we define model properties and finalise the model**"
      ]
    },
    {
      "cell_type": "code",
      "metadata": {
        "id": "rRBqxyVUtQF8",
        "colab_type": "code",
        "colab": {}
      },
      "source": [
        "## compiling the model\n",
        "model.compile(loss=\"categorical_crossentropy\", optimizer=\"sgd\", metrics=[\"accuracy\"])"
      ],
      "execution_count": 57,
      "outputs": []
    },
    {
      "cell_type": "code",
      "metadata": {
        "id": "Z8SIbGCaves4",
        "colab_type": "code",
        "colab": {
          "base_uri": "https://localhost:8080/",
          "height": 295
        },
        "outputId": "5f7ca0ad-2425-4b98-93e3-c0ce1154d752"
      },
      "source": [
        "model.summary()"
      ],
      "execution_count": 58,
      "outputs": [
        {
          "output_type": "stream",
          "text": [
            "Model: \"sequential\"\n",
            "_________________________________________________________________\n",
            "Layer (type)                 Output Shape              Param #   \n",
            "=================================================================\n",
            "dense (Dense)                (None, 256)               200960    \n",
            "_________________________________________________________________\n",
            "activation (Activation)      (None, 256)               0         \n",
            "_________________________________________________________________\n",
            "dense_1 (Dense)              (None, 256)               65792     \n",
            "_________________________________________________________________\n",
            "dense_2 (Dense)              (None, 10)                2570      \n",
            "=================================================================\n",
            "Total params: 269,322\n",
            "Trainable params: 269,322\n",
            "Non-trainable params: 0\n",
            "_________________________________________________________________\n"
          ],
          "name": "stdout"
        }
      ]
    },
    {
      "cell_type": "code",
      "metadata": {
        "id": "N65Xu8-bwG0e",
        "colab_type": "code",
        "colab": {}
      },
      "source": [
        ""
      ],
      "execution_count": null,
      "outputs": []
    }
  ]
}