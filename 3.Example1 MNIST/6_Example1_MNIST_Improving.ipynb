{
  "nbformat": 4,
  "nbformat_minor": 0,
  "metadata": {
    "colab": {
      "name": "6.Example1_MNIST_Improving.ipynb",
      "provenance": [],
      "collapsed_sections": []
    },
    "kernelspec": {
      "name": "python3",
      "display_name": "Python 3"
    },
    "accelerator": "GPU"
  },
  "cells": [
    {
      "cell_type": "markdown",
      "metadata": {
        "id": "16q4Ay7e5tgZ",
        "colab_type": "text"
      },
      "source": [
        "## **Simple Neural Network with Keras and TensorFlow 2**\n",
        "\n",
        "As first hands-on example of the course, the goal is to give a thorough understanding of the end-to-end deep learning cycle with Keras in a simple way. \n",
        "\n",
        "In this example you will deal with a very simple and popular example dataset called MNIST, which comes inbuilt with Keras. [You can read all about the dataset here](http://yann.lecun.com/exdb/mnist/)\n",
        "\n",
        "This example is divided into the following parts:\n",
        "1. Preprocessing the data\n",
        "2. Creating the simple densely connected model\n",
        "3. Training the model\n",
        "4. Adding callbacks\n",
        "5. Testing and evaluating the model\n",
        "6. Improving the performance\n",
        "\n",
        "We will go through each part sequentially, gradually building upon the concepts"
      ]
    },
    {
      "cell_type": "markdown",
      "metadata": {
        "id": "E8m15AOS7rXQ",
        "colab_type": "text"
      },
      "source": [
        "### **Overview of the dataset**\n",
        "\n",
        "- The MNIST dataset consists of grayscale images of handwritten digits (0 to 9). \n",
        "- Each image is of dimension 28x28.\n",
        "- Dataset contains 60000 Training images and 10000 Test images\n",
        "- The dataset comes inbuilt with tf.keras, with normalized images, separated into training and testing sets   \n",
        "\n",
        "![MNIST](https://upload.wikimedia.org/wikipedia/commons/2/27/MnistExamples.png)"
      ]
    },
    {
      "cell_type": "markdown",
      "metadata": {
        "id": "QNvYMXMA82NF",
        "colab_type": "text"
      },
      "source": [
        "### **What we are building**\n",
        "\n",
        "We are building an image classifier capable of identifying handwritten digits ranging from 0 to 9. To train the model, we will use the training set of 60000 images and the rest 10000 testing set to test the model later on. \n",
        "\n",
        "- Our neural network will be a fully connected (densely connected) neural network.\n",
        "- Input layer of 784 input (28x28 image pixels)\n",
        "- 2 hidden fully connected layers of 256 nodes each (this number may change as we play around with the network)\n",
        "- output layer with 10 nodes (1 node for each digit from 0 to 9)\n",
        "\n",
        "> **input layer[754] --> dense1[256] --> dense2[256] --> output[10]** "
      ]
    },
    {
      "cell_type": "markdown",
      "metadata": {
        "id": "AG1dnyLaGTRu",
        "colab_type": "text"
      },
      "source": [
        "### **Part 1 - Preprocessing the dataset**\n",
        "\n",
        "In this part we will fetch the dataset from keras, visualize the dataset, and perform some preprocessing steps so that we can prepare our dataset to be fed into the neural network for training. \n",
        "\n",
        "One of the most important of preprocessing steps involve **flattening the images.** Our images are 28x28 in dimension, but the network we are training is a fully connected network and accepts only one-dimension matrix individual inputs. So this step will be like unrolling a barrel. Here's how it looks like --\n",
        "> [1 0] <br> \n",
        "> [3 4]   --> [1 0 3 4 7 8] <br>\n",
        "> [7 8]"
      ]
    },
    {
      "cell_type": "code",
      "metadata": {
        "id": "4nxgUR9C5sEm",
        "colab_type": "code",
        "colab": {}
      },
      "source": [
        "## import preprocessing libraries\n",
        "from tensorflow.keras.datasets import mnist\n",
        "from tensorflow.keras.utils import to_categorical\n",
        "\n",
        "import numpy as np\n",
        "import matplotlib.pyplot as plt\n",
        "import random"
      ],
      "execution_count": 1,
      "outputs": []
    },
    {
      "cell_type": "code",
      "metadata": {
        "id": "2f8NqQA710Aa",
        "colab_type": "code",
        "colab": {
          "base_uri": "https://localhost:8080/",
          "height": 52
        },
        "outputId": "40f33856-0cef-4a9f-ef85-d9938ee7c999"
      },
      "source": [
        "## fetch the mnist dataset\n",
        "(x_train, y_train), (x_test, y_test) = mnist.load_data()"
      ],
      "execution_count": 2,
      "outputs": [
        {
          "output_type": "stream",
          "text": [
            "Downloading data from https://storage.googleapis.com/tensorflow/tf-keras-datasets/mnist.npz\n",
            "11493376/11490434 [==============================] - 0s 0us/step\n"
          ],
          "name": "stdout"
        }
      ]
    },
    {
      "cell_type": "code",
      "metadata": {
        "id": "h6VMSbj55ezb",
        "colab_type": "code",
        "colab": {
          "base_uri": "https://localhost:8080/",
          "height": 87
        },
        "outputId": "1dbed984-ca88-44c4-dedd-c07e6763c2c4"
      },
      "source": [
        "## Check the data shape\n",
        "print(\"x_train: \", x_train.shape)\n",
        "print(\"y_train: \", y_train.shape)\n",
        "print(\"x_test: \", x_test.shape)\n",
        "print(\"y_test: \", y_test.shape)"
      ],
      "execution_count": 3,
      "outputs": [
        {
          "output_type": "stream",
          "text": [
            "x_train:  (60000, 28, 28)\n",
            "y_train:  (60000,)\n",
            "x_test:  (10000, 28, 28)\n",
            "y_test:  (10000,)\n"
          ],
          "name": "stdout"
        }
      ]
    },
    {
      "cell_type": "code",
      "metadata": {
        "id": "ZA1kzEk8Yhwc",
        "colab_type": "code",
        "colab": {
          "base_uri": "https://localhost:8080/",
          "height": 267
        },
        "outputId": "212cf898-e6e2-4d2b-aa24-c94592f70226"
      },
      "source": [
        "## Lets plots the images\n",
        "fig = plt.figure()\n",
        "\n",
        "for i in range(6):\n",
        "  plt.subplot(2, 3, i+1)\n",
        "  plt.imshow(x_train[i], cmap='gray', interpolation='none') ## image\n",
        "  plt.title(f\"Label: {y_train[i]}\")\n",
        "  plt.xticks([])\n",
        "fig.show();"
      ],
      "execution_count": 4,
      "outputs": [
        {
          "output_type": "display_data",
          "data": {
            "image/png": "[encoded data removed]",
            "text/plain": [
              "<Figure size 432x288 with 6 Axes>"
            ]
          },
          "metadata": {
            "tags": [],
            "needs_background": "light"
          }
        }
      ]
    },
    {
      "cell_type": "code",
      "metadata": {
        "id": "T91hjmJ2as4Z",
        "colab_type": "code",
        "colab": {
          "base_uri": "https://localhost:8080/",
          "height": 1000
        },
        "outputId": "09e35df0-4c9e-41f2-80cc-020d467c8df8"
      },
      "source": [
        "## Lets take a look at a single image data\n",
        "NUM = 0\n",
        "\n",
        "print(f\"Label: {y_train[NUM]}\")\n",
        "print(\"Shape: \", x_train[NUM].shape)\n",
        "print(\"*\"*50)\n",
        "digit = x_train[NUM]\n",
        "print(digit)"
      ],
      "execution_count": 5,
      "outputs": [
        {
          "output_type": "stream",
          "text": [
            "Label: 5\n",
            "Shape:  (28, 28)\n",
            "**************************************************\n",
            "[[  0   0   0   0   0   0   0   0   0   0   0   0   0   0   0   0   0   0\n",
            "    0   0   0   0   0   0   0   0   0   0]\n",
            " [  0   0   0   0   0   0   0   0   0   0   0   0   0   0   0   0   0   0\n",
            "    0   0   0   0   0   0   0   0   0   0]\n",
            " [  0   0   0   0   0   0   0   0   0   0   0   0   0   0   0   0   0   0\n",
            "    0   0   0   0   0   0   0   0   0   0]\n",
            " [  0   0   0   0   0   0   0   0   0   0   0   0   0   0   0   0   0   0\n",
            "    0   0   0   0   0   0   0   0   0   0]\n",
            " [  0   0   0   0   0   0   0   0   0   0   0   0   0   0   0   0   0   0\n",
            "    0   0   0   0   0   0   0   0   0   0]\n",
            " [  0   0   0   0   0   0   0   0   0   0   0   0   3  18  18  18 126 136\n",
            "  175  26 166 255 247 127   0   0   0   0]\n",
            " [  0   0   0   0   0   0   0   0  30  36  94 154 170 253 253 253 253 253\n",
            "  225 172 253 242 195  64   0   0   0   0]\n",
            " [  0   0   0   0   0   0   0  49 238 253 253 253 253 253 253 253 253 251\n",
            "   93  82  82  56  39   0   0   0   0   0]\n",
            " [  0   0   0   0   0   0   0  18 219 253 253 253 253 253 198 182 247 241\n",
            "    0   0   0   0   0   0   0   0   0   0]\n",
            " [  0   0   0   0   0   0   0   0  80 156 107 253 253 205  11   0  43 154\n",
            "    0   0   0   0   0   0   0   0   0   0]\n",
            " [  0   0   0   0   0   0   0   0   0  14   1 154 253  90   0   0   0   0\n",
            "    0   0   0   0   0   0   0   0   0   0]\n",
            " [  0   0   0   0   0   0   0   0   0   0   0 139 253 190   2   0   0   0\n",
            "    0   0   0   0   0   0   0   0   0   0]\n",
            " [  0   0   0   0   0   0   0   0   0   0   0  11 190 253  70   0   0   0\n",
            "    0   0   0   0   0   0   0   0   0   0]\n",
            " [  0   0   0   0   0   0   0   0   0   0   0   0  35 241 225 160 108   1\n",
            "    0   0   0   0   0   0   0   0   0   0]\n",
            " [  0   0   0   0   0   0   0   0   0   0   0   0   0  81 240 253 253 119\n",
            "   25   0   0   0   0   0   0   0   0   0]\n",
            " [  0   0   0   0   0   0   0   0   0   0   0   0   0   0  45 186 253 253\n",
            "  150  27   0   0   0   0   0   0   0   0]\n",
            " [  0   0   0   0   0   0   0   0   0   0   0   0   0   0   0  16  93 252\n",
            "  253 187   0   0   0   0   0   0   0   0]\n",
            " [  0   0   0   0   0   0   0   0   0   0   0   0   0   0   0   0   0 249\n",
            "  253 249  64   0   0   0   0   0   0   0]\n",
            " [  0   0   0   0   0   0   0   0   0   0   0   0   0   0  46 130 183 253\n",
            "  253 207   2   0   0   0   0   0   0   0]\n",
            " [  0   0   0   0   0   0   0   0   0   0   0   0  39 148 229 253 253 253\n",
            "  250 182   0   0   0   0   0   0   0   0]\n",
            " [  0   0   0   0   0   0   0   0   0   0  24 114 221 253 253 253 253 201\n",
            "   78   0   0   0   0   0   0   0   0   0]\n",
            " [  0   0   0   0   0   0   0   0  23  66 213 253 253 253 253 198  81   2\n",
            "    0   0   0   0   0   0   0   0   0   0]\n",
            " [  0   0   0   0   0   0  18 171 219 253 253 253 253 195  80   9   0   0\n",
            "    0   0   0   0   0   0   0   0   0   0]\n",
            " [  0   0   0   0  55 172 226 253 253 253 253 244 133  11   0   0   0   0\n",
            "    0   0   0   0   0   0   0   0   0   0]\n",
            " [  0   0   0   0 136 253 253 253 212 135 132  16   0   0   0   0   0   0\n",
            "    0   0   0   0   0   0   0   0   0   0]\n",
            " [  0   0   0   0   0   0   0   0   0   0   0   0   0   0   0   0   0   0\n",
            "    0   0   0   0   0   0   0   0   0   0]\n",
            " [  0   0   0   0   0   0   0   0   0   0   0   0   0   0   0   0   0   0\n",
            "    0   0   0   0   0   0   0   0   0   0]\n",
            " [  0   0   0   0   0   0   0   0   0   0   0   0   0   0   0   0   0   0\n",
            "    0   0   0   0   0   0   0   0   0   0]]\n"
          ],
          "name": "stdout"
        }
      ]
    },
    {
      "cell_type": "code",
      "metadata": {
        "id": "RjfP2UZacC7e",
        "colab_type": "code",
        "colab": {
          "base_uri": "https://localhost:8080/",
          "height": 503
        },
        "outputId": "6ff88ec3-bb0e-4833-9125-40ddc40f7004"
      },
      "source": [
        "#Prettify the print\n",
        "for i in digit:\n",
        "    print(*i, sep=\" \")"
      ],
      "execution_count": 6,
      "outputs": [
        {
          "output_type": "stream",
          "text": [
            "0 0 0 0 0 0 0 0 0 0 0 0 0 0 0 0 0 0 0 0 0 0 0 0 0 0 0 0\n",
            "0 0 0 0 0 0 0 0 0 0 0 0 0 0 0 0 0 0 0 0 0 0 0 0 0 0 0 0\n",
            "0 0 0 0 0 0 0 0 0 0 0 0 0 0 0 0 0 0 0 0 0 0 0 0 0 0 0 0\n",
            "0 0 0 0 0 0 0 0 0 0 0 0 0 0 0 0 0 0 0 0 0 0 0 0 0 0 0 0\n",
            "0 0 0 0 0 0 0 0 0 0 0 0 0 0 0 0 0 0 0 0 0 0 0 0 0 0 0 0\n",
            "0 0 0 0 0 0 0 0 0 0 0 0 3 18 18 18 126 136 175 26 166 255 247 127 0 0 0 0\n",
            "0 0 0 0 0 0 0 0 30 36 94 154 170 253 253 253 253 253 225 172 253 242 195 64 0 0 0 0\n",
            "0 0 0 0 0 0 0 49 238 253 253 253 253 253 253 253 253 251 93 82 82 56 39 0 0 0 0 0\n",
            "0 0 0 0 0 0 0 18 219 253 253 253 253 253 198 182 247 241 0 0 0 0 0 0 0 0 0 0\n",
            "0 0 0 0 0 0 0 0 80 156 107 253 253 205 11 0 43 154 0 0 0 0 0 0 0 0 0 0\n",
            "0 0 0 0 0 0 0 0 0 14 1 154 253 90 0 0 0 0 0 0 0 0 0 0 0 0 0 0\n",
            "0 0 0 0 0 0 0 0 0 0 0 139 253 190 2 0 0 0 0 0 0 0 0 0 0 0 0 0\n",
            "0 0 0 0 0 0 0 0 0 0 0 11 190 253 70 0 0 0 0 0 0 0 0 0 0 0 0 0\n",
            "0 0 0 0 0 0 0 0 0 0 0 0 35 241 225 160 108 1 0 0 0 0 0 0 0 0 0 0\n",
            "0 0 0 0 0 0 0 0 0 0 0 0 0 81 240 253 253 119 25 0 0 0 0 0 0 0 0 0\n",
            "0 0 0 0 0 0 0 0 0 0 0 0 0 0 45 186 253 253 150 27 0 0 0 0 0 0 0 0\n",
            "0 0 0 0 0 0 0 0 0 0 0 0 0 0 0 16 93 252 253 187 0 0 0 0 0 0 0 0\n",
            "0 0 0 0 0 0 0 0 0 0 0 0 0 0 0 0 0 249 253 249 64 0 0 0 0 0 0 0\n",
            "0 0 0 0 0 0 0 0 0 0 0 0 0 0 46 130 183 253 253 207 2 0 0 0 0 0 0 0\n",
            "0 0 0 0 0 0 0 0 0 0 0 0 39 148 229 253 253 253 250 182 0 0 0 0 0 0 0 0\n",
            "0 0 0 0 0 0 0 0 0 0 24 114 221 253 253 253 253 201 78 0 0 0 0 0 0 0 0 0\n",
            "0 0 0 0 0 0 0 0 23 66 213 253 253 253 253 198 81 2 0 0 0 0 0 0 0 0 0 0\n",
            "0 0 0 0 0 0 18 171 219 253 253 253 253 195 80 9 0 0 0 0 0 0 0 0 0 0 0 0\n",
            "0 0 0 0 55 172 226 253 253 253 253 244 133 11 0 0 0 0 0 0 0 0 0 0 0 0 0 0\n",
            "0 0 0 0 136 253 253 253 212 135 132 16 0 0 0 0 0 0 0 0 0 0 0 0 0 0 0 0\n",
            "0 0 0 0 0 0 0 0 0 0 0 0 0 0 0 0 0 0 0 0 0 0 0 0 0 0 0 0\n",
            "0 0 0 0 0 0 0 0 0 0 0 0 0 0 0 0 0 0 0 0 0 0 0 0 0 0 0 0\n",
            "0 0 0 0 0 0 0 0 0 0 0 0 0 0 0 0 0 0 0 0 0 0 0 0 0 0 0 0\n"
          ],
          "name": "stdout"
        }
      ]
    },
    {
      "cell_type": "markdown",
      "metadata": {
        "id": "R56PXQ6eg6yJ",
        "colab_type": "text"
      },
      "source": [
        "##### **As can be seen above, each image consists of 28x28 grayscale pixels ranging from 0 to 255**"
      ]
    },
    {
      "cell_type": "markdown",
      "metadata": {
        "id": "dAeRX_XUiVIh",
        "colab_type": "text"
      },
      "source": [
        "### **Preparing the input data**\n",
        "\n",
        "For this step we will unroll each input image and convert it into a single dimension matrix. To do this we will reshape our input data images to 784\n",
        "> for example, (60000, 28, 28) --> Reshape --> (60000, 784)  "
      ]
    },
    {
      "cell_type": "code",
      "metadata": {
        "id": "G7Y2IhAbdsih",
        "colab_type": "code",
        "colab": {}
      },
      "source": [
        "x_train = x_train.reshape(60000, 784) # flatten training data\n",
        "x_test = x_test.reshape(10000, 784) # flatten test data"
      ],
      "execution_count": 7,
      "outputs": []
    },
    {
      "cell_type": "code",
      "metadata": {
        "id": "DX7_XYAveNpU",
        "colab_type": "code",
        "colab": {}
      },
      "source": [
        "## change the data type to float\n",
        "x_train = x_train.astype('float')\n",
        "x_test = x_test.astype('float')"
      ],
      "execution_count": 8,
      "outputs": []
    },
    {
      "cell_type": "markdown",
      "metadata": {
        "id": "Xu6Yzs6HlTkt",
        "colab_type": "text"
      },
      "source": [
        "**Normalize the dataset**\n",
        "\n",
        "[here's a good article on normalization](https://arthurdouillard.com/post/normalization/)"
      ]
    },
    {
      "cell_type": "code",
      "metadata": {
        "id": "y_oFFT1JePH8",
        "colab_type": "code",
        "colab": {}
      },
      "source": [
        "## normalize / scale the image data\n",
        "x_train /= 255\n",
        "x_test /= 255"
      ],
      "execution_count": 9,
      "outputs": []
    },
    {
      "cell_type": "code",
      "metadata": {
        "id": "RCTrF5ogkDK7",
        "colab_type": "code",
        "colab": {
          "base_uri": "https://localhost:8080/",
          "height": 52
        },
        "outputId": "a740b0fe-dc06-425e-f803-91de724c3a99"
      },
      "source": [
        "## check the data after processing\n",
        "print(x_train.shape, x_test.shape)\n",
        "\n",
        "print(max(x_train[0]), max(x_test[0]))"
      ],
      "execution_count": 10,
      "outputs": [
        {
          "output_type": "stream",
          "text": [
            "(60000, 784) (10000, 784)\n",
            "1.0 1.0\n"
          ],
          "name": "stdout"
        }
      ]
    },
    {
      "cell_type": "markdown",
      "metadata": {
        "id": "YGCuVF0ckmjW",
        "colab_type": "text"
      },
      "source": [
        "#### **Process the labels**\n",
        "Currently the labels are raw and single digit representation. We will need to convert these labels to one-hot encoded matrices. \n",
        "\n",
        ">5 = [0, 0, 0, 0, 0, 1, 0, 0, 0, 0]\n",
        "\n",
        "[Check out one-hot encoding here](https://hackernoon.com/what-is-one-hot-encoding-why-and-when-do-you-have-to-use-it-e3c6186d008f)\n"
      ]
    },
    {
      "cell_type": "code",
      "metadata": {
        "id": "Io03uZmjkSyN",
        "colab_type": "code",
        "colab": {}
      },
      "source": [
        "NUM_CLASSES = 10 \n",
        "\n",
        "y_train = to_categorical(y_train, num_classes=NUM_CLASSES)\n",
        "y_test = to_categorical(y_test, num_classes=NUM_CLASSES)"
      ],
      "execution_count": 11,
      "outputs": []
    },
    {
      "cell_type": "code",
      "metadata": {
        "id": "ySGclqM5m2my",
        "colab_type": "code",
        "colab": {
          "base_uri": "https://localhost:8080/",
          "height": 52
        },
        "outputId": "5c870872-9a65-4395-f3d5-5915e3c8f72a"
      },
      "source": [
        "print(y_train.shape, y_train[0])\n",
        "print(y_test.shape, y_test[0])"
      ],
      "execution_count": 12,
      "outputs": [
        {
          "output_type": "stream",
          "text": [
            "(60000, 10) [0. 0. 0. 0. 0. 1. 0. 0. 0. 0.]\n",
            "(10000, 10) [0. 0. 0. 0. 0. 0. 0. 1. 0. 0.]\n"
          ],
          "name": "stdout"
        }
      ]
    },
    {
      "cell_type": "markdown",
      "metadata": {
        "id": "68wojrT-oa0M",
        "colab_type": "text"
      },
      "source": [
        "### **Part 2 - Creating the Neural Network**\n",
        "\n",
        "We will use the Sequential class of Keras to build this simple neural network. The Sequential class is pretty popular to quickly stack layers of neural network to build the network  "
      ]
    },
    {
      "cell_type": "code",
      "metadata": {
        "id": "XmPnWyfiqNlQ",
        "colab_type": "code",
        "colab": {}
      },
      "source": [
        "## importing the relevant libraries\n",
        "from tensorflow.keras.models import Sequential\n",
        "from tensorflow.keras.layers import Dense, Activation"
      ],
      "execution_count": 13,
      "outputs": []
    },
    {
      "cell_type": "code",
      "metadata": {
        "id": "jeIfuHvMm-wz",
        "colab_type": "code",
        "colab": {}
      },
      "source": [
        "## create the model instance\n",
        "\n",
        "model = Sequential()"
      ],
      "execution_count": 14,
      "outputs": []
    },
    {
      "cell_type": "code",
      "metadata": {
        "id": "8oTK5ivvqJfJ",
        "colab_type": "code",
        "colab": {}
      },
      "source": [
        "## add first layer \n",
        "\n",
        "model.add(Dense(256, input_shape=(784,))) # make sure you put comma after 784, this represents a tuple, which should be the input for input layer "
      ],
      "execution_count": 15,
      "outputs": []
    },
    {
      "cell_type": "markdown",
      "metadata": {
        "id": "sAkvMk85sHen",
        "colab_type": "text"
      },
      "source": [
        "#### Adding the activation layer can be done in two ways \n",
        "- Use the Actvation layer seperately \n",
        "- Define the activation funtion in the layer itself \n",
        "\n",
        "[Check out this article about activation functions](https://medium.com/the-theory-of-everything/understanding-activation-functions-in-neural-networks-9491262884e0)"
      ]
    },
    {
      "cell_type": "code",
      "metadata": {
        "id": "ThWv9moPrJQb",
        "colab_type": "code",
        "colab": {}
      },
      "source": [
        "## add activation layer\n",
        "model.add(Activation('relu'))"
      ],
      "execution_count": 16,
      "outputs": []
    },
    {
      "cell_type": "code",
      "metadata": {
        "id": "2EPPytDArYxx",
        "colab_type": "code",
        "colab": {}
      },
      "source": [
        "## add second layer along with activation\n",
        "model.add(Dense(256, activation=\"relu\"))"
      ],
      "execution_count": 17,
      "outputs": []
    },
    {
      "cell_type": "code",
      "metadata": {
        "id": "oSjxeipPr0Hb",
        "colab_type": "code",
        "colab": {}
      },
      "source": [
        "## add the last layer\n",
        "model.add(Dense(10, activation=\"softmax\")) ## we have ten output labels"
      ],
      "execution_count": 18,
      "outputs": []
    },
    {
      "cell_type": "code",
      "metadata": {
        "id": "5PxpNTAItJvI",
        "colab_type": "code",
        "colab": {
          "base_uri": "https://localhost:8080/",
          "height": 295
        },
        "outputId": "eafd0385-c095-4c84-b704-23a415db936a"
      },
      "source": [
        "## lets get an overview of the network we put together so far\n",
        "model.summary()"
      ],
      "execution_count": 19,
      "outputs": [
        {
          "output_type": "stream",
          "text": [
            "Model: \"sequential\"\n",
            "_________________________________________________________________\n",
            "Layer (type)                 Output Shape              Param #   \n",
            "=================================================================\n",
            "dense (Dense)                (None, 256)               200960    \n",
            "_________________________________________________________________\n",
            "activation (Activation)      (None, 256)               0         \n",
            "_________________________________________________________________\n",
            "dense_1 (Dense)              (None, 256)               65792     \n",
            "_________________________________________________________________\n",
            "dense_2 (Dense)              (None, 10)                2570      \n",
            "=================================================================\n",
            "Total params: 269,322\n",
            "Trainable params: 269,322\n",
            "Non-trainable params: 0\n",
            "_________________________________________________________________\n"
          ],
          "name": "stdout"
        }
      ]
    },
    {
      "cell_type": "markdown",
      "metadata": {
        "id": "zmSTynCjteMU",
        "colab_type": "text"
      },
      "source": [
        "#### **Whats missing now?**\n",
        "\n",
        "We have the network in place, we have defined the layers, actvations functions and stuff, but, we have not yet defined important **hyperparameters** such as loss function, learning rate, optimizer, and metrics\n",
        "\n",
        "[More about learning rates](https://towardsdatascience.com/understanding-learning-rates-and-how-it-improves-performance-in-deep-learning-d0d4059c1c10)\n",
        "\n",
        "#### **We compile the model to define the hyperparameters, basically, we define model properties and finalise the model**"
      ]
    },
    {
      "cell_type": "code",
      "metadata": {
        "id": "rRBqxyVUtQF8",
        "colab_type": "code",
        "colab": {}
      },
      "source": [
        "## compiling the model\n",
        "model.compile(loss=\"categorical_crossentropy\", optimizer=\"sgd\", metrics=[\"accuracy\"])"
      ],
      "execution_count": 20,
      "outputs": []
    },
    {
      "cell_type": "code",
      "metadata": {
        "id": "Z8SIbGCaves4",
        "colab_type": "code",
        "colab": {
          "base_uri": "https://localhost:8080/",
          "height": 295
        },
        "outputId": "ba8b74e9-fce4-424d-9cb0-8b448c103717"
      },
      "source": [
        "model.summary()"
      ],
      "execution_count": 21,
      "outputs": [
        {
          "output_type": "stream",
          "text": [
            "Model: \"sequential\"\n",
            "_________________________________________________________________\n",
            "Layer (type)                 Output Shape              Param #   \n",
            "=================================================================\n",
            "dense (Dense)                (None, 256)               200960    \n",
            "_________________________________________________________________\n",
            "activation (Activation)      (None, 256)               0         \n",
            "_________________________________________________________________\n",
            "dense_1 (Dense)              (None, 256)               65792     \n",
            "_________________________________________________________________\n",
            "dense_2 (Dense)              (None, 10)                2570      \n",
            "=================================================================\n",
            "Total params: 269,322\n",
            "Trainable params: 269,322\n",
            "Non-trainable params: 0\n",
            "_________________________________________________________________\n"
          ],
          "name": "stdout"
        }
      ]
    },
    {
      "cell_type": "markdown",
      "metadata": {
        "id": "gSXfikOOwcwR",
        "colab_type": "text"
      },
      "source": [
        "### **Part 3 - Training the network**\n",
        "\n",
        "This is the part where we train the network that we have built. "
      ]
    },
    {
      "cell_type": "code",
      "metadata": {
        "id": "N65Xu8-bwG0e",
        "colab_type": "code",
        "colab": {
          "base_uri": "https://localhost:8080/",
          "height": 364
        },
        "outputId": "c0f2518a-bc3e-40c9-ead3-aa9d5f9b8702"
      },
      "source": [
        "## Lets first confirm that GPU is available :)\n",
        "!nvidia-smi"
      ],
      "execution_count": 22,
      "outputs": [
        {
          "output_type": "stream",
          "text": [
            "Thu Jul  2 11:36:24 2020       \n",
            "+-----------------------------------------------------------------------------+\n",
            "| NVIDIA-SMI 450.36.06    Driver Version: 418.67       CUDA Version: 10.1     |\n",
            "|-------------------------------+----------------------+----------------------+\n",
            "| GPU  Name        Persistence-M| Bus-Id        Disp.A | Volatile Uncorr. ECC |\n",
            "| Fan  Temp  Perf  Pwr:Usage/Cap|         Memory-Usage | GPU-Util  Compute M. |\n",
            "|                               |                      |               MIG M. |\n",
            "|===============================+======================+======================|\n",
            "|   0  Tesla K80           Off  | 00000000:00:04.0 Off |                    0 |\n",
            "| N/A   74C    P0    76W / 149W |    133MiB / 11441MiB |      0%      Default |\n",
            "|                               |                      |                 ERR! |\n",
            "+-------------------------------+----------------------+----------------------+\n",
            "                                                                               \n",
            "+-----------------------------------------------------------------------------+\n",
            "| Processes:                                                                  |\n",
            "|  GPU   GI   CI        PID   Type   Process name                  GPU Memory |\n",
            "|        ID   ID                                                   Usage      |\n",
            "|=============================================================================|\n",
            "|  No running processes found                                                 |\n",
            "+-----------------------------------------------------------------------------+\n"
          ],
          "name": "stdout"
        }
      ]
    },
    {
      "cell_type": "code",
      "metadata": {
        "id": "i4STE3aVxYnZ",
        "colab_type": "code",
        "colab": {
          "base_uri": "https://localhost:8080/",
          "height": 35
        },
        "outputId": "72205be1-532e-484a-a381-25956d3ed45f"
      },
      "source": [
        "import tensorflow as tf\n",
        "tf.__version__"
      ],
      "execution_count": 23,
      "outputs": [
        {
          "output_type": "execute_result",
          "data": {
            "application/vnd.google.colaboratory.intrinsic": {
              "type": "string"
            },
            "text/plain": [
              "'2.2.0'"
            ]
          },
          "metadata": {
            "tags": []
          },
          "execution_count": 23
        }
      ]
    },
    {
      "cell_type": "code",
      "metadata": {
        "id": "iCqdz8lxw6Hh",
        "colab_type": "code",
        "colab": {
          "base_uri": "https://localhost:8080/",
          "height": 35
        },
        "outputId": "0e84542d-3ee4-4a48-a37f-9a00485d4930"
      },
      "source": [
        "tf.config.list_physical_devices('GPU')"
      ],
      "execution_count": 24,
      "outputs": [
        {
          "output_type": "execute_result",
          "data": {
            "text/plain": [
              "[PhysicalDevice(name='/physical_device:GPU:0', device_type='GPU')]"
            ]
          },
          "metadata": {
            "tags": []
          },
          "execution_count": 24
        }
      ]
    },
    {
      "cell_type": "markdown",
      "metadata": {
        "id": "VspUhwEIyAUZ",
        "colab_type": "text"
      },
      "source": [
        "#### **Prepare for training**\n",
        "\n",
        "We need to figure out certain parameters like number of epochs, batch_size, and many more.. Lets start with the simplest ones\n",
        "\n",
        "[Article on epochs, batch size, and iterations](https://towardsdatascience.com/epoch-vs-iterations-vs-batch-size-4dfb9c7ce9c9#:~:text=the%20data%20given.-,Epochs,it%20in%20several%20smaller%20batches.)"
      ]
    },
    {
      "cell_type": "code",
      "metadata": {
        "id": "5MZ35e0My472",
        "colab_type": "code",
        "colab": {}
      },
      "source": [
        "EPOCHS = 10\n",
        "BATCH_SIZE = 128"
      ],
      "execution_count": 25,
      "outputs": []
    },
    {
      "cell_type": "code",
      "metadata": {
        "id": "0Yohz404xWuq",
        "colab_type": "code",
        "colab": {
          "base_uri": "https://localhost:8080/",
          "height": 364
        },
        "outputId": "21a487ba-e666-449f-aea0-453d8ababdcd"
      },
      "source": [
        "history = model.fit(  ## we save the training result in history variable\n",
        "    x=x_train,  ## training images \n",
        "    y=y_train,  ## training labels\n",
        "    epochs=EPOCHS,  ## number of epochs\n",
        "    batch_size=BATCH_SIZE,  ## define the batch size\n",
        "    shuffle=True,   ## lets shuffle the inputs\n",
        "    validation_split=0.2 ## 20% training data will be used as validation data\n",
        ")"
      ],
      "execution_count": 26,
      "outputs": [
        {
          "output_type": "stream",
          "text": [
            "Epoch 1/10\n",
            "375/375 [==============================] - 2s 5ms/step - loss: 1.3250 - accuracy: 0.6883 - val_loss: 0.6448 - val_accuracy: 0.8558\n",
            "Epoch 2/10\n",
            "375/375 [==============================] - 2s 4ms/step - loss: 0.5388 - accuracy: 0.8646 - val_loss: 0.4167 - val_accuracy: 0.8917\n",
            "Epoch 3/10\n",
            "375/375 [==============================] - 2s 4ms/step - loss: 0.4093 - accuracy: 0.8883 - val_loss: 0.3514 - val_accuracy: 0.9026\n",
            "Epoch 4/10\n",
            "375/375 [==============================] - 2s 4ms/step - loss: 0.3572 - accuracy: 0.9001 - val_loss: 0.3175 - val_accuracy: 0.9104\n",
            "Epoch 5/10\n",
            "375/375 [==============================] - 2s 4ms/step - loss: 0.3262 - accuracy: 0.9080 - val_loss: 0.2954 - val_accuracy: 0.9159\n",
            "Epoch 6/10\n",
            "375/375 [==============================] - 2s 4ms/step - loss: 0.3045 - accuracy: 0.9141 - val_loss: 0.2809 - val_accuracy: 0.9198\n",
            "Epoch 7/10\n",
            "375/375 [==============================] - 2s 4ms/step - loss: 0.2873 - accuracy: 0.9185 - val_loss: 0.2667 - val_accuracy: 0.9263\n",
            "Epoch 8/10\n",
            "375/375 [==============================] - 2s 4ms/step - loss: 0.2732 - accuracy: 0.9221 - val_loss: 0.2552 - val_accuracy: 0.9287\n",
            "Epoch 9/10\n",
            "375/375 [==============================] - 2s 4ms/step - loss: 0.2608 - accuracy: 0.9254 - val_loss: 0.2447 - val_accuracy: 0.9308\n",
            "Epoch 10/10\n",
            "375/375 [==============================] - 2s 4ms/step - loss: 0.2499 - accuracy: 0.9288 - val_loss: 0.2367 - val_accuracy: 0.9312\n"
          ],
          "name": "stdout"
        }
      ]
    },
    {
      "cell_type": "code",
      "metadata": {
        "id": "mkPls_SmyeA_",
        "colab_type": "code",
        "colab": {
          "base_uri": "https://localhost:8080/",
          "height": 35
        },
        "outputId": "cd53de6b-5530-4f63-d1af-16e96300535d"
      },
      "source": [
        "## check out the result\n",
        "print(history.history.keys())"
      ],
      "execution_count": 27,
      "outputs": [
        {
          "output_type": "stream",
          "text": [
            "dict_keys(['loss', 'accuracy', 'val_loss', 'val_accuracy'])\n"
          ],
          "name": "stdout"
        }
      ]
    },
    {
      "cell_type": "code",
      "metadata": {
        "id": "Vg3Skr0W2LKc",
        "colab_type": "code",
        "colab": {
          "base_uri": "https://localhost:8080/",
          "height": 107
        },
        "outputId": "5bce0067-66d9-48c1-d964-bf6ed8d95494"
      },
      "source": [
        "for i in history.history.keys():\n",
        "  print(history.history[i])"
      ],
      "execution_count": 28,
      "outputs": [
        {
          "output_type": "stream",
          "text": [
            "[1.3250068426132202, 0.5388066172599792, 0.40931689739227295, 0.3571847379207611, 0.32616111636161804, 0.30445852875709534, 0.28726455569267273, 0.27322810888290405, 0.2608151435852051, 0.24989092350006104]\n",
            "[0.6882916688919067, 0.8646458387374878, 0.8883125185966492, 0.9001041650772095, 0.9080208539962769, 0.9140833616256714, 0.918541669845581, 0.9220625162124634, 0.9254166483879089, 0.9287916421890259]\n",
            "[0.6447667479515076, 0.4166531264781952, 0.3513720631599426, 0.31747114658355713, 0.29537293314933777, 0.28087037801742554, 0.26667457818984985, 0.25518399477005005, 0.24469049274921417, 0.23671995103359222]\n",
            "[0.8558333516120911, 0.8916666507720947, 0.9025833606719971, 0.9104166626930237, 0.9159166812896729, 0.9198333621025085, 0.9263333082199097, 0.9287499785423279, 0.9307500123977661, 0.9311666488647461]\n"
          ],
          "name": "stdout"
        }
      ]
    },
    {
      "cell_type": "markdown",
      "metadata": {
        "id": "kacFyC6D2ijn",
        "colab_type": "text"
      },
      "source": [
        "#### **Plotting the result**"
      ]
    },
    {
      "cell_type": "code",
      "metadata": {
        "id": "7IGK5uu62eHq",
        "colab_type": "code",
        "colab": {
          "base_uri": "https://localhost:8080/",
          "height": 297
        },
        "outputId": "2afb1653-3317-40f7-ede9-f6b692136b0a"
      },
      "source": [
        "plt.style.use('ggplot') ## use ggplot style sheet. Its just prettier :)\n",
        "\n",
        "fig = plt.figure(figsize=(10, 4))\n",
        "## accuracy plot\n",
        "plt.subplot(1, 2, 1)\n",
        "plt.plot(history.history['accuracy'])\n",
        "plt.plot(history.history['val_accuracy'])\n",
        "plt.title('Accuracy of Model')\n",
        "plt.xlabel('Epochs')\n",
        "plt.ylabel('Accuracy')\n",
        "plt.legend(['train', 'test'], loc='lower right')\n",
        "\n",
        "## loss plot\n",
        "plt.subplot(1, 2, 2)\n",
        "plt.plot(history.history['loss'])\n",
        "plt.plot(history.history['val_loss'])\n",
        "plt.title('Loss of Model')\n",
        "plt.xlabel('Epochs')\n",
        "plt.ylabel('Loss')\n",
        "plt.legend(['train', 'test'], loc='upper right')\n",
        "\n",
        "plt.tight_layout()\n",
        "\n",
        "fig.show();"
      ],
      "execution_count": 29,
      "outputs": [
        {
          "output_type": "display_data",
          "data": {
            "image/png": "[encoded data removed]",
            "text/plain": [
              "<Figure size 720x288 with 2 Axes>"
            ]
          },
          "metadata": {
            "tags": []
          }
        }
      ]
    },
    {
      "cell_type": "markdown",
      "metadata": {
        "id": "mqsOVw4lBa8h",
        "colab_type": "text"
      },
      "source": [
        "#### **Saving and loading the model**\n",
        "\n",
        "Models can be saved in two ways\n",
        "1. Whole models\n",
        "  - Whole models can be saved using model.save() or tf.keras.models.save_model() function.\n",
        "  - Models are saved in the TF SavedModel format by default\n",
        "  - Models are saved as HDF5 files if the specified format is 'h5' or file extension is '.h5' \n",
        "  >[Read about HDF5 for Python here](http://docs.h5py.org/en/stable/)\n",
        "\n",
        "2. Saving the architecture and weights separately\n",
        "   - Save the model architecture as JSON or YAML\n",
        "   - Save the model weights as HDF5 files\n"
      ]
    },
    {
      "cell_type": "code",
      "metadata": {
        "id": "WoDtOYQb2bMa",
        "colab_type": "code",
        "colab": {}
      },
      "source": [
        "## lets create a folder to save the model \n",
        "!mkdir -p models"
      ],
      "execution_count": 30,
      "outputs": []
    },
    {
      "cell_type": "code",
      "metadata": {
        "id": "PvDDgPy5DjDD",
        "colab_type": "code",
        "colab": {}
      },
      "source": [
        "## lets save the whole model as hdf5 file\n",
        "model.save(\"models/model_basic_v1.h5\")"
      ],
      "execution_count": 31,
      "outputs": []
    },
    {
      "cell_type": "code",
      "metadata": {
        "id": "t35y64atF7Sb",
        "colab_type": "code",
        "colab": {
          "base_uri": "https://localhost:8080/",
          "height": 35
        },
        "outputId": "ed7cd50a-4c7e-498d-8853-3cc55bbaf3d3"
      },
      "source": [
        "## check saved model\n",
        "!ls models"
      ],
      "execution_count": 32,
      "outputs": [
        {
          "output_type": "stream",
          "text": [
            "model_basic_v1.h5\n"
          ],
          "name": "stdout"
        }
      ]
    },
    {
      "cell_type": "code",
      "metadata": {
        "id": "G0Cjh8M-Gs9K",
        "colab_type": "code",
        "colab": {}
      },
      "source": [
        "## load saved model\n",
        "model_loaded = tf.keras.models.load_model(\"models/model_basic_v1.h5\")"
      ],
      "execution_count": 33,
      "outputs": []
    },
    {
      "cell_type": "code",
      "metadata": {
        "id": "P-s3BKKrHMVI",
        "colab_type": "code",
        "colab": {
          "base_uri": "https://localhost:8080/",
          "height": 295
        },
        "outputId": "b548537e-da5d-4438-afe1-104c285b3d98"
      },
      "source": [
        "model_loaded.summary()"
      ],
      "execution_count": 34,
      "outputs": [
        {
          "output_type": "stream",
          "text": [
            "Model: \"sequential\"\n",
            "_________________________________________________________________\n",
            "Layer (type)                 Output Shape              Param #   \n",
            "=================================================================\n",
            "dense (Dense)                (None, 256)               200960    \n",
            "_________________________________________________________________\n",
            "activation (Activation)      (None, 256)               0         \n",
            "_________________________________________________________________\n",
            "dense_1 (Dense)              (None, 256)               65792     \n",
            "_________________________________________________________________\n",
            "dense_2 (Dense)              (None, 10)                2570      \n",
            "=================================================================\n",
            "Total params: 269,322\n",
            "Trainable params: 269,322\n",
            "Non-trainable params: 0\n",
            "_________________________________________________________________\n"
          ],
          "name": "stdout"
        }
      ]
    },
    {
      "cell_type": "code",
      "metadata": {
        "id": "GcKB8x_UHPI4",
        "colab_type": "code",
        "colab": {}
      },
      "source": [
        "## lets serialize and save the model architecture and weights separately\n",
        "## we will use that in next section\n",
        "model_json = model.to_json()\n",
        "\n",
        "with open(\"models/model_arch_v1.json\", \"w\") as json_file:\n",
        "  json_file.write(model_json)\n",
        "\n",
        "## serialize and save weights to HDF5\n",
        "model.save_weights(\"models/model_weights_v1.h5\")"
      ],
      "execution_count": 35,
      "outputs": []
    },
    {
      "cell_type": "code",
      "metadata": {
        "id": "nZtzVyHzIs_2",
        "colab_type": "code",
        "colab": {
          "base_uri": "https://localhost:8080/",
          "height": 35
        },
        "outputId": "6d5aaf16-c2b8-4382-b397-63ec90e889a5"
      },
      "source": [
        "!ls models"
      ],
      "execution_count": 36,
      "outputs": [
        {
          "output_type": "stream",
          "text": [
            "model_arch_v1.json  model_basic_v1.h5  model_weights_v1.h5\n"
          ],
          "name": "stdout"
        }
      ]
    },
    {
      "cell_type": "markdown",
      "metadata": {
        "id": "cZxCEQ8fJQav",
        "colab_type": "text"
      },
      "source": [
        "### **Lets add some callbacks to make it do stuff for us**"
      ]
    },
    {
      "cell_type": "code",
      "metadata": {
        "id": "gO7QjqG3IuT_",
        "colab_type": "code",
        "colab": {}
      },
      "source": [
        "## lets load the model architecture so we can train new model from scratch\n",
        "with open('models/model_arch_v1.json', 'r') as json_file:\n",
        "  model_v2_json = json_file.read()\n",
        "\n",
        "model_v2 = tf.keras.models.model_from_json(model_v2_json)"
      ],
      "execution_count": 37,
      "outputs": []
    },
    {
      "cell_type": "code",
      "metadata": {
        "id": "5UtzV8xGQi_Z",
        "colab_type": "code",
        "colab": {
          "base_uri": "https://localhost:8080/",
          "height": 295
        },
        "outputId": "2892c832-7bb9-4346-c1e4-d3faf72fec0b"
      },
      "source": [
        "model.summary()"
      ],
      "execution_count": 38,
      "outputs": [
        {
          "output_type": "stream",
          "text": [
            "Model: \"sequential\"\n",
            "_________________________________________________________________\n",
            "Layer (type)                 Output Shape              Param #   \n",
            "=================================================================\n",
            "dense (Dense)                (None, 256)               200960    \n",
            "_________________________________________________________________\n",
            "activation (Activation)      (None, 256)               0         \n",
            "_________________________________________________________________\n",
            "dense_1 (Dense)              (None, 256)               65792     \n",
            "_________________________________________________________________\n",
            "dense_2 (Dense)              (None, 10)                2570      \n",
            "=================================================================\n",
            "Total params: 269,322\n",
            "Trainable params: 269,322\n",
            "Non-trainable params: 0\n",
            "_________________________________________________________________\n"
          ],
          "name": "stdout"
        }
      ]
    },
    {
      "cell_type": "code",
      "metadata": {
        "id": "jRF51jCfQiuI",
        "colab_type": "code",
        "colab": {}
      },
      "source": [
        "## import callbacks from keras\n",
        "from tensorflow.keras.callbacks import EarlyStopping, ModelCheckpoint, CSVLogger"
      ],
      "execution_count": 39,
      "outputs": []
    },
    {
      "cell_type": "code",
      "metadata": {
        "id": "0oqSDRh6RLke",
        "colab_type": "code",
        "colab": {}
      },
      "source": [
        "## early stopping callback\n",
        "earlystop = EarlyStopping(\n",
        "    patience=3,\n",
        "    monitor='val_loss',\n",
        "    mode='min',\n",
        "    verbose=1\n",
        ")"
      ],
      "execution_count": 40,
      "outputs": []
    },
    {
      "cell_type": "code",
      "metadata": {
        "id": "wyiIQzC-SBwl",
        "colab_type": "code",
        "colab": {}
      },
      "source": [
        "## model check pointing callback\n",
        "checkpoint = ModelCheckpoint(\n",
        "    filepath=\"models/model_best_v3.h5\",\n",
        "    monitor=\"val_loss\",\n",
        "    save_best_only=True,\n",
        "    mode='min',\n",
        "    verbose=1\n",
        "    )"
      ],
      "execution_count": 41,
      "outputs": []
    },
    {
      "cell_type": "code",
      "metadata": {
        "id": "EPUzbPoqTBnL",
        "colab_type": "code",
        "colab": {}
      },
      "source": [
        "## csvlogger callback\n",
        "!mkdir -p csvlogs\n",
        "\n",
        "cvslogs = CSVLogger(\n",
        "    filename=\"csvlogs/training_log_v3.log\"\n",
        ")"
      ],
      "execution_count": 42,
      "outputs": []
    },
    {
      "cell_type": "code",
      "metadata": {
        "id": "tvDcmin9VO_Q",
        "colab_type": "code",
        "colab": {}
      },
      "source": [
        "callbacks = [earlystop, checkpoint, cvslogs]"
      ],
      "execution_count": 43,
      "outputs": []
    },
    {
      "cell_type": "markdown",
      "metadata": {
        "id": "dbopbYUiV6wF",
        "colab_type": "text"
      },
      "source": [
        "#### Lets add optimizer with a different learning rate as well "
      ]
    },
    {
      "cell_type": "code",
      "metadata": {
        "id": "im831gz-VQC0",
        "colab_type": "code",
        "colab": {}
      },
      "source": [
        "from tensorflow.keras.optimizers import SGD"
      ],
      "execution_count": 44,
      "outputs": []
    },
    {
      "cell_type": "code",
      "metadata": {
        "id": "t1yDedWYWOKB",
        "colab_type": "code",
        "colab": {}
      },
      "source": [
        "optimizer = SGD(learning_rate=0.001)"
      ],
      "execution_count": 45,
      "outputs": []
    },
    {
      "cell_type": "code",
      "metadata": {
        "id": "bWeZ83LWWN_o",
        "colab_type": "code",
        "colab": {}
      },
      "source": [
        "## model compile\n",
        "model_v2.compile(\n",
        "    optimizer=optimizer,\n",
        "    loss='categorical_crossentropy',\n",
        "    metrics=['accuracy'],\n",
        ")"
      ],
      "execution_count": 46,
      "outputs": []
    },
    {
      "cell_type": "code",
      "metadata": {
        "id": "JGajTed7WNzY",
        "colab_type": "code",
        "colab": {
          "base_uri": "https://localhost:8080/",
          "height": 711
        },
        "outputId": "fefcd250-dc24-40dd-8f9c-8e525bf3500a"
      },
      "source": [
        "## train the model with callbacks\n",
        "history2 = model_v2.fit(\n",
        "    x=x_train,\n",
        "    y=y_train,\n",
        "    batch_size=BATCH_SIZE,\n",
        "    epochs=EPOCHS,\n",
        "    callbacks=callbacks,\n",
        "    validation_split=0.2,\n",
        "    shuffle=True\n",
        ")"
      ],
      "execution_count": 47,
      "outputs": [
        {
          "output_type": "stream",
          "text": [
            "Epoch 1/10\n",
            "373/375 [============================>.] - ETA: 0s - loss: 2.2050 - accuracy: 0.2472\n",
            "Epoch 00001: val_loss improved from inf to 2.09408, saving model to models/model_best_v3.h5\n",
            "375/375 [==============================] - 2s 5ms/step - loss: 2.2044 - accuracy: 0.2479 - val_loss: 2.0941 - val_accuracy: 0.4240\n",
            "Epoch 2/10\n",
            "372/375 [============================>.] - ETA: 0s - loss: 1.9959 - accuracy: 0.5251\n",
            "Epoch 00002: val_loss improved from 2.09408 to 1.87800, saving model to models/model_best_v3.h5\n",
            "375/375 [==============================] - 2s 4ms/step - loss: 1.9951 - accuracy: 0.5256 - val_loss: 1.8780 - val_accuracy: 0.6121\n",
            "Epoch 3/10\n",
            "373/375 [============================>.] - ETA: 0s - loss: 1.7774 - accuracy: 0.6484\n",
            "Epoch 00003: val_loss improved from 1.87800 to 1.64871, saving model to models/model_best_v3.h5\n",
            "375/375 [==============================] - 2s 4ms/step - loss: 1.7769 - accuracy: 0.6484 - val_loss: 1.6487 - val_accuracy: 0.6963\n",
            "Epoch 4/10\n",
            "372/375 [============================>.] - ETA: 0s - loss: 1.5517 - accuracy: 0.7148\n",
            "Epoch 00004: val_loss improved from 1.64871 to 1.41943, saving model to models/model_best_v3.h5\n",
            "375/375 [==============================] - 2s 4ms/step - loss: 1.5510 - accuracy: 0.7149 - val_loss: 1.4194 - val_accuracy: 0.7517\n",
            "Epoch 5/10\n",
            "365/375 [============================>.] - ETA: 0s - loss: 1.3379 - accuracy: 0.7560\n",
            "Epoch 00005: val_loss improved from 1.41943 to 1.21108, saving model to models/model_best_v3.h5\n",
            "375/375 [==============================] - 2s 4ms/step - loss: 1.3352 - accuracy: 0.7567 - val_loss: 1.2111 - val_accuracy: 0.7878\n",
            "Epoch 6/10\n",
            "372/375 [============================>.] - ETA: 0s - loss: 1.1483 - accuracy: 0.7822\n",
            "Epoch 00006: val_loss improved from 1.21108 to 1.03863, saving model to models/model_best_v3.h5\n",
            "375/375 [==============================] - 2s 4ms/step - loss: 1.1479 - accuracy: 0.7820 - val_loss: 1.0386 - val_accuracy: 0.8103\n",
            "Epoch 7/10\n",
            "369/375 [============================>.] - ETA: 0s - loss: 0.9995 - accuracy: 0.7992\n",
            "Epoch 00007: val_loss improved from 1.03863 to 0.90458, saving model to models/model_best_v3.h5\n",
            "375/375 [==============================] - 2s 4ms/step - loss: 0.9979 - accuracy: 0.7995 - val_loss: 0.9046 - val_accuracy: 0.8265\n",
            "Epoch 8/10\n",
            "374/375 [============================>.] - ETA: 0s - loss: 0.8831 - accuracy: 0.8134\n",
            "Epoch 00008: val_loss improved from 0.90458 to 0.80303, saving model to models/model_best_v3.h5\n",
            "375/375 [==============================] - 2s 4ms/step - loss: 0.8829 - accuracy: 0.8134 - val_loss: 0.8030 - val_accuracy: 0.8371\n",
            "Epoch 9/10\n",
            "371/375 [============================>.] - ETA: 0s - loss: 0.7959 - accuracy: 0.8240\n",
            "Epoch 00009: val_loss improved from 0.80303 to 0.72589, saving model to models/model_best_v3.h5\n",
            "375/375 [==============================] - 2s 4ms/step - loss: 0.7956 - accuracy: 0.8240 - val_loss: 0.7259 - val_accuracy: 0.8464\n",
            "Epoch 10/10\n",
            "365/375 [============================>.] - ETA: 0s - loss: 0.7288 - accuracy: 0.8342\n",
            "Epoch 00010: val_loss improved from 0.72589 to 0.66604, saving model to models/model_best_v3.h5\n",
            "375/375 [==============================] - 2s 4ms/step - loss: 0.7283 - accuracy: 0.8337 - val_loss: 0.6660 - val_accuracy: 0.8557\n"
          ],
          "name": "stdout"
        }
      ]
    },
    {
      "cell_type": "code",
      "metadata": {
        "colab_type": "code",
        "id": "PBM8Hk2FsCuc",
        "colab": {}
      },
      "source": [
        "## lets first create a function to plot loss and accuracy\n",
        "\n",
        "def plot_history(history):\n",
        "  fig = plt.figure(figsize=(10, 4))\n",
        "  ## accuracy plot\n",
        "  plt.subplot(1, 2, 1)\n",
        "  plt.plot(history.history['accuracy'])\n",
        "  plt.plot(history.history['val_accuracy'])\n",
        "  plt.title('Accuracy of Model 2')\n",
        "  plt.xlabel('Epochs')\n",
        "  plt.ylabel('Accuracy')\n",
        "  plt.legend(['train', 'test'], loc='lower right')\n",
        "\n",
        "  ## loss plot\n",
        "  plt.subplot(1, 2, 2)\n",
        "  plt.plot(history.history['loss'])\n",
        "  plt.plot(history.history['val_loss'])\n",
        "  plt.title('Loss of Model 2')\n",
        "  plt.xlabel('Epochs')\n",
        "  plt.ylabel('Loss')\n",
        "  plt.legend(['train', 'test'], loc='upper right')\n",
        "\n",
        "  plt.tight_layout()\n",
        "\n",
        "  fig.show();"
      ],
      "execution_count": 48,
      "outputs": []
    },
    {
      "cell_type": "code",
      "metadata": {
        "id": "vW99uGlTsD5x",
        "colab_type": "code",
        "colab": {
          "base_uri": "https://localhost:8080/",
          "height": 297
        },
        "outputId": "07388c9a-7c0a-4273-988d-d1da4b964582"
      },
      "source": [
        "plot_history(history2)"
      ],
      "execution_count": 49,
      "outputs": [
        {
          "output_type": "display_data",
          "data": {
            "image/png": "[encoded data removed]",
            "text/plain": [
              "<Figure size 720x288 with 2 Axes>"
            ]
          },
          "metadata": {
            "tags": []
          }
        }
      ]
    },
    {
      "cell_type": "markdown",
      "metadata": {
        "id": "XiX2bw4XrRDK",
        "colab_type": "text"
      },
      "source": [
        "### **Testing and Evaluating the model**"
      ]
    },
    {
      "cell_type": "code",
      "metadata": {
        "id": "KpCgTe_obNo4",
        "colab_type": "code",
        "colab": {
          "base_uri": "https://localhost:8080/",
          "height": 89
        },
        "outputId": "dd1ae539-ea4e-48d6-dddd-ff9b95d2298b"
      },
      "source": [
        "## lets start withmaking a few prediction\n",
        "SAMPLES = 6 # test 6 samples from x_test\n",
        "\n",
        "predictions = model_v2.predict(x_test[:SAMPLES]) ## actual prediction\n",
        "\n",
        "# old function\n",
        "prediction_classes = model_v2.predict_classes(x_test[:SAMPLES])  ## class predictions old function now deprecated"
      ],
      "execution_count": 50,
      "outputs": [
        {
          "output_type": "stream",
          "text": [
            "WARNING:tensorflow:From <ipython-input-50-9b4027f0ef1f>:7: Sequential.predict_classes (from tensorflow.python.keras.engine.sequential) is deprecated and will be removed after 2021-01-01.\n",
            "Instructions for updating:\n",
            "Please use instead:* `np.argmax(model.predict(x), axis=-1)`,   if your model does multi-class classification   (e.g. if it uses a `softmax` last-layer activation).* `(model.predict(x) > 0.5).astype(\"int32\")`,   if your model does binary classification   (e.g. if it uses a `sigmoid` last-layer activation).\n"
          ],
          "name": "stdout"
        }
      ]
    },
    {
      "cell_type": "code",
      "metadata": {
        "id": "1fOcZJwEbOwj",
        "colab_type": "code",
        "colab": {
          "base_uri": "https://localhost:8080/",
          "height": 329
        },
        "outputId": "72e15fa3-4d25-48b0-c28f-e5c2fa0fc3ab"
      },
      "source": [
        "print(predictions)\n",
        "print(predictions.round(2))"
      ],
      "execution_count": 51,
      "outputs": [
        {
          "output_type": "stream",
          "text": [
            "[[1.0917977e-02 2.3547716e-03 6.9647622e-03 8.1912875e-03 1.1449152e-02\n",
            "  8.3978986e-03 4.6741301e-03 8.7063318e-01 1.3251788e-02 6.3165009e-02]\n",
            " [6.2128607e-02 5.2607540e-02 3.2477400e-01 1.8810166e-01 3.8454430e-03\n",
            "  1.8149412e-01 1.4792044e-01 2.0450719e-03 3.5606898e-02 1.4763136e-03]\n",
            " [6.1159134e-03 7.7087623e-01 4.2846084e-02 3.7656318e-02 2.5516108e-02\n",
            "  1.8409621e-02 2.6479546e-02 2.1429228e-02 3.8658969e-02 1.2011989e-02]\n",
            " [9.0587360e-01 1.2984208e-04 6.8517020e-03 3.4932932e-03 2.5405888e-03\n",
            "  3.6451824e-02 2.6336906e-02 7.6713799e-03 6.6148359e-03 4.0360345e-03]\n",
            " [3.0720230e-02 8.2417801e-03 1.0617251e-01 1.7863726e-02 4.3860847e-01\n",
            "  2.3209330e-02 8.2974628e-02 9.4623782e-02 5.9950765e-02 1.3763487e-01]\n",
            " [1.3673101e-03 8.5831952e-01 2.0735780e-02 3.1155054e-02 1.4824646e-02\n",
            "  7.8294445e-03 7.2796848e-03 1.4348014e-02 3.2907158e-02 1.1233423e-02]]\n",
            "[[0.01 0.   0.01 0.01 0.01 0.01 0.   0.87 0.01 0.06]\n",
            " [0.06 0.05 0.32 0.19 0.   0.18 0.15 0.   0.04 0.  ]\n",
            " [0.01 0.77 0.04 0.04 0.03 0.02 0.03 0.02 0.04 0.01]\n",
            " [0.91 0.   0.01 0.   0.   0.04 0.03 0.01 0.01 0.  ]\n",
            " [0.03 0.01 0.11 0.02 0.44 0.02 0.08 0.09 0.06 0.14]\n",
            " [0.   0.86 0.02 0.03 0.01 0.01 0.01 0.01 0.03 0.01]]\n"
          ],
          "name": "stdout"
        }
      ]
    },
    {
      "cell_type": "code",
      "metadata": {
        "id": "SYAV7PGowKnt",
        "colab_type": "code",
        "colab": {
          "base_uri": "https://localhost:8080/",
          "height": 35
        },
        "outputId": "e0edab15-ce01-4377-a7e7-5345249dc7f1"
      },
      "source": [
        "prediction_classes = np.argmax(predictions, axis=-1)\n",
        "print(prediction_classes)"
      ],
      "execution_count": 52,
      "outputs": [
        {
          "output_type": "stream",
          "text": [
            "[7 2 1 0 4 1]\n"
          ],
          "name": "stdout"
        }
      ]
    },
    {
      "cell_type": "code",
      "metadata": {
        "id": "hKjqmMbCxdu8",
        "colab_type": "code",
        "colab": {
          "base_uri": "https://localhost:8080/",
          "height": 121
        },
        "outputId": "3a3053d1-905a-4675-a944-8b99090edbfc"
      },
      "source": [
        "## now lets check the actual labels from y_test\n",
        "print(y_test[:SAMPLES])"
      ],
      "execution_count": 53,
      "outputs": [
        {
          "output_type": "stream",
          "text": [
            "[[0. 0. 0. 0. 0. 0. 0. 1. 0. 0.]\n",
            " [0. 0. 1. 0. 0. 0. 0. 0. 0. 0.]\n",
            " [0. 1. 0. 0. 0. 0. 0. 0. 0. 0.]\n",
            " [1. 0. 0. 0. 0. 0. 0. 0. 0. 0.]\n",
            " [0. 0. 0. 0. 1. 0. 0. 0. 0. 0.]\n",
            " [0. 1. 0. 0. 0. 0. 0. 0. 0. 0.]]\n"
          ],
          "name": "stdout"
        }
      ]
    },
    {
      "cell_type": "code",
      "metadata": {
        "id": "5AROZdIaxz0T",
        "colab_type": "code",
        "colab": {
          "base_uri": "https://localhost:8080/",
          "height": 35
        },
        "outputId": "8abe6837-ae3c-4b3a-f08e-8642384158ae"
      },
      "source": [
        "## extract the labels classes from y_test\n",
        "actual_classes = np.argmax(y_test[:SAMPLES], axis=-1)\n",
        "print(actual_classes)"
      ],
      "execution_count": 54,
      "outputs": [
        {
          "output_type": "stream",
          "text": [
            "[7 2 1 0 4 1]\n"
          ],
          "name": "stdout"
        }
      ]
    },
    {
      "cell_type": "markdown",
      "metadata": {
        "id": "jHX_xGpdybtI",
        "colab_type": "text"
      },
      "source": [
        "#### **Now lets do that with all the test images**"
      ]
    },
    {
      "cell_type": "code",
      "metadata": {
        "id": "ewGq6mKDyN4M",
        "colab_type": "code",
        "colab": {
          "base_uri": "https://localhost:8080/",
          "height": 35
        },
        "outputId": "9a0a87d0-201a-4f31-8da0-231f1ebc7efd"
      },
      "source": [
        "score = model_v2.evaluate(x_test, y_test, return_dict=True)"
      ],
      "execution_count": 55,
      "outputs": [
        {
          "output_type": "stream",
          "text": [
            "313/313 [==============================] - 1s 3ms/step - loss: 0.6711 - accuracy: 0.8510\n"
          ],
          "name": "stdout"
        }
      ]
    },
    {
      "cell_type": "code",
      "metadata": {
        "id": "xwq748ZuzH8E",
        "colab_type": "code",
        "colab": {
          "base_uri": "https://localhost:8080/",
          "height": 35
        },
        "outputId": "ec486a38-9493-4d84-ce1b-db92074d85fc"
      },
      "source": [
        "score"
      ],
      "execution_count": 56,
      "outputs": [
        {
          "output_type": "execute_result",
          "data": {
            "text/plain": [
              "{'accuracy': 0.8510000109672546, 'loss': 0.6710761189460754}"
            ]
          },
          "metadata": {
            "tags": []
          },
          "execution_count": 56
        }
      ]
    },
    {
      "cell_type": "markdown",
      "metadata": {
        "id": "eNSb0qwa0OJy",
        "colab_type": "text"
      },
      "source": [
        "### **Visualize the predictions**"
      ]
    },
    {
      "cell_type": "code",
      "metadata": {
        "id": "Sinr1WHvzJi1",
        "colab_type": "code",
        "colab": {}
      },
      "source": [
        "def show_images(samples, predicted):\n",
        "  fig = plt.figure(figsize=(6, 6))\n",
        "  for i, image in enumerate(samples):\n",
        "    plt.subplot(3, 3, i+1)\n",
        "    image = image.reshape(28, 28) * 255\n",
        "    plt.imshow(image, cmap='gray', interpolation='none')\n",
        "    plt.title(f\"Predicted {predicted[i]}\")\n",
        "    plt.grid(False)\n",
        "    plt.xticks([])\n",
        "\n",
        "  plt.tight_layout()\n",
        "  fig.show();"
      ],
      "execution_count": 57,
      "outputs": []
    },
    {
      "cell_type": "code",
      "metadata": {
        "id": "hpccnN1Q1-K1",
        "colab_type": "code",
        "colab": {
          "base_uri": "https://localhost:8080/",
          "height": 303
        },
        "outputId": "983d5635-019f-4e6d-9bfa-f7d478202249"
      },
      "source": [
        "show_images(x_test[:SAMPLES], prediction_classes)"
      ],
      "execution_count": 58,
      "outputs": [
        {
          "output_type": "display_data",
          "data": {
            "image/png": "[encoded data removed]",
            "text/plain": [
              "<Figure size 432x432 with 6 Axes>"
            ]
          },
          "metadata": {
            "tags": []
          }
        }
      ]
    },
    {
      "cell_type": "markdown",
      "metadata": {
        "id": "JQvtHL-G5vFi",
        "colab_type": "text"
      },
      "source": [
        "### **Part 6 - Improving the Performance**\n",
        "\n",
        "- Experiment 1 - Double the number of nodes in hidden layers\n",
        "- Experiment 2 - Change the number of epochs\n",
        "\n",
        "Exercises:\n",
        "- Experiment 3 - Add more hidden layers and see what happens\n",
        "- Experiment 4 - Try different optimizers and learning rates and share the results\n",
        "\n",
        "Bonus Exercise:\n",
        "- Experiment 5 - Play around with the architecture and hyperparameters and come up with the best possible performance\n",
        " \n"
      ]
    },
    {
      "cell_type": "markdown",
      "metadata": {
        "id": "WEH0Fsdy8wGX",
        "colab_type": "text"
      },
      "source": [
        "#### **Experiment 1**\n",
        "\n",
        "**Double the number of nodes in hidden layers**"
      ]
    },
    {
      "cell_type": "code",
      "metadata": {
        "id": "ZIDf0qv-3nlT",
        "colab_type": "code",
        "colab": {}
      },
      "source": [
        "## lets start by designing a new model from scratch\n",
        "model_v3 = Sequential() "
      ],
      "execution_count": 59,
      "outputs": []
    },
    {
      "cell_type": "code",
      "metadata": {
        "id": "sMM7w2_19T6h",
        "colab_type": "code",
        "colab": {}
      },
      "source": [
        "## add dense layers\n",
        "model_v3.add(Dense(512, input_shape=(784,), activation='relu'))\n",
        "model_v3.add(Dense(521, activation='relu'))\n",
        "model_v3.add(Dense(10, activation='softmax'))"
      ],
      "execution_count": 60,
      "outputs": []
    },
    {
      "cell_type": "code",
      "metadata": {
        "id": "rrD9Hi1j-FOI",
        "colab_type": "code",
        "colab": {
          "base_uri": "https://localhost:8080/",
          "height": 260
        },
        "outputId": "00123572-d707-4ce3-d2a3-3d09219959a8"
      },
      "source": [
        "model_v3.summary()"
      ],
      "execution_count": 61,
      "outputs": [
        {
          "output_type": "stream",
          "text": [
            "Model: \"sequential_1\"\n",
            "_________________________________________________________________\n",
            "Layer (type)                 Output Shape              Param #   \n",
            "=================================================================\n",
            "dense_3 (Dense)              (None, 512)               401920    \n",
            "_________________________________________________________________\n",
            "dense_4 (Dense)              (None, 521)               267273    \n",
            "_________________________________________________________________\n",
            "dense_5 (Dense)              (None, 10)                5220      \n",
            "=================================================================\n",
            "Total params: 674,413\n",
            "Trainable params: 674,413\n",
            "Non-trainable params: 0\n",
            "_________________________________________________________________\n"
          ],
          "name": "stdout"
        }
      ]
    },
    {
      "cell_type": "code",
      "metadata": {
        "id": "gbaV-snw-HRu",
        "colab_type": "code",
        "colab": {}
      },
      "source": [
        "optimizer = SGD(learning_rate=0.001)"
      ],
      "execution_count": 62,
      "outputs": []
    },
    {
      "cell_type": "code",
      "metadata": {
        "id": "ZR7tg7sJ-cOl",
        "colab_type": "code",
        "colab": {}
      },
      "source": [
        "model_v3.compile(\n",
        "    optimizer=optimizer,\n",
        "    loss='categorical_crossentropy',\n",
        "    metrics=['accuracy']\n",
        ")"
      ],
      "execution_count": 63,
      "outputs": []
    },
    {
      "cell_type": "code",
      "metadata": {
        "colab_type": "code",
        "id": "esQwKINz--ik",
        "colab": {}
      },
      "source": [
        "## early stopping callback\n",
        "earlystop = EarlyStopping(\n",
        "    patience=3,\n",
        "    monitor='val_loss',\n",
        "    mode='min',\n",
        "    verbose=1\n",
        ")\n",
        "\n",
        "## model check pointing callback\n",
        "checkpoint = ModelCheckpoint(\n",
        "    filepath=\"models/model_best_v3.h5\",\n",
        "    monitor=\"val_loss\",\n",
        "    save_best_only=True,\n",
        "    mode='min',\n",
        "    verbose=1\n",
        "    )\n",
        "\n",
        "callbacks = [earlystop, checkpoint]"
      ],
      "execution_count": 64,
      "outputs": []
    },
    {
      "cell_type": "code",
      "metadata": {
        "id": "yKepCaX9_fAG",
        "colab_type": "code",
        "colab": {
          "base_uri": "https://localhost:8080/",
          "height": 711
        },
        "outputId": "4f5ef455-5072-445b-bf9c-71ac0a227f72"
      },
      "source": [
        "## train the model\n",
        "history3 = model_v3.fit(\n",
        "    x=x_train,\n",
        "    y=y_train,\n",
        "    batch_size=BATCH_SIZE,\n",
        "    epochs=EPOCHS,\n",
        "    callbacks=callbacks,\n",
        "    validation_split=0.2,\n",
        "    shuffle=True\n",
        ")"
      ],
      "execution_count": 65,
      "outputs": [
        {
          "output_type": "stream",
          "text": [
            "Epoch 1/10\n",
            "374/375 [============================>.] - ETA: 0s - loss: 2.2137 - accuracy: 0.2374\n",
            "Epoch 00001: val_loss improved from inf to 2.07345, saving model to models/model_best_v3.h5\n",
            "375/375 [==============================] - 2s 5ms/step - loss: 2.2133 - accuracy: 0.2380 - val_loss: 2.0735 - val_accuracy: 0.4636\n",
            "Epoch 2/10\n",
            "366/375 [============================>.] - ETA: 0s - loss: 1.9530 - accuracy: 0.5763\n",
            "Epoch 00002: val_loss improved from 2.07345 to 1.80782, saving model to models/model_best_v3.h5\n",
            "375/375 [==============================] - 2s 5ms/step - loss: 1.9501 - accuracy: 0.5782 - val_loss: 1.8078 - val_accuracy: 0.6783\n",
            "Epoch 3/10\n",
            "373/375 [============================>.] - ETA: 0s - loss: 1.6865 - accuracy: 0.6955\n",
            "Epoch 00003: val_loss improved from 1.80782 to 1.53530, saving model to models/model_best_v3.h5\n",
            "375/375 [==============================] - 2s 5ms/step - loss: 1.6858 - accuracy: 0.6955 - val_loss: 1.5353 - val_accuracy: 0.7437\n",
            "Epoch 4/10\n",
            "371/375 [============================>.] - ETA: 0s - loss: 1.4291 - accuracy: 0.7460\n",
            "Epoch 00004: val_loss improved from 1.53530 to 1.28361, saving model to models/model_best_v3.h5\n",
            "375/375 [==============================] - 2s 5ms/step - loss: 1.4274 - accuracy: 0.7465 - val_loss: 1.2836 - val_accuracy: 0.7884\n",
            "Epoch 5/10\n",
            "374/375 [============================>.] - ETA: 0s - loss: 1.2034 - accuracy: 0.7812\n",
            "Epoch 00005: val_loss improved from 1.28361 to 1.07808, saving model to models/model_best_v3.h5\n",
            "375/375 [==============================] - 2s 5ms/step - loss: 1.2035 - accuracy: 0.7812 - val_loss: 1.0781 - val_accuracy: 0.8129\n",
            "Epoch 6/10\n",
            "369/375 [============================>.] - ETA: 0s - loss: 1.0289 - accuracy: 0.8049\n",
            "Epoch 00006: val_loss improved from 1.07808 to 0.92227, saving model to models/model_best_v3.h5\n",
            "375/375 [==============================] - 2s 5ms/step - loss: 1.0276 - accuracy: 0.8052 - val_loss: 0.9223 - val_accuracy: 0.8332\n",
            "Epoch 7/10\n",
            "371/375 [============================>.] - ETA: 0s - loss: 0.8965 - accuracy: 0.8213\n",
            "Epoch 00007: val_loss improved from 0.92227 to 0.80708, saving model to models/model_best_v3.h5\n",
            "375/375 [==============================] - 2s 5ms/step - loss: 0.8960 - accuracy: 0.8216 - val_loss: 0.8071 - val_accuracy: 0.8472\n",
            "Epoch 8/10\n",
            "365/375 [============================>.] - ETA: 0s - loss: 0.7999 - accuracy: 0.8322\n",
            "Epoch 00008: val_loss improved from 0.80708 to 0.72116, saving model to models/model_best_v3.h5\n",
            "375/375 [==============================] - 2s 5ms/step - loss: 0.7979 - accuracy: 0.8323 - val_loss: 0.7212 - val_accuracy: 0.8561\n",
            "Epoch 9/10\n",
            "367/375 [============================>.] - ETA: 0s - loss: 0.7237 - accuracy: 0.8422\n",
            "Epoch 00009: val_loss improved from 0.72116 to 0.65633, saving model to models/model_best_v3.h5\n",
            "375/375 [==============================] - 2s 5ms/step - loss: 0.7239 - accuracy: 0.8419 - val_loss: 0.6563 - val_accuracy: 0.8627\n",
            "Epoch 10/10\n",
            "370/375 [============================>.] - ETA: 0s - loss: 0.6668 - accuracy: 0.8495\n",
            "Epoch 00010: val_loss improved from 0.65633 to 0.60581, saving model to models/model_best_v3.h5\n",
            "375/375 [==============================] - 2s 5ms/step - loss: 0.6668 - accuracy: 0.8493 - val_loss: 0.6058 - val_accuracy: 0.8682\n"
          ],
          "name": "stdout"
        }
      ]
    },
    {
      "cell_type": "code",
      "metadata": {
        "id": "iNwBQc6SAG8N",
        "colab_type": "code",
        "colab": {
          "base_uri": "https://localhost:8080/",
          "height": 297
        },
        "outputId": "86dc4824-689e-44ec-fb09-745ea998d277"
      },
      "source": [
        "plot_history(history3)"
      ],
      "execution_count": 66,
      "outputs": [
        {
          "output_type": "display_data",
          "data": {
            "image/png": "[encoded data removed]",
            "text/plain": [
              "<Figure size 720x288 with 2 Axes>"
            ]
          },
          "metadata": {
            "tags": []
          }
        }
      ]
    },
    {
      "cell_type": "code",
      "metadata": {
        "id": "jPxPvt4UAKyJ",
        "colab_type": "code",
        "colab": {
          "base_uri": "https://localhost:8080/",
          "height": 52
        },
        "outputId": "14df92ef-9a10-48dd-d189-5fc52f6cbccb"
      },
      "source": [
        "## evaluate\n",
        "score = model_v3.evaluate(x_test, y_test, return_dict=True)\n",
        "print(score)"
      ],
      "execution_count": 67,
      "outputs": [
        {
          "output_type": "stream",
          "text": [
            "313/313 [==============================] - 1s 3ms/step - loss: 0.6124 - accuracy: 0.8625\n",
            "{'loss': 0.6124357581138611, 'accuracy': 0.862500011920929}\n"
          ],
          "name": "stdout"
        }
      ]
    },
    {
      "cell_type": "markdown",
      "metadata": {
        "id": "deTzLaiRAijY",
        "colab_type": "text"
      },
      "source": [
        "#### **Experiment 2 - Increase number of epochs**"
      ]
    },
    {
      "cell_type": "code",
      "metadata": {
        "id": "3OZsz57uAUTi",
        "colab_type": "code",
        "colab": {}
      },
      "source": [
        "NEW_EPOCHS = 50"
      ],
      "execution_count": 68,
      "outputs": []
    },
    {
      "cell_type": "code",
      "metadata": {
        "id": "232RAUW4Ax56",
        "colab_type": "code",
        "colab": {}
      },
      "source": [
        "model_v3_json = model_v3.to_json()"
      ],
      "execution_count": 69,
      "outputs": []
    },
    {
      "cell_type": "code",
      "metadata": {
        "id": "lwi4JRcWBmyH",
        "colab_type": "code",
        "colab": {}
      },
      "source": [
        "model_v4 = tf.keras.models.model_from_json(model_v3_json)"
      ],
      "execution_count": 70,
      "outputs": []
    },
    {
      "cell_type": "code",
      "metadata": {
        "id": "7ElXM-sBBzgt",
        "colab_type": "code",
        "colab": {
          "base_uri": "https://localhost:8080/",
          "height": 260
        },
        "outputId": "0febecf0-faf7-4bbf-a4aa-c54527c2cfe8"
      },
      "source": [
        "model_v4.summary()"
      ],
      "execution_count": 71,
      "outputs": [
        {
          "output_type": "stream",
          "text": [
            "Model: \"sequential_1\"\n",
            "_________________________________________________________________\n",
            "Layer (type)                 Output Shape              Param #   \n",
            "=================================================================\n",
            "dense_3 (Dense)              (None, 512)               401920    \n",
            "_________________________________________________________________\n",
            "dense_4 (Dense)              (None, 521)               267273    \n",
            "_________________________________________________________________\n",
            "dense_5 (Dense)              (None, 10)                5220      \n",
            "=================================================================\n",
            "Total params: 674,413\n",
            "Trainable params: 674,413\n",
            "Non-trainable params: 0\n",
            "_________________________________________________________________\n"
          ],
          "name": "stdout"
        }
      ]
    },
    {
      "cell_type": "code",
      "metadata": {
        "id": "f-6ae3CoB127",
        "colab_type": "code",
        "colab": {}
      },
      "source": [
        "model_v4.compile(\n",
        "    optimizer=optimizer,\n",
        "    loss='categorical_crossentropy',\n",
        "    metrics=['accuracy']\n",
        ")"
      ],
      "execution_count": 72,
      "outputs": []
    },
    {
      "cell_type": "code",
      "metadata": {
        "id": "Ba791q69DVBY",
        "colab_type": "code",
        "colab": {
          "base_uri": "https://localhost:8080/",
          "height": 1000
        },
        "outputId": "205d41c7-a816-44bc-8ad2-7dc24cec7da2"
      },
      "source": [
        "## lets train with the same callbacks as before\n",
        "history4 = model_v4.fit(\n",
        "    x=x_train,\n",
        "    y=y_train,\n",
        "    batch_size=BATCH_SIZE,\n",
        "    epochs=NEW_EPOCHS,\n",
        "    callbacks=callbacks,\n",
        "    validation_split=0.2,\n",
        "    shuffle=True\n",
        ")"
      ],
      "execution_count": 73,
      "outputs": [
        {
          "output_type": "stream",
          "text": [
            "Epoch 1/50\n",
            "368/375 [============================>.] - ETA: 0s - loss: 2.2089 - accuracy: 0.2522\n",
            "Epoch 00001: val_loss did not improve from 0.60581\n",
            "375/375 [==============================] - 2s 6ms/step - loss: 2.2067 - accuracy: 0.2555 - val_loss: 2.0756 - val_accuracy: 0.4564\n",
            "Epoch 2/50\n",
            "372/375 [============================>.] - ETA: 0s - loss: 1.9607 - accuracy: 0.5595\n",
            "Epoch 00002: val_loss did not improve from 0.60581\n",
            "375/375 [==============================] - 2s 5ms/step - loss: 1.9595 - accuracy: 0.5602 - val_loss: 1.8263 - val_accuracy: 0.6643\n",
            "Epoch 3/50\n",
            "374/375 [============================>.] - ETA: 0s - loss: 1.7113 - accuracy: 0.6816\n",
            "Epoch 00003: val_loss did not improve from 0.60581\n",
            "375/375 [==============================] - 2s 5ms/step - loss: 1.7110 - accuracy: 0.6815 - val_loss: 1.5692 - val_accuracy: 0.7357\n",
            "Epoch 4/50\n",
            "369/375 [============================>.] - ETA: 0s - loss: 1.4650 - accuracy: 0.7342\n",
            "Epoch 00004: val_loss did not improve from 0.60581\n",
            "375/375 [==============================] - 2s 5ms/step - loss: 1.4631 - accuracy: 0.7345 - val_loss: 1.3237 - val_accuracy: 0.7721\n",
            "Epoch 5/50\n",
            "367/375 [============================>.] - ETA: 0s - loss: 1.2421 - accuracy: 0.7689\n",
            "Epoch 00005: val_loss did not improve from 0.60581\n",
            "375/375 [==============================] - 2s 5ms/step - loss: 1.2406 - accuracy: 0.7689 - val_loss: 1.1158 - val_accuracy: 0.8030\n",
            "Epoch 6/50\n",
            "365/375 [============================>.] - ETA: 0s - loss: 1.0639 - accuracy: 0.7936\n",
            "Epoch 00006: val_loss did not improve from 0.60581\n",
            "375/375 [==============================] - 2s 5ms/step - loss: 1.0613 - accuracy: 0.7943 - val_loss: 0.9552 - val_accuracy: 0.8229\n",
            "Epoch 7/50\n",
            "366/375 [============================>.] - ETA: 0s - loss: 0.9276 - accuracy: 0.8112\n",
            "Epoch 00007: val_loss did not improve from 0.60581\n",
            "375/375 [==============================] - 2s 5ms/step - loss: 0.9257 - accuracy: 0.8117 - val_loss: 0.8355 - val_accuracy: 0.8353\n",
            "Epoch 8/50\n",
            "371/375 [============================>.] - ETA: 0s - loss: 0.8242 - accuracy: 0.8244\n",
            "Epoch 00008: val_loss did not improve from 0.60581\n",
            "375/375 [==============================] - 2s 5ms/step - loss: 0.8244 - accuracy: 0.8242 - val_loss: 0.7464 - val_accuracy: 0.8469\n",
            "Epoch 9/50\n",
            "365/375 [============================>.] - ETA: 0s - loss: 0.7486 - accuracy: 0.8351\n",
            "Epoch 00009: val_loss did not improve from 0.60581\n",
            "375/375 [==============================] - 2s 5ms/step - loss: 0.7478 - accuracy: 0.8352 - val_loss: 0.6785 - val_accuracy: 0.8540\n",
            "Epoch 10/50\n",
            "364/375 [============================>.] - ETA: 0s - loss: 0.6895 - accuracy: 0.8441\n",
            "Epoch 00010: val_loss did not improve from 0.60581\n",
            "375/375 [==============================] - 2s 5ms/step - loss: 0.6884 - accuracy: 0.8441 - val_loss: 0.6257 - val_accuracy: 0.8620\n",
            "Epoch 11/50\n",
            "364/375 [============================>.] - ETA: 0s - loss: 0.6423 - accuracy: 0.8509\n",
            "Epoch 00011: val_loss improved from 0.60581 to 0.58355, saving model to models/model_best_v3.h5\n",
            "375/375 [==============================] - 2s 5ms/step - loss: 0.6414 - accuracy: 0.8507 - val_loss: 0.5836 - val_accuracy: 0.8685\n",
            "Epoch 12/50\n",
            "369/375 [============================>.] - ETA: 0s - loss: 0.6034 - accuracy: 0.8568\n",
            "Epoch 00012: val_loss improved from 0.58355 to 0.54920, saving model to models/model_best_v3.h5\n",
            "375/375 [==============================] - 2s 5ms/step - loss: 0.6031 - accuracy: 0.8571 - val_loss: 0.5492 - val_accuracy: 0.8736\n",
            "Epoch 13/50\n",
            "367/375 [============================>.] - ETA: 0s - loss: 0.5717 - accuracy: 0.8621\n",
            "Epoch 00013: val_loss improved from 0.54920 to 0.52093, saving model to models/model_best_v3.h5\n",
            "375/375 [==============================] - 2s 5ms/step - loss: 0.5715 - accuracy: 0.8621 - val_loss: 0.5209 - val_accuracy: 0.8760\n",
            "Epoch 14/50\n",
            "365/375 [============================>.] - ETA: 0s - loss: 0.5449 - accuracy: 0.8667\n",
            "Epoch 00014: val_loss improved from 0.52093 to 0.49694, saving model to models/model_best_v3.h5\n",
            "375/375 [==============================] - 2s 5ms/step - loss: 0.5448 - accuracy: 0.8665 - val_loss: 0.4969 - val_accuracy: 0.8795\n",
            "Epoch 15/50\n",
            "374/375 [============================>.] - ETA: 0s - loss: 0.5220 - accuracy: 0.8708\n",
            "Epoch 00015: val_loss improved from 0.49694 to 0.47647, saving model to models/model_best_v3.h5\n",
            "375/375 [==============================] - 2s 5ms/step - loss: 0.5221 - accuracy: 0.8708 - val_loss: 0.4765 - val_accuracy: 0.8824\n",
            "Epoch 16/50\n",
            "368/375 [============================>.] - ETA: 0s - loss: 0.5021 - accuracy: 0.8751\n",
            "Epoch 00016: val_loss improved from 0.47647 to 0.45890, saving model to models/model_best_v3.h5\n",
            "375/375 [==============================] - 2s 5ms/step - loss: 0.5025 - accuracy: 0.8748 - val_loss: 0.4589 - val_accuracy: 0.8863\n",
            "Epoch 17/50\n",
            "367/375 [============================>.] - ETA: 0s - loss: 0.4853 - accuracy: 0.8781\n",
            "Epoch 00017: val_loss improved from 0.45890 to 0.44361, saving model to models/model_best_v3.h5\n",
            "375/375 [==============================] - 2s 6ms/step - loss: 0.4853 - accuracy: 0.8781 - val_loss: 0.4436 - val_accuracy: 0.8888\n",
            "Epoch 18/50\n",
            "372/375 [============================>.] - ETA: 0s - loss: 0.4699 - accuracy: 0.8809\n",
            "Epoch 00018: val_loss improved from 0.44361 to 0.43023, saving model to models/model_best_v3.h5\n",
            "375/375 [==============================] - 2s 6ms/step - loss: 0.4702 - accuracy: 0.8807 - val_loss: 0.4302 - val_accuracy: 0.8901\n",
            "Epoch 19/50\n",
            "363/375 [============================>.] - ETA: 0s - loss: 0.4574 - accuracy: 0.8831\n",
            "Epoch 00019: val_loss improved from 0.43023 to 0.41851, saving model to models/model_best_v3.h5\n",
            "375/375 [==============================] - 2s 5ms/step - loss: 0.4568 - accuracy: 0.8832 - val_loss: 0.4185 - val_accuracy: 0.8926\n",
            "Epoch 20/50\n",
            "372/375 [============================>.] - ETA: 0s - loss: 0.4446 - accuracy: 0.8854\n",
            "Epoch 00020: val_loss improved from 0.41851 to 0.40797, saving model to models/model_best_v3.h5\n",
            "375/375 [==============================] - 2s 5ms/step - loss: 0.4449 - accuracy: 0.8852 - val_loss: 0.4080 - val_accuracy: 0.8938\n",
            "Epoch 21/50\n",
            "373/375 [============================>.] - ETA: 0s - loss: 0.4343 - accuracy: 0.8872\n",
            "Epoch 00021: val_loss improved from 0.40797 to 0.39843, saving model to models/model_best_v3.h5\n",
            "375/375 [==============================] - 2s 5ms/step - loss: 0.4341 - accuracy: 0.8873 - val_loss: 0.3984 - val_accuracy: 0.8955\n",
            "Epoch 22/50\n",
            "374/375 [============================>.] - ETA: 0s - loss: 0.4242 - accuracy: 0.8886\n",
            "Epoch 00022: val_loss improved from 0.39843 to 0.38995, saving model to models/model_best_v3.h5\n",
            "375/375 [==============================] - 2s 6ms/step - loss: 0.4244 - accuracy: 0.8885 - val_loss: 0.3900 - val_accuracy: 0.8973\n",
            "Epoch 23/50\n",
            "371/375 [============================>.] - ETA: 0s - loss: 0.4155 - accuracy: 0.8903\n",
            "Epoch 00023: val_loss improved from 0.38995 to 0.38220, saving model to models/model_best_v3.h5\n",
            "375/375 [==============================] - 2s 6ms/step - loss: 0.4155 - accuracy: 0.8901 - val_loss: 0.3822 - val_accuracy: 0.8994\n",
            "Epoch 24/50\n",
            "366/375 [============================>.] - ETA: 0s - loss: 0.4071 - accuracy: 0.8922\n",
            "Epoch 00024: val_loss improved from 0.38220 to 0.37522, saving model to models/model_best_v3.h5\n",
            "375/375 [==============================] - 2s 6ms/step - loss: 0.4075 - accuracy: 0.8920 - val_loss: 0.3752 - val_accuracy: 0.9009\n",
            "Epoch 25/50\n",
            "373/375 [============================>.] - ETA: 0s - loss: 0.4001 - accuracy: 0.8930\n",
            "Epoch 00025: val_loss improved from 0.37522 to 0.36867, saving model to models/model_best_v3.h5\n",
            "375/375 [==============================] - 2s 6ms/step - loss: 0.4001 - accuracy: 0.8930 - val_loss: 0.3687 - val_accuracy: 0.9026\n",
            "Epoch 26/50\n",
            "365/375 [============================>.] - ETA: 0s - loss: 0.3934 - accuracy: 0.8945\n",
            "Epoch 00026: val_loss improved from 0.36867 to 0.36301, saving model to models/model_best_v3.h5\n",
            "375/375 [==============================] - 2s 6ms/step - loss: 0.3931 - accuracy: 0.8946 - val_loss: 0.3630 - val_accuracy: 0.9038\n",
            "Epoch 27/50\n",
            "373/375 [============================>.] - ETA: 0s - loss: 0.3871 - accuracy: 0.8957\n",
            "Epoch 00027: val_loss improved from 0.36301 to 0.35730, saving model to models/model_best_v3.h5\n",
            "375/375 [==============================] - 2s 5ms/step - loss: 0.3868 - accuracy: 0.8957 - val_loss: 0.3573 - val_accuracy: 0.9052\n",
            "Epoch 28/50\n",
            "366/375 [============================>.] - ETA: 0s - loss: 0.3801 - accuracy: 0.8973\n",
            "Epoch 00028: val_loss improved from 0.35730 to 0.35212, saving model to models/model_best_v3.h5\n",
            "375/375 [==============================] - 2s 5ms/step - loss: 0.3810 - accuracy: 0.8972 - val_loss: 0.3521 - val_accuracy: 0.9062\n",
            "Epoch 29/50\n",
            "372/375 [============================>.] - ETA: 0s - loss: 0.3753 - accuracy: 0.8984\n",
            "Epoch 00029: val_loss improved from 0.35212 to 0.34736, saving model to models/model_best_v3.h5\n",
            "375/375 [==============================] - 2s 5ms/step - loss: 0.3755 - accuracy: 0.8983 - val_loss: 0.3474 - val_accuracy: 0.9068\n",
            "Epoch 30/50\n",
            "374/375 [============================>.] - ETA: 0s - loss: 0.3700 - accuracy: 0.8995\n",
            "Epoch 00030: val_loss improved from 0.34736 to 0.34302, saving model to models/model_best_v3.h5\n",
            "375/375 [==============================] - 2s 5ms/step - loss: 0.3703 - accuracy: 0.8994 - val_loss: 0.3430 - val_accuracy: 0.9078\n",
            "Epoch 31/50\n",
            "375/375 [==============================] - ETA: 0s - loss: 0.3655 - accuracy: 0.9004\n",
            "Epoch 00031: val_loss improved from 0.34302 to 0.33884, saving model to models/model_best_v3.h5\n",
            "375/375 [==============================] - 2s 5ms/step - loss: 0.3655 - accuracy: 0.9004 - val_loss: 0.3388 - val_accuracy: 0.9084\n",
            "Epoch 32/50\n",
            "363/375 [============================>.] - ETA: 0s - loss: 0.3611 - accuracy: 0.9013\n",
            "Epoch 00032: val_loss improved from 0.33884 to 0.33489, saving model to models/model_best_v3.h5\n",
            "375/375 [==============================] - 2s 5ms/step - loss: 0.3610 - accuracy: 0.9014 - val_loss: 0.3349 - val_accuracy: 0.9093\n",
            "Epoch 33/50\n",
            "374/375 [============================>.] - ETA: 0s - loss: 0.3566 - accuracy: 0.9022\n",
            "Epoch 00033: val_loss improved from 0.33489 to 0.33124, saving model to models/model_best_v3.h5\n",
            "375/375 [==============================] - 2s 5ms/step - loss: 0.3566 - accuracy: 0.9021 - val_loss: 0.3312 - val_accuracy: 0.9106\n",
            "Epoch 34/50\n",
            "371/375 [============================>.] - ETA: 0s - loss: 0.3527 - accuracy: 0.9032\n",
            "Epoch 00034: val_loss improved from 0.33124 to 0.32771, saving model to models/model_best_v3.h5\n",
            "375/375 [==============================] - 2s 5ms/step - loss: 0.3526 - accuracy: 0.9032 - val_loss: 0.3277 - val_accuracy: 0.9117\n",
            "Epoch 35/50\n",
            "370/375 [============================>.] - ETA: 0s - loss: 0.3489 - accuracy: 0.9042\n",
            "Epoch 00035: val_loss improved from 0.32771 to 0.32459, saving model to models/model_best_v3.h5\n",
            "375/375 [==============================] - 2s 5ms/step - loss: 0.3487 - accuracy: 0.9042 - val_loss: 0.3246 - val_accuracy: 0.9122\n",
            "Epoch 36/50\n",
            "375/375 [==============================] - ETA: 0s - loss: 0.3451 - accuracy: 0.9050\n",
            "Epoch 00036: val_loss improved from 0.32459 to 0.32135, saving model to models/model_best_v3.h5\n",
            "375/375 [==============================] - 2s 5ms/step - loss: 0.3451 - accuracy: 0.9050 - val_loss: 0.3214 - val_accuracy: 0.9134\n",
            "Epoch 37/50\n",
            "363/375 [============================>.] - ETA: 0s - loss: 0.3425 - accuracy: 0.9056\n",
            "Epoch 00037: val_loss improved from 0.32135 to 0.31824, saving model to models/model_best_v3.h5\n",
            "375/375 [==============================] - 2s 5ms/step - loss: 0.3416 - accuracy: 0.9059 - val_loss: 0.3182 - val_accuracy: 0.9140\n",
            "Epoch 38/50\n",
            "373/375 [============================>.] - ETA: 0s - loss: 0.3382 - accuracy: 0.9068\n",
            "Epoch 00038: val_loss improved from 0.31824 to 0.31541, saving model to models/model_best_v3.h5\n",
            "375/375 [==============================] - 2s 5ms/step - loss: 0.3382 - accuracy: 0.9068 - val_loss: 0.3154 - val_accuracy: 0.9144\n",
            "Epoch 39/50\n",
            "374/375 [============================>.] - ETA: 0s - loss: 0.3349 - accuracy: 0.9073\n",
            "Epoch 00039: val_loss improved from 0.31541 to 0.31257, saving model to models/model_best_v3.h5\n",
            "375/375 [==============================] - 2s 5ms/step - loss: 0.3351 - accuracy: 0.9072 - val_loss: 0.3126 - val_accuracy: 0.9147\n",
            "Epoch 40/50\n",
            "366/375 [============================>.] - ETA: 0s - loss: 0.3316 - accuracy: 0.9083\n",
            "Epoch 00040: val_loss improved from 0.31257 to 0.31007, saving model to models/model_best_v3.h5\n",
            "375/375 [==============================] - 2s 5ms/step - loss: 0.3320 - accuracy: 0.9082 - val_loss: 0.3101 - val_accuracy: 0.9153\n",
            "Epoch 41/50\n",
            "369/375 [============================>.] - ETA: 0s - loss: 0.3282 - accuracy: 0.9093\n",
            "Epoch 00041: val_loss improved from 0.31007 to 0.30767, saving model to models/model_best_v3.h5\n",
            "375/375 [==============================] - 2s 5ms/step - loss: 0.3290 - accuracy: 0.9090 - val_loss: 0.3077 - val_accuracy: 0.9169\n",
            "Epoch 42/50\n",
            "370/375 [============================>.] - ETA: 0s - loss: 0.3256 - accuracy: 0.9095\n",
            "Epoch 00042: val_loss improved from 0.30767 to 0.30519, saving model to models/model_best_v3.h5\n",
            "375/375 [==============================] - 2s 5ms/step - loss: 0.3261 - accuracy: 0.9094 - val_loss: 0.3052 - val_accuracy: 0.9163\n",
            "Epoch 43/50\n",
            "374/375 [============================>.] - ETA: 0s - loss: 0.3233 - accuracy: 0.9103\n",
            "Epoch 00043: val_loss improved from 0.30519 to 0.30280, saving model to models/model_best_v3.h5\n",
            "375/375 [==============================] - 2s 5ms/step - loss: 0.3234 - accuracy: 0.9103 - val_loss: 0.3028 - val_accuracy: 0.9166\n",
            "Epoch 44/50\n",
            "374/375 [============================>.] - ETA: 0s - loss: 0.3208 - accuracy: 0.9112\n",
            "Epoch 00044: val_loss improved from 0.30280 to 0.30081, saving model to models/model_best_v3.h5\n",
            "375/375 [==============================] - 2s 5ms/step - loss: 0.3207 - accuracy: 0.9111 - val_loss: 0.3008 - val_accuracy: 0.9172\n",
            "Epoch 45/50\n",
            "364/375 [============================>.] - ETA: 0s - loss: 0.3190 - accuracy: 0.9112\n",
            "Epoch 00045: val_loss improved from 0.30081 to 0.29834, saving model to models/model_best_v3.h5\n",
            "375/375 [==============================] - 2s 5ms/step - loss: 0.3182 - accuracy: 0.9114 - val_loss: 0.2983 - val_accuracy: 0.9183\n",
            "Epoch 46/50\n",
            "367/375 [============================>.] - ETA: 0s - loss: 0.3165 - accuracy: 0.9117\n",
            "Epoch 00046: val_loss improved from 0.29834 to 0.29642, saving model to models/model_best_v3.h5\n",
            "375/375 [==============================] - 2s 5ms/step - loss: 0.3157 - accuracy: 0.9118 - val_loss: 0.2964 - val_accuracy: 0.9180\n",
            "Epoch 47/50\n",
            "364/375 [============================>.] - ETA: 0s - loss: 0.3133 - accuracy: 0.9120\n",
            "Epoch 00047: val_loss improved from 0.29642 to 0.29426, saving model to models/model_best_v3.h5\n",
            "375/375 [==============================] - 2s 5ms/step - loss: 0.3134 - accuracy: 0.9123 - val_loss: 0.2943 - val_accuracy: 0.9188\n",
            "Epoch 48/50\n",
            "371/375 [============================>.] - ETA: 0s - loss: 0.3109 - accuracy: 0.9134\n",
            "Epoch 00048: val_loss improved from 0.29426 to 0.29231, saving model to models/model_best_v3.h5\n",
            "375/375 [==============================] - 2s 5ms/step - loss: 0.3111 - accuracy: 0.9133 - val_loss: 0.2923 - val_accuracy: 0.9187\n",
            "Epoch 49/50\n",
            "372/375 [============================>.] - ETA: 0s - loss: 0.3086 - accuracy: 0.9136\n",
            "Epoch 00049: val_loss improved from 0.29231 to 0.29027, saving model to models/model_best_v3.h5\n",
            "375/375 [==============================] - 2s 5ms/step - loss: 0.3088 - accuracy: 0.9136 - val_loss: 0.2903 - val_accuracy: 0.9197\n",
            "Epoch 50/50\n",
            "372/375 [============================>.] - ETA: 0s - loss: 0.3065 - accuracy: 0.9142\n",
            "Epoch 00050: val_loss improved from 0.29027 to 0.28840, saving model to models/model_best_v3.h5\n",
            "375/375 [==============================] - 2s 5ms/step - loss: 0.3066 - accuracy: 0.9141 - val_loss: 0.2884 - val_accuracy: 0.9198\n"
          ],
          "name": "stdout"
        }
      ]
    },
    {
      "cell_type": "code",
      "metadata": {
        "id": "CQT4R0VsEEG5",
        "colab_type": "code",
        "colab": {
          "base_uri": "https://localhost:8080/",
          "height": 297
        },
        "outputId": "794c8dae-9450-44da-d456-2da84c548b6b"
      },
      "source": [
        "plot_history(history4)"
      ],
      "execution_count": 74,
      "outputs": [
        {
          "output_type": "display_data",
          "data": {
            "image/png": "[encoded data removed]",
            "text/plain": [
              "<Figure size 720x288 with 2 Axes>"
            ]
          },
          "metadata": {
            "tags": []
          }
        }
      ]
    },
    {
      "cell_type": "code",
      "metadata": {
        "id": "vqAncFyLEGU5",
        "colab_type": "code",
        "colab": {
          "base_uri": "https://localhost:8080/",
          "height": 52
        },
        "outputId": "23c50952-5799-4845-bc4b-b3375028b814"
      },
      "source": [
        "## evaluate\n",
        "score = model_v4.evaluate(x_test, y_test, return_dict=True)\n",
        "print(score)"
      ],
      "execution_count": 75,
      "outputs": [
        {
          "output_type": "stream",
          "text": [
            "313/313 [==============================] - 1s 3ms/step - loss: 0.2913 - accuracy: 0.9195\n",
            "{'loss': 0.2913144826889038, 'accuracy': 0.9194999933242798}\n"
          ],
          "name": "stdout"
        }
      ]
    },
    {
      "cell_type": "code",
      "metadata": {
        "id": "Ve5GN4qTETgB",
        "colab_type": "code",
        "colab": {
          "base_uri": "https://localhost:8080/",
          "height": 1000
        },
        "outputId": "0637aa64-cf5c-4c08-ec53-9c1cda2a1c43"
      },
      "source": [
        "## lets train for 30 more epochs \n",
        "\n",
        "history4_2 = model_v4.fit(\n",
        "    x=x_train,\n",
        "    y=y_train,\n",
        "    batch_size=BATCH_SIZE,\n",
        "    epochs=30,\n",
        "    callbacks=callbacks,\n",
        "    validation_split=0.2,\n",
        "    shuffle=True\n",
        ")"
      ],
      "execution_count": 76,
      "outputs": [
        {
          "output_type": "stream",
          "text": [
            "Epoch 1/30\n",
            "367/375 [============================>.] - ETA: 0s - loss: 0.3047 - accuracy: 0.9146\n",
            "Epoch 00001: val_loss improved from 0.28840 to 0.28677, saving model to models/model_best_v3.h5\n",
            "375/375 [==============================] - 2s 5ms/step - loss: 0.3045 - accuracy: 0.9147 - val_loss: 0.2868 - val_accuracy: 0.9208\n",
            "Epoch 2/30\n",
            "371/375 [============================>.] - ETA: 0s - loss: 0.3032 - accuracy: 0.9148\n",
            "Epoch 00002: val_loss improved from 0.28677 to 0.28482, saving model to models/model_best_v3.h5\n",
            "375/375 [==============================] - 2s 5ms/step - loss: 0.3023 - accuracy: 0.9151 - val_loss: 0.2848 - val_accuracy: 0.9212\n",
            "Epoch 3/30\n",
            "371/375 [============================>.] - ETA: 0s - loss: 0.3004 - accuracy: 0.9156\n",
            "Epoch 00003: val_loss improved from 0.28482 to 0.28321, saving model to models/model_best_v3.h5\n",
            "375/375 [==============================] - 2s 5ms/step - loss: 0.3004 - accuracy: 0.9156 - val_loss: 0.2832 - val_accuracy: 0.9213\n",
            "Epoch 4/30\n",
            "364/375 [============================>.] - ETA: 0s - loss: 0.2981 - accuracy: 0.9162\n",
            "Epoch 00004: val_loss improved from 0.28321 to 0.28147, saving model to models/model_best_v3.h5\n",
            "375/375 [==============================] - 2s 5ms/step - loss: 0.2984 - accuracy: 0.9162 - val_loss: 0.2815 - val_accuracy: 0.9217\n",
            "Epoch 5/30\n",
            "375/375 [==============================] - ETA: 0s - loss: 0.2965 - accuracy: 0.9164\n",
            "Epoch 00005: val_loss improved from 0.28147 to 0.27986, saving model to models/model_best_v3.h5\n",
            "375/375 [==============================] - 2s 5ms/step - loss: 0.2965 - accuracy: 0.9164 - val_loss: 0.2799 - val_accuracy: 0.9223\n",
            "Epoch 6/30\n",
            "373/375 [============================>.] - ETA: 0s - loss: 0.2947 - accuracy: 0.9171\n",
            "Epoch 00006: val_loss improved from 0.27986 to 0.27821, saving model to models/model_best_v3.h5\n",
            "375/375 [==============================] - 2s 5ms/step - loss: 0.2946 - accuracy: 0.9170 - val_loss: 0.2782 - val_accuracy: 0.9227\n",
            "Epoch 7/30\n",
            "372/375 [============================>.] - ETA: 0s - loss: 0.2923 - accuracy: 0.9176\n",
            "Epoch 00007: val_loss improved from 0.27821 to 0.27672, saving model to models/model_best_v3.h5\n",
            "375/375 [==============================] - 2s 5ms/step - loss: 0.2927 - accuracy: 0.9174 - val_loss: 0.2767 - val_accuracy: 0.9227\n",
            "Epoch 8/30\n",
            "363/375 [============================>.] - ETA: 0s - loss: 0.2909 - accuracy: 0.9180\n",
            "Epoch 00008: val_loss improved from 0.27672 to 0.27511, saving model to models/model_best_v3.h5\n",
            "375/375 [==============================] - 2s 5ms/step - loss: 0.2909 - accuracy: 0.9180 - val_loss: 0.2751 - val_accuracy: 0.9231\n",
            "Epoch 9/30\n",
            "367/375 [============================>.] - ETA: 0s - loss: 0.2888 - accuracy: 0.9183\n",
            "Epoch 00009: val_loss improved from 0.27511 to 0.27374, saving model to models/model_best_v3.h5\n",
            "375/375 [==============================] - 2s 5ms/step - loss: 0.2892 - accuracy: 0.9181 - val_loss: 0.2737 - val_accuracy: 0.9231\n",
            "Epoch 10/30\n",
            "367/375 [============================>.] - ETA: 0s - loss: 0.2875 - accuracy: 0.9190\n",
            "Epoch 00010: val_loss improved from 0.27374 to 0.27220, saving model to models/model_best_v3.h5\n",
            "375/375 [==============================] - 2s 5ms/step - loss: 0.2875 - accuracy: 0.9190 - val_loss: 0.2722 - val_accuracy: 0.9236\n",
            "Epoch 11/30\n",
            "372/375 [============================>.] - ETA: 0s - loss: 0.2861 - accuracy: 0.9190\n",
            "Epoch 00011: val_loss improved from 0.27220 to 0.27091, saving model to models/model_best_v3.h5\n",
            "375/375 [==============================] - 2s 5ms/step - loss: 0.2857 - accuracy: 0.9192 - val_loss: 0.2709 - val_accuracy: 0.9239\n",
            "Epoch 12/30\n",
            "372/375 [============================>.] - ETA: 0s - loss: 0.2840 - accuracy: 0.9200\n",
            "Epoch 00012: val_loss improved from 0.27091 to 0.26938, saving model to models/model_best_v3.h5\n",
            "375/375 [==============================] - 2s 5ms/step - loss: 0.2841 - accuracy: 0.9200 - val_loss: 0.2694 - val_accuracy: 0.9242\n",
            "Epoch 13/30\n",
            "374/375 [============================>.] - ETA: 0s - loss: 0.2817 - accuracy: 0.9206\n",
            "Epoch 00013: val_loss improved from 0.26938 to 0.26805, saving model to models/model_best_v3.h5\n",
            "375/375 [==============================] - 2s 5ms/step - loss: 0.2824 - accuracy: 0.9203 - val_loss: 0.2681 - val_accuracy: 0.9246\n",
            "Epoch 14/30\n",
            "368/375 [============================>.] - ETA: 0s - loss: 0.2808 - accuracy: 0.9209\n",
            "Epoch 00014: val_loss improved from 0.26805 to 0.26671, saving model to models/model_best_v3.h5\n",
            "375/375 [==============================] - 2s 5ms/step - loss: 0.2808 - accuracy: 0.9211 - val_loss: 0.2667 - val_accuracy: 0.9263\n",
            "Epoch 15/30\n",
            "375/375 [==============================] - ETA: 0s - loss: 0.2793 - accuracy: 0.9210\n",
            "Epoch 00015: val_loss improved from 0.26671 to 0.26533, saving model to models/model_best_v3.h5\n",
            "375/375 [==============================] - 2s 5ms/step - loss: 0.2793 - accuracy: 0.9210 - val_loss: 0.2653 - val_accuracy: 0.9258\n",
            "Epoch 16/30\n",
            "374/375 [============================>.] - ETA: 0s - loss: 0.2777 - accuracy: 0.9219\n",
            "Epoch 00016: val_loss improved from 0.26533 to 0.26399, saving model to models/model_best_v3.h5\n",
            "375/375 [==============================] - 2s 5ms/step - loss: 0.2777 - accuracy: 0.9219 - val_loss: 0.2640 - val_accuracy: 0.9260\n",
            "Epoch 17/30\n",
            "373/375 [============================>.] - ETA: 0s - loss: 0.2765 - accuracy: 0.9223\n",
            "Epoch 00017: val_loss improved from 0.26399 to 0.26288, saving model to models/model_best_v3.h5\n",
            "375/375 [==============================] - 2s 5ms/step - loss: 0.2762 - accuracy: 0.9224 - val_loss: 0.2629 - val_accuracy: 0.9262\n",
            "Epoch 18/30\n",
            "372/375 [============================>.] - ETA: 0s - loss: 0.2746 - accuracy: 0.9227\n",
            "Epoch 00018: val_loss improved from 0.26288 to 0.26144, saving model to models/model_best_v3.h5\n",
            "375/375 [==============================] - 2s 5ms/step - loss: 0.2747 - accuracy: 0.9226 - val_loss: 0.2614 - val_accuracy: 0.9268\n",
            "Epoch 19/30\n",
            "372/375 [============================>.] - ETA: 0s - loss: 0.2729 - accuracy: 0.9233\n",
            "Epoch 00019: val_loss improved from 0.26144 to 0.26025, saving model to models/model_best_v3.h5\n",
            "375/375 [==============================] - 2s 5ms/step - loss: 0.2732 - accuracy: 0.9232 - val_loss: 0.2603 - val_accuracy: 0.9272\n",
            "Epoch 20/30\n",
            "370/375 [============================>.] - ETA: 0s - loss: 0.2717 - accuracy: 0.9240\n",
            "Epoch 00020: val_loss improved from 0.26025 to 0.25907, saving model to models/model_best_v3.h5\n",
            "375/375 [==============================] - 2s 5ms/step - loss: 0.2718 - accuracy: 0.9240 - val_loss: 0.2591 - val_accuracy: 0.9271\n",
            "Epoch 21/30\n",
            "372/375 [============================>.] - ETA: 0s - loss: 0.2703 - accuracy: 0.9244\n",
            "Epoch 00021: val_loss improved from 0.25907 to 0.25797, saving model to models/model_best_v3.h5\n",
            "375/375 [==============================] - 2s 5ms/step - loss: 0.2703 - accuracy: 0.9244 - val_loss: 0.2580 - val_accuracy: 0.9273\n",
            "Epoch 22/30\n",
            "367/375 [============================>.] - ETA: 0s - loss: 0.2689 - accuracy: 0.9249\n",
            "Epoch 00022: val_loss improved from 0.25797 to 0.25669, saving model to models/model_best_v3.h5\n",
            "375/375 [==============================] - 2s 5ms/step - loss: 0.2690 - accuracy: 0.9248 - val_loss: 0.2567 - val_accuracy: 0.9281\n",
            "Epoch 23/30\n",
            "370/375 [============================>.] - ETA: 0s - loss: 0.2675 - accuracy: 0.9251\n",
            "Epoch 00023: val_loss improved from 0.25669 to 0.25553, saving model to models/model_best_v3.h5\n",
            "375/375 [==============================] - 2s 5ms/step - loss: 0.2675 - accuracy: 0.9252 - val_loss: 0.2555 - val_accuracy: 0.9280\n",
            "Epoch 24/30\n",
            "370/375 [============================>.] - ETA: 0s - loss: 0.2668 - accuracy: 0.9254\n",
            "Epoch 00024: val_loss improved from 0.25553 to 0.25436, saving model to models/model_best_v3.h5\n",
            "375/375 [==============================] - 2s 5ms/step - loss: 0.2662 - accuracy: 0.9257 - val_loss: 0.2544 - val_accuracy: 0.9286\n",
            "Epoch 25/30\n",
            "370/375 [============================>.] - ETA: 0s - loss: 0.2650 - accuracy: 0.9260\n",
            "Epoch 00025: val_loss improved from 0.25436 to 0.25325, saving model to models/model_best_v3.h5\n",
            "375/375 [==============================] - 2s 5ms/step - loss: 0.2648 - accuracy: 0.9259 - val_loss: 0.2532 - val_accuracy: 0.9282\n",
            "Epoch 26/30\n",
            "364/375 [============================>.] - ETA: 0s - loss: 0.2643 - accuracy: 0.9261\n",
            "Epoch 00026: val_loss improved from 0.25325 to 0.25214, saving model to models/model_best_v3.h5\n",
            "375/375 [==============================] - 2s 5ms/step - loss: 0.2635 - accuracy: 0.9264 - val_loss: 0.2521 - val_accuracy: 0.9291\n",
            "Epoch 27/30\n",
            "375/375 [==============================] - ETA: 0s - loss: 0.2622 - accuracy: 0.9268\n",
            "Epoch 00027: val_loss improved from 0.25214 to 0.25102, saving model to models/model_best_v3.h5\n",
            "375/375 [==============================] - 2s 5ms/step - loss: 0.2622 - accuracy: 0.9268 - val_loss: 0.2510 - val_accuracy: 0.9293\n",
            "Epoch 28/30\n",
            "372/375 [============================>.] - ETA: 0s - loss: 0.2611 - accuracy: 0.9271\n",
            "Epoch 00028: val_loss improved from 0.25102 to 0.24997, saving model to models/model_best_v3.h5\n",
            "375/375 [==============================] - 2s 5ms/step - loss: 0.2609 - accuracy: 0.9273 - val_loss: 0.2500 - val_accuracy: 0.9296\n",
            "Epoch 29/30\n",
            "370/375 [============================>.] - ETA: 0s - loss: 0.2600 - accuracy: 0.9274\n",
            "Epoch 00029: val_loss improved from 0.24997 to 0.24892, saving model to models/model_best_v3.h5\n",
            "375/375 [==============================] - 2s 5ms/step - loss: 0.2596 - accuracy: 0.9275 - val_loss: 0.2489 - val_accuracy: 0.9294\n",
            "Epoch 30/30\n",
            "375/375 [==============================] - ETA: 0s - loss: 0.2584 - accuracy: 0.9275\n",
            "Epoch 00030: val_loss improved from 0.24892 to 0.24770, saving model to models/model_best_v3.h5\n",
            "375/375 [==============================] - 2s 5ms/step - loss: 0.2584 - accuracy: 0.9275 - val_loss: 0.2477 - val_accuracy: 0.9299\n"
          ],
          "name": "stdout"
        }
      ]
    },
    {
      "cell_type": "code",
      "metadata": {
        "id": "jVIao5xuFLof",
        "colab_type": "code",
        "colab": {
          "base_uri": "https://localhost:8080/",
          "height": 297
        },
        "outputId": "08d4da25-d1ed-4255-8067-fb9e63e3b351"
      },
      "source": [
        "plot_history(history4_2)"
      ],
      "execution_count": 77,
      "outputs": [
        {
          "output_type": "display_data",
          "data": {
            "image/png": "[encoded data removed]",
            "text/plain": [
              "<Figure size 720x288 with 2 Axes>"
            ]
          },
          "metadata": {
            "tags": []
          }
        }
      ]
    },
    {
      "cell_type": "code",
      "metadata": {
        "id": "V-q8ZkC1FPGv",
        "colab_type": "code",
        "colab": {
          "base_uri": "https://localhost:8080/",
          "height": 1000
        },
        "outputId": "4245c691-fd0e-4e1a-dda7-8107b5334be1"
      },
      "source": [
        "## lets train for 100 more epochs with smaller learning rate\n",
        "\n",
        "optimizer = SGD(learning_rate=0.0001)\n",
        "\n",
        "model_v4.compile(\n",
        "    optimizer=optimizer,\n",
        "    loss='categorical_crossentropy',\n",
        "    metrics=['accuracy']\n",
        ")\n",
        "\n",
        "history4_3 = model_v4.fit(\n",
        "    x=x_train,\n",
        "    y=y_train,\n",
        "    batch_size=BATCH_SIZE,\n",
        "    epochs=100,   ## epochs changed to 50\n",
        "    callbacks=callbacks,\n",
        "    validation_split=0.2,\n",
        "    shuffle=True\n",
        ")"
      ],
      "execution_count": 78,
      "outputs": [
        {
          "output_type": "stream",
          "text": [
            "Epoch 1/100\n",
            "364/375 [============================>.] - ETA: 0s - loss: 0.2579 - accuracy: 0.9279\n",
            "Epoch 00001: val_loss improved from 0.24770 to 0.24759, saving model to models/model_best_v3.h5\n",
            "375/375 [==============================] - 2s 5ms/step - loss: 0.2574 - accuracy: 0.9281 - val_loss: 0.2476 - val_accuracy: 0.9298\n",
            "Epoch 2/100\n",
            "370/375 [============================>.] - ETA: 0s - loss: 0.2572 - accuracy: 0.9282\n",
            "Epoch 00002: val_loss improved from 0.24759 to 0.24750, saving model to models/model_best_v3.h5\n",
            "375/375 [==============================] - 2s 5ms/step - loss: 0.2573 - accuracy: 0.9281 - val_loss: 0.2475 - val_accuracy: 0.9300\n",
            "Epoch 3/100\n",
            "368/375 [============================>.] - ETA: 0s - loss: 0.2573 - accuracy: 0.9280\n",
            "Epoch 00003: val_loss improved from 0.24750 to 0.24741, saving model to models/model_best_v3.h5\n",
            "375/375 [==============================] - 2s 5ms/step - loss: 0.2571 - accuracy: 0.9282 - val_loss: 0.2474 - val_accuracy: 0.9302\n",
            "Epoch 4/100\n",
            "373/375 [============================>.] - ETA: 0s - loss: 0.2572 - accuracy: 0.9282\n",
            "Epoch 00004: val_loss improved from 0.24741 to 0.24732, saving model to models/model_best_v3.h5\n",
            "375/375 [==============================] - 2s 5ms/step - loss: 0.2570 - accuracy: 0.9283 - val_loss: 0.2473 - val_accuracy: 0.9302\n",
            "Epoch 5/100\n",
            "374/375 [============================>.] - ETA: 0s - loss: 0.2569 - accuracy: 0.9283\n",
            "Epoch 00005: val_loss improved from 0.24732 to 0.24723, saving model to models/model_best_v3.h5\n",
            "375/375 [==============================] - 2s 5ms/step - loss: 0.2569 - accuracy: 0.9283 - val_loss: 0.2472 - val_accuracy: 0.9302\n",
            "Epoch 6/100\n",
            "375/375 [==============================] - ETA: 0s - loss: 0.2568 - accuracy: 0.9284\n",
            "Epoch 00006: val_loss improved from 0.24723 to 0.24713, saving model to models/model_best_v3.h5\n",
            "375/375 [==============================] - 2s 5ms/step - loss: 0.2568 - accuracy: 0.9284 - val_loss: 0.2471 - val_accuracy: 0.9304\n",
            "Epoch 7/100\n",
            "372/375 [============================>.] - ETA: 0s - loss: 0.2568 - accuracy: 0.9283\n",
            "Epoch 00007: val_loss improved from 0.24713 to 0.24703, saving model to models/model_best_v3.h5\n",
            "375/375 [==============================] - 2s 5ms/step - loss: 0.2566 - accuracy: 0.9284 - val_loss: 0.2470 - val_accuracy: 0.9304\n",
            "Epoch 8/100\n",
            "373/375 [============================>.] - ETA: 0s - loss: 0.2560 - accuracy: 0.9285\n",
            "Epoch 00008: val_loss improved from 0.24703 to 0.24693, saving model to models/model_best_v3.h5\n",
            "375/375 [==============================] - 2s 5ms/step - loss: 0.2565 - accuracy: 0.9284 - val_loss: 0.2469 - val_accuracy: 0.9304\n",
            "Epoch 9/100\n",
            "374/375 [============================>.] - ETA: 0s - loss: 0.2563 - accuracy: 0.9284\n",
            "Epoch 00009: val_loss improved from 0.24693 to 0.24683, saving model to models/model_best_v3.h5\n",
            "375/375 [==============================] - 2s 5ms/step - loss: 0.2564 - accuracy: 0.9284 - val_loss: 0.2468 - val_accuracy: 0.9306\n",
            "Epoch 10/100\n",
            "369/375 [============================>.] - ETA: 0s - loss: 0.2564 - accuracy: 0.9284\n",
            "Epoch 00010: val_loss improved from 0.24683 to 0.24672, saving model to models/model_best_v3.h5\n",
            "375/375 [==============================] - 2s 5ms/step - loss: 0.2563 - accuracy: 0.9284 - val_loss: 0.2467 - val_accuracy: 0.9307\n",
            "Epoch 11/100\n",
            "374/375 [============================>.] - ETA: 0s - loss: 0.2562 - accuracy: 0.9285\n",
            "Epoch 00011: val_loss improved from 0.24672 to 0.24662, saving model to models/model_best_v3.h5\n",
            "375/375 [==============================] - 2s 5ms/step - loss: 0.2561 - accuracy: 0.9285 - val_loss: 0.2466 - val_accuracy: 0.9305\n",
            "Epoch 12/100\n",
            "375/375 [==============================] - ETA: 0s - loss: 0.2560 - accuracy: 0.9285\n",
            "Epoch 00012: val_loss improved from 0.24662 to 0.24652, saving model to models/model_best_v3.h5\n",
            "375/375 [==============================] - 2s 5ms/step - loss: 0.2560 - accuracy: 0.9285 - val_loss: 0.2465 - val_accuracy: 0.9305\n",
            "Epoch 13/100\n",
            "363/375 [============================>.] - ETA: 0s - loss: 0.2556 - accuracy: 0.9287\n",
            "Epoch 00013: val_loss improved from 0.24652 to 0.24642, saving model to models/model_best_v3.h5\n",
            "375/375 [==============================] - 2s 5ms/step - loss: 0.2559 - accuracy: 0.9285 - val_loss: 0.2464 - val_accuracy: 0.9306\n",
            "Epoch 14/100\n",
            "367/375 [============================>.] - ETA: 0s - loss: 0.2562 - accuracy: 0.9284\n",
            "Epoch 00014: val_loss improved from 0.24642 to 0.24632, saving model to models/model_best_v3.h5\n",
            "375/375 [==============================] - 2s 5ms/step - loss: 0.2558 - accuracy: 0.9285 - val_loss: 0.2463 - val_accuracy: 0.9307\n",
            "Epoch 15/100\n",
            "366/375 [============================>.] - ETA: 0s - loss: 0.2544 - accuracy: 0.9292\n",
            "Epoch 00015: val_loss improved from 0.24632 to 0.24622, saving model to models/model_best_v3.h5\n",
            "375/375 [==============================] - 2s 5ms/step - loss: 0.2557 - accuracy: 0.9286 - val_loss: 0.2462 - val_accuracy: 0.9308\n",
            "Epoch 16/100\n",
            "374/375 [============================>.] - ETA: 0s - loss: 0.2556 - accuracy: 0.9286\n",
            "Epoch 00016: val_loss improved from 0.24622 to 0.24612, saving model to models/model_best_v3.h5\n",
            "375/375 [==============================] - 2s 5ms/step - loss: 0.2555 - accuracy: 0.9287 - val_loss: 0.2461 - val_accuracy: 0.9308\n",
            "Epoch 17/100\n",
            "370/375 [============================>.] - ETA: 0s - loss: 0.2557 - accuracy: 0.9285\n",
            "Epoch 00017: val_loss improved from 0.24612 to 0.24601, saving model to models/model_best_v3.h5\n",
            "375/375 [==============================] - 2s 5ms/step - loss: 0.2554 - accuracy: 0.9287 - val_loss: 0.2460 - val_accuracy: 0.9308\n",
            "Epoch 18/100\n",
            "373/375 [============================>.] - ETA: 0s - loss: 0.2557 - accuracy: 0.9286\n",
            "Epoch 00018: val_loss improved from 0.24601 to 0.24591, saving model to models/model_best_v3.h5\n",
            "375/375 [==============================] - 2s 5ms/step - loss: 0.2553 - accuracy: 0.9287 - val_loss: 0.2459 - val_accuracy: 0.9308\n",
            "Epoch 19/100\n",
            "364/375 [============================>.] - ETA: 0s - loss: 0.2543 - accuracy: 0.9291\n",
            "Epoch 00019: val_loss improved from 0.24591 to 0.24581, saving model to models/model_best_v3.h5\n",
            "375/375 [==============================] - 2s 5ms/step - loss: 0.2552 - accuracy: 0.9287 - val_loss: 0.2458 - val_accuracy: 0.9308\n",
            "Epoch 20/100\n",
            "371/375 [============================>.] - ETA: 0s - loss: 0.2549 - accuracy: 0.9287\n",
            "Epoch 00020: val_loss improved from 0.24581 to 0.24570, saving model to models/model_best_v3.h5\n",
            "375/375 [==============================] - 2s 5ms/step - loss: 0.2550 - accuracy: 0.9286 - val_loss: 0.2457 - val_accuracy: 0.9308\n",
            "Epoch 21/100\n",
            "375/375 [==============================] - ETA: 0s - loss: 0.2549 - accuracy: 0.9287\n",
            "Epoch 00021: val_loss improved from 0.24570 to 0.24560, saving model to models/model_best_v3.h5\n",
            "375/375 [==============================] - 2s 5ms/step - loss: 0.2549 - accuracy: 0.9287 - val_loss: 0.2456 - val_accuracy: 0.9309\n",
            "Epoch 22/100\n",
            "370/375 [============================>.] - ETA: 0s - loss: 0.2545 - accuracy: 0.9287\n",
            "Epoch 00022: val_loss improved from 0.24560 to 0.24550, saving model to models/model_best_v3.h5\n",
            "375/375 [==============================] - 2s 5ms/step - loss: 0.2548 - accuracy: 0.9287 - val_loss: 0.2455 - val_accuracy: 0.9308\n",
            "Epoch 23/100\n",
            "367/375 [============================>.] - ETA: 0s - loss: 0.2546 - accuracy: 0.9289\n",
            "Epoch 00023: val_loss improved from 0.24550 to 0.24540, saving model to models/model_best_v3.h5\n",
            "375/375 [==============================] - 2s 5ms/step - loss: 0.2547 - accuracy: 0.9288 - val_loss: 0.2454 - val_accuracy: 0.9308\n",
            "Epoch 24/100\n",
            "375/375 [==============================] - ETA: 0s - loss: 0.2546 - accuracy: 0.9288\n",
            "Epoch 00024: val_loss improved from 0.24540 to 0.24530, saving model to models/model_best_v3.h5\n",
            "375/375 [==============================] - 2s 5ms/step - loss: 0.2546 - accuracy: 0.9288 - val_loss: 0.2453 - val_accuracy: 0.9310\n",
            "Epoch 25/100\n",
            "364/375 [============================>.] - ETA: 0s - loss: 0.2538 - accuracy: 0.9290\n",
            "Epoch 00025: val_loss improved from 0.24530 to 0.24519, saving model to models/model_best_v3.h5\n",
            "375/375 [==============================] - 2s 5ms/step - loss: 0.2544 - accuracy: 0.9288 - val_loss: 0.2452 - val_accuracy: 0.9309\n",
            "Epoch 26/100\n",
            "371/375 [============================>.] - ETA: 0s - loss: 0.2545 - accuracy: 0.9289\n",
            "Epoch 00026: val_loss improved from 0.24519 to 0.24509, saving model to models/model_best_v3.h5\n",
            "375/375 [==============================] - 2s 5ms/step - loss: 0.2543 - accuracy: 0.9288 - val_loss: 0.2451 - val_accuracy: 0.9309\n",
            "Epoch 27/100\n",
            "369/375 [============================>.] - ETA: 0s - loss: 0.2543 - accuracy: 0.9291\n",
            "Epoch 00027: val_loss improved from 0.24509 to 0.24499, saving model to models/model_best_v3.h5\n",
            "375/375 [==============================] - 2s 5ms/step - loss: 0.2542 - accuracy: 0.9289 - val_loss: 0.2450 - val_accuracy: 0.9309\n",
            "Epoch 28/100\n",
            "369/375 [============================>.] - ETA: 0s - loss: 0.2545 - accuracy: 0.9288\n",
            "Epoch 00028: val_loss improved from 0.24499 to 0.24489, saving model to models/model_best_v3.h5\n",
            "375/375 [==============================] - 2s 5ms/step - loss: 0.2541 - accuracy: 0.9289 - val_loss: 0.2449 - val_accuracy: 0.9309\n",
            "Epoch 29/100\n",
            "370/375 [============================>.] - ETA: 0s - loss: 0.2534 - accuracy: 0.9290\n",
            "Epoch 00029: val_loss improved from 0.24489 to 0.24479, saving model to models/model_best_v3.h5\n",
            "375/375 [==============================] - 2s 5ms/step - loss: 0.2540 - accuracy: 0.9288 - val_loss: 0.2448 - val_accuracy: 0.9311\n",
            "Epoch 30/100\n",
            "365/375 [============================>.] - ETA: 0s - loss: 0.2531 - accuracy: 0.9291\n",
            "Epoch 00030: val_loss improved from 0.24479 to 0.24469, saving model to models/model_best_v3.h5\n",
            "375/375 [==============================] - 2s 5ms/step - loss: 0.2538 - accuracy: 0.9289 - val_loss: 0.2447 - val_accuracy: 0.9311\n",
            "Epoch 31/100\n",
            "368/375 [============================>.] - ETA: 0s - loss: 0.2538 - accuracy: 0.9289\n",
            "Epoch 00031: val_loss improved from 0.24469 to 0.24459, saving model to models/model_best_v3.h5\n",
            "375/375 [==============================] - 2s 5ms/step - loss: 0.2537 - accuracy: 0.9290 - val_loss: 0.2446 - val_accuracy: 0.9311\n",
            "Epoch 32/100\n",
            "372/375 [============================>.] - ETA: 0s - loss: 0.2541 - accuracy: 0.9287\n",
            "Epoch 00032: val_loss improved from 0.24459 to 0.24449, saving model to models/model_best_v3.h5\n",
            "375/375 [==============================] - 2s 5ms/step - loss: 0.2536 - accuracy: 0.9289 - val_loss: 0.2445 - val_accuracy: 0.9313\n",
            "Epoch 33/100\n",
            "365/375 [============================>.] - ETA: 0s - loss: 0.2538 - accuracy: 0.9287\n",
            "Epoch 00033: val_loss improved from 0.24449 to 0.24439, saving model to models/model_best_v3.h5\n",
            "375/375 [==============================] - 2s 5ms/step - loss: 0.2535 - accuracy: 0.9289 - val_loss: 0.2444 - val_accuracy: 0.9312\n",
            "Epoch 34/100\n",
            "370/375 [============================>.] - ETA: 0s - loss: 0.2534 - accuracy: 0.9291\n",
            "Epoch 00034: val_loss improved from 0.24439 to 0.24430, saving model to models/model_best_v3.h5\n",
            "375/375 [==============================] - 2s 5ms/step - loss: 0.2534 - accuracy: 0.9290 - val_loss: 0.2443 - val_accuracy: 0.9311\n",
            "Epoch 35/100\n",
            "369/375 [============================>.] - ETA: 0s - loss: 0.2534 - accuracy: 0.9290\n",
            "Epoch 00035: val_loss improved from 0.24430 to 0.24420, saving model to models/model_best_v3.h5\n",
            "375/375 [==============================] - 2s 5ms/step - loss: 0.2532 - accuracy: 0.9290 - val_loss: 0.2442 - val_accuracy: 0.9312\n",
            "Epoch 36/100\n",
            "371/375 [============================>.] - ETA: 0s - loss: 0.2534 - accuracy: 0.9288\n",
            "Epoch 00036: val_loss improved from 0.24420 to 0.24410, saving model to models/model_best_v3.h5\n",
            "375/375 [==============================] - 2s 5ms/step - loss: 0.2531 - accuracy: 0.9290 - val_loss: 0.2441 - val_accuracy: 0.9312\n",
            "Epoch 37/100\n",
            "371/375 [============================>.] - ETA: 0s - loss: 0.2530 - accuracy: 0.9291\n",
            "Epoch 00037: val_loss improved from 0.24410 to 0.24400, saving model to models/model_best_v3.h5\n",
            "375/375 [==============================] - 2s 5ms/step - loss: 0.2530 - accuracy: 0.9291 - val_loss: 0.2440 - val_accuracy: 0.9312\n",
            "Epoch 38/100\n",
            "364/375 [============================>.] - ETA: 0s - loss: 0.2526 - accuracy: 0.9292\n",
            "Epoch 00038: val_loss improved from 0.24400 to 0.24389, saving model to models/model_best_v3.h5\n",
            "375/375 [==============================] - 2s 5ms/step - loss: 0.2529 - accuracy: 0.9292 - val_loss: 0.2439 - val_accuracy: 0.9314\n",
            "Epoch 39/100\n",
            "372/375 [============================>.] - ETA: 0s - loss: 0.2526 - accuracy: 0.9293\n",
            "Epoch 00039: val_loss improved from 0.24389 to 0.24379, saving model to models/model_best_v3.h5\n",
            "375/375 [==============================] - 2s 5ms/step - loss: 0.2528 - accuracy: 0.9293 - val_loss: 0.2438 - val_accuracy: 0.9315\n",
            "Epoch 40/100\n",
            "367/375 [============================>.] - ETA: 0s - loss: 0.2525 - accuracy: 0.9292\n",
            "Epoch 00040: val_loss improved from 0.24379 to 0.24369, saving model to models/model_best_v3.h5\n",
            "375/375 [==============================] - 2s 5ms/step - loss: 0.2527 - accuracy: 0.9293 - val_loss: 0.2437 - val_accuracy: 0.9315\n",
            "Epoch 41/100\n",
            "371/375 [============================>.] - ETA: 0s - loss: 0.2528 - accuracy: 0.9293\n",
            "Epoch 00041: val_loss improved from 0.24369 to 0.24359, saving model to models/model_best_v3.h5\n",
            "375/375 [==============================] - 2s 5ms/step - loss: 0.2525 - accuracy: 0.9293 - val_loss: 0.2436 - val_accuracy: 0.9315\n",
            "Epoch 42/100\n",
            "374/375 [============================>.] - ETA: 0s - loss: 0.2525 - accuracy: 0.9292\n",
            "Epoch 00042: val_loss improved from 0.24359 to 0.24349, saving model to models/model_best_v3.h5\n",
            "375/375 [==============================] - 2s 5ms/step - loss: 0.2524 - accuracy: 0.9293 - val_loss: 0.2435 - val_accuracy: 0.9315\n",
            "Epoch 43/100\n",
            "371/375 [============================>.] - ETA: 0s - loss: 0.2523 - accuracy: 0.9293\n",
            "Epoch 00043: val_loss improved from 0.24349 to 0.24339, saving model to models/model_best_v3.h5\n",
            "375/375 [==============================] - 2s 5ms/step - loss: 0.2523 - accuracy: 0.9294 - val_loss: 0.2434 - val_accuracy: 0.9316\n",
            "Epoch 44/100\n",
            "371/375 [============================>.] - ETA: 0s - loss: 0.2524 - accuracy: 0.9294\n",
            "Epoch 00044: val_loss improved from 0.24339 to 0.24330, saving model to models/model_best_v3.h5\n",
            "375/375 [==============================] - 2s 5ms/step - loss: 0.2522 - accuracy: 0.9294 - val_loss: 0.2433 - val_accuracy: 0.9316\n",
            "Epoch 45/100\n",
            "365/375 [============================>.] - ETA: 0s - loss: 0.2518 - accuracy: 0.9293\n",
            "Epoch 00045: val_loss improved from 0.24330 to 0.24320, saving model to models/model_best_v3.h5\n",
            "375/375 [==============================] - 2s 5ms/step - loss: 0.2521 - accuracy: 0.9294 - val_loss: 0.2432 - val_accuracy: 0.9316\n",
            "Epoch 46/100\n",
            "371/375 [============================>.] - ETA: 0s - loss: 0.2512 - accuracy: 0.9297\n",
            "Epoch 00046: val_loss improved from 0.24320 to 0.24310, saving model to models/model_best_v3.h5\n",
            "375/375 [==============================] - 2s 5ms/step - loss: 0.2519 - accuracy: 0.9294 - val_loss: 0.2431 - val_accuracy: 0.9315\n",
            "Epoch 47/100\n",
            "370/375 [============================>.] - ETA: 0s - loss: 0.2516 - accuracy: 0.9295\n",
            "Epoch 00047: val_loss improved from 0.24310 to 0.24300, saving model to models/model_best_v3.h5\n",
            "375/375 [==============================] - 2s 5ms/step - loss: 0.2518 - accuracy: 0.9295 - val_loss: 0.2430 - val_accuracy: 0.9316\n",
            "Epoch 48/100\n",
            "374/375 [============================>.] - ETA: 0s - loss: 0.2519 - accuracy: 0.9295\n",
            "Epoch 00048: val_loss improved from 0.24300 to 0.24290, saving model to models/model_best_v3.h5\n",
            "375/375 [==============================] - 2s 5ms/step - loss: 0.2517 - accuracy: 0.9295 - val_loss: 0.2429 - val_accuracy: 0.9317\n",
            "Epoch 49/100\n",
            "364/375 [============================>.] - ETA: 0s - loss: 0.2522 - accuracy: 0.9296\n",
            "Epoch 00049: val_loss improved from 0.24290 to 0.24280, saving model to models/model_best_v3.h5\n",
            "375/375 [==============================] - 2s 5ms/step - loss: 0.2516 - accuracy: 0.9296 - val_loss: 0.2428 - val_accuracy: 0.9316\n",
            "Epoch 50/100\n",
            "374/375 [============================>.] - ETA: 0s - loss: 0.2514 - accuracy: 0.9294\n",
            "Epoch 00050: val_loss improved from 0.24280 to 0.24270, saving model to models/model_best_v3.h5\n",
            "375/375 [==============================] - 2s 5ms/step - loss: 0.2515 - accuracy: 0.9295 - val_loss: 0.2427 - val_accuracy: 0.9317\n",
            "Epoch 51/100\n",
            "370/375 [============================>.] - ETA: 0s - loss: 0.2510 - accuracy: 0.9297\n",
            "Epoch 00051: val_loss improved from 0.24270 to 0.24261, saving model to models/model_best_v3.h5\n",
            "375/375 [==============================] - 2s 5ms/step - loss: 0.2514 - accuracy: 0.9296 - val_loss: 0.2426 - val_accuracy: 0.9317\n",
            "Epoch 52/100\n",
            "372/375 [============================>.] - ETA: 0s - loss: 0.2512 - accuracy: 0.9297\n",
            "Epoch 00052: val_loss improved from 0.24261 to 0.24251, saving model to models/model_best_v3.h5\n",
            "375/375 [==============================] - 2s 5ms/step - loss: 0.2512 - accuracy: 0.9297 - val_loss: 0.2425 - val_accuracy: 0.9317\n",
            "Epoch 53/100\n",
            "371/375 [============================>.] - ETA: 0s - loss: 0.2513 - accuracy: 0.9298\n",
            "Epoch 00053: val_loss improved from 0.24251 to 0.24241, saving model to models/model_best_v3.h5\n",
            "375/375 [==============================] - 2s 5ms/step - loss: 0.2511 - accuracy: 0.9297 - val_loss: 0.2424 - val_accuracy: 0.9318\n",
            "Epoch 54/100\n",
            "365/375 [============================>.] - ETA: 0s - loss: 0.2517 - accuracy: 0.9295\n",
            "Epoch 00054: val_loss improved from 0.24241 to 0.24231, saving model to models/model_best_v3.h5\n",
            "375/375 [==============================] - 2s 5ms/step - loss: 0.2510 - accuracy: 0.9296 - val_loss: 0.2423 - val_accuracy: 0.9319\n",
            "Epoch 55/100\n",
            "364/375 [============================>.] - ETA: 0s - loss: 0.2514 - accuracy: 0.9299\n",
            "Epoch 00055: val_loss improved from 0.24231 to 0.24221, saving model to models/model_best_v3.h5\n",
            "375/375 [==============================] - 2s 5ms/step - loss: 0.2509 - accuracy: 0.9299 - val_loss: 0.2422 - val_accuracy: 0.9319\n",
            "Epoch 56/100\n",
            "368/375 [============================>.] - ETA: 0s - loss: 0.2511 - accuracy: 0.9296\n",
            "Epoch 00056: val_loss improved from 0.24221 to 0.24212, saving model to models/model_best_v3.h5\n",
            "375/375 [==============================] - 2s 5ms/step - loss: 0.2508 - accuracy: 0.9297 - val_loss: 0.2421 - val_accuracy: 0.9319\n",
            "Epoch 57/100\n",
            "365/375 [============================>.] - ETA: 0s - loss: 0.2501 - accuracy: 0.9301\n",
            "Epoch 00057: val_loss improved from 0.24212 to 0.24202, saving model to models/model_best_v3.h5\n",
            "375/375 [==============================] - 2s 5ms/step - loss: 0.2507 - accuracy: 0.9298 - val_loss: 0.2420 - val_accuracy: 0.9319\n",
            "Epoch 58/100\n",
            "372/375 [============================>.] - ETA: 0s - loss: 0.2506 - accuracy: 0.9299\n",
            "Epoch 00058: val_loss improved from 0.24202 to 0.24192, saving model to models/model_best_v3.h5\n",
            "375/375 [==============================] - 2s 5ms/step - loss: 0.2505 - accuracy: 0.9299 - val_loss: 0.2419 - val_accuracy: 0.9319\n",
            "Epoch 59/100\n",
            "374/375 [============================>.] - ETA: 0s - loss: 0.2508 - accuracy: 0.9296\n",
            "Epoch 00059: val_loss improved from 0.24192 to 0.24183, saving model to models/model_best_v3.h5\n",
            "375/375 [==============================] - 2s 5ms/step - loss: 0.2504 - accuracy: 0.9298 - val_loss: 0.2418 - val_accuracy: 0.9317\n",
            "Epoch 60/100\n",
            "364/375 [============================>.] - ETA: 0s - loss: 0.2501 - accuracy: 0.9301\n",
            "Epoch 00060: val_loss improved from 0.24183 to 0.24173, saving model to models/model_best_v3.h5\n",
            "375/375 [==============================] - 2s 5ms/step - loss: 0.2503 - accuracy: 0.9299 - val_loss: 0.2417 - val_accuracy: 0.9319\n",
            "Epoch 61/100\n",
            "370/375 [============================>.] - ETA: 0s - loss: 0.2506 - accuracy: 0.9298\n",
            "Epoch 00061: val_loss improved from 0.24173 to 0.24163, saving model to models/model_best_v3.h5\n",
            "375/375 [==============================] - 2s 5ms/step - loss: 0.2502 - accuracy: 0.9299 - val_loss: 0.2416 - val_accuracy: 0.9319\n",
            "Epoch 62/100\n",
            "374/375 [============================>.] - ETA: 0s - loss: 0.2501 - accuracy: 0.9299\n",
            "Epoch 00062: val_loss improved from 0.24163 to 0.24153, saving model to models/model_best_v3.h5\n",
            "375/375 [==============================] - 2s 5ms/step - loss: 0.2501 - accuracy: 0.9300 - val_loss: 0.2415 - val_accuracy: 0.9319\n",
            "Epoch 63/100\n",
            "371/375 [============================>.] - ETA: 0s - loss: 0.2501 - accuracy: 0.9300\n",
            "Epoch 00063: val_loss improved from 0.24153 to 0.24144, saving model to models/model_best_v3.h5\n",
            "375/375 [==============================] - 2s 5ms/step - loss: 0.2500 - accuracy: 0.9300 - val_loss: 0.2414 - val_accuracy: 0.9319\n",
            "Epoch 64/100\n",
            "366/375 [============================>.] - ETA: 0s - loss: 0.2507 - accuracy: 0.9298\n",
            "Epoch 00064: val_loss improved from 0.24144 to 0.24134, saving model to models/model_best_v3.h5\n",
            "375/375 [==============================] - 2s 5ms/step - loss: 0.2499 - accuracy: 0.9299 - val_loss: 0.2413 - val_accuracy: 0.9319\n",
            "Epoch 65/100\n",
            "367/375 [============================>.] - ETA: 0s - loss: 0.2499 - accuracy: 0.9302\n",
            "Epoch 00065: val_loss improved from 0.24134 to 0.24124, saving model to models/model_best_v3.h5\n",
            "375/375 [==============================] - 2s 5ms/step - loss: 0.2497 - accuracy: 0.9301 - val_loss: 0.2412 - val_accuracy: 0.9319\n",
            "Epoch 66/100\n",
            "364/375 [============================>.] - ETA: 0s - loss: 0.2498 - accuracy: 0.9302\n",
            "Epoch 00066: val_loss improved from 0.24124 to 0.24114, saving model to models/model_best_v3.h5\n",
            "375/375 [==============================] - 2s 5ms/step - loss: 0.2496 - accuracy: 0.9301 - val_loss: 0.2411 - val_accuracy: 0.9319\n",
            "Epoch 67/100\n",
            "367/375 [============================>.] - ETA: 0s - loss: 0.2499 - accuracy: 0.9299\n",
            "Epoch 00067: val_loss improved from 0.24114 to 0.24105, saving model to models/model_best_v3.h5\n",
            "375/375 [==============================] - 2s 5ms/step - loss: 0.2495 - accuracy: 0.9301 - val_loss: 0.2411 - val_accuracy: 0.9319\n",
            "Epoch 68/100\n",
            "369/375 [============================>.] - ETA: 0s - loss: 0.2488 - accuracy: 0.9303\n",
            "Epoch 00068: val_loss improved from 0.24105 to 0.24095, saving model to models/model_best_v3.h5\n",
            "375/375 [==============================] - 2s 5ms/step - loss: 0.2494 - accuracy: 0.9301 - val_loss: 0.2410 - val_accuracy: 0.9319\n",
            "Epoch 69/100\n",
            "368/375 [============================>.] - ETA: 0s - loss: 0.2493 - accuracy: 0.9302\n",
            "Epoch 00069: val_loss improved from 0.24095 to 0.24086, saving model to models/model_best_v3.h5\n",
            "375/375 [==============================] - 2s 5ms/step - loss: 0.2493 - accuracy: 0.9302 - val_loss: 0.2409 - val_accuracy: 0.9320\n",
            "Epoch 70/100\n",
            "370/375 [============================>.] - ETA: 0s - loss: 0.2494 - accuracy: 0.9301\n",
            "Epoch 00070: val_loss improved from 0.24086 to 0.24076, saving model to models/model_best_v3.h5\n",
            "375/375 [==============================] - 2s 5ms/step - loss: 0.2492 - accuracy: 0.9301 - val_loss: 0.2408 - val_accuracy: 0.9319\n",
            "Epoch 71/100\n",
            "368/375 [============================>.] - ETA: 0s - loss: 0.2490 - accuracy: 0.9302\n",
            "Epoch 00071: val_loss improved from 0.24076 to 0.24067, saving model to models/model_best_v3.h5\n",
            "375/375 [==============================] - 2s 5ms/step - loss: 0.2491 - accuracy: 0.9302 - val_loss: 0.2407 - val_accuracy: 0.9319\n",
            "Epoch 72/100\n",
            "366/375 [============================>.] - ETA: 0s - loss: 0.2487 - accuracy: 0.9303\n",
            "Epoch 00072: val_loss improved from 0.24067 to 0.24057, saving model to models/model_best_v3.h5\n",
            "375/375 [==============================] - 2s 5ms/step - loss: 0.2489 - accuracy: 0.9303 - val_loss: 0.2406 - val_accuracy: 0.9321\n",
            "Epoch 73/100\n",
            "365/375 [============================>.] - ETA: 0s - loss: 0.2488 - accuracy: 0.9303\n",
            "Epoch 00073: val_loss improved from 0.24057 to 0.24048, saving model to models/model_best_v3.h5\n",
            "375/375 [==============================] - 2s 5ms/step - loss: 0.2488 - accuracy: 0.9302 - val_loss: 0.2405 - val_accuracy: 0.9320\n",
            "Epoch 74/100\n",
            "371/375 [============================>.] - ETA: 0s - loss: 0.2490 - accuracy: 0.9303\n",
            "Epoch 00074: val_loss improved from 0.24048 to 0.24038, saving model to models/model_best_v3.h5\n",
            "375/375 [==============================] - 2s 5ms/step - loss: 0.2487 - accuracy: 0.9304 - val_loss: 0.2404 - val_accuracy: 0.9321\n",
            "Epoch 75/100\n",
            "366/375 [============================>.] - ETA: 0s - loss: 0.2478 - accuracy: 0.9307\n",
            "Epoch 00075: val_loss improved from 0.24038 to 0.24028, saving model to models/model_best_v3.h5\n",
            "375/375 [==============================] - 2s 5ms/step - loss: 0.2486 - accuracy: 0.9304 - val_loss: 0.2403 - val_accuracy: 0.9321\n",
            "Epoch 76/100\n",
            "372/375 [============================>.] - ETA: 0s - loss: 0.2481 - accuracy: 0.9305\n",
            "Epoch 00076: val_loss improved from 0.24028 to 0.24019, saving model to models/model_best_v3.h5\n",
            "375/375 [==============================] - 2s 5ms/step - loss: 0.2485 - accuracy: 0.9304 - val_loss: 0.2402 - val_accuracy: 0.9321\n",
            "Epoch 77/100\n",
            "374/375 [============================>.] - ETA: 0s - loss: 0.2485 - accuracy: 0.9304\n",
            "Epoch 00077: val_loss improved from 0.24019 to 0.24009, saving model to models/model_best_v3.h5\n",
            "375/375 [==============================] - 2s 5ms/step - loss: 0.2484 - accuracy: 0.9304 - val_loss: 0.2401 - val_accuracy: 0.9323\n",
            "Epoch 78/100\n",
            "365/375 [============================>.] - ETA: 0s - loss: 0.2488 - accuracy: 0.9301\n",
            "Epoch 00078: val_loss improved from 0.24009 to 0.23999, saving model to models/model_best_v3.h5\n",
            "375/375 [==============================] - 2s 5ms/step - loss: 0.2483 - accuracy: 0.9304 - val_loss: 0.2400 - val_accuracy: 0.9324\n",
            "Epoch 79/100\n",
            "372/375 [============================>.] - ETA: 0s - loss: 0.2481 - accuracy: 0.9305\n",
            "Epoch 00079: val_loss improved from 0.23999 to 0.23990, saving model to models/model_best_v3.h5\n",
            "375/375 [==============================] - 2s 5ms/step - loss: 0.2481 - accuracy: 0.9305 - val_loss: 0.2399 - val_accuracy: 0.9324\n",
            "Epoch 80/100\n",
            "371/375 [============================>.] - ETA: 0s - loss: 0.2483 - accuracy: 0.9306\n",
            "Epoch 00080: val_loss improved from 0.23990 to 0.23980, saving model to models/model_best_v3.h5\n",
            "375/375 [==============================] - 2s 5ms/step - loss: 0.2480 - accuracy: 0.9305 - val_loss: 0.2398 - val_accuracy: 0.9325\n",
            "Epoch 81/100\n",
            "373/375 [============================>.] - ETA: 0s - loss: 0.2479 - accuracy: 0.9306\n",
            "Epoch 00081: val_loss improved from 0.23980 to 0.23971, saving model to models/model_best_v3.h5\n",
            "375/375 [==============================] - 2s 5ms/step - loss: 0.2479 - accuracy: 0.9306 - val_loss: 0.2397 - val_accuracy: 0.9326\n",
            "Epoch 82/100\n",
            "374/375 [============================>.] - ETA: 0s - loss: 0.2480 - accuracy: 0.9305\n",
            "Epoch 00082: val_loss improved from 0.23971 to 0.23962, saving model to models/model_best_v3.h5\n",
            "375/375 [==============================] - 2s 5ms/step - loss: 0.2478 - accuracy: 0.9305 - val_loss: 0.2396 - val_accuracy: 0.9324\n",
            "Epoch 83/100\n",
            "367/375 [============================>.] - ETA: 0s - loss: 0.2482 - accuracy: 0.9302\n",
            "Epoch 00083: val_loss improved from 0.23962 to 0.23952, saving model to models/model_best_v3.h5\n",
            "375/375 [==============================] - 2s 5ms/step - loss: 0.2477 - accuracy: 0.9305 - val_loss: 0.2395 - val_accuracy: 0.9326\n",
            "Epoch 84/100\n",
            "375/375 [==============================] - ETA: 0s - loss: 0.2476 - accuracy: 0.9304\n",
            "Epoch 00084: val_loss improved from 0.23952 to 0.23942, saving model to models/model_best_v3.h5\n",
            "375/375 [==============================] - 2s 5ms/step - loss: 0.2476 - accuracy: 0.9304 - val_loss: 0.2394 - val_accuracy: 0.9326\n",
            "Epoch 85/100\n",
            "367/375 [============================>.] - ETA: 0s - loss: 0.2466 - accuracy: 0.9307\n",
            "Epoch 00085: val_loss improved from 0.23942 to 0.23933, saving model to models/model_best_v3.h5\n",
            "375/375 [==============================] - 2s 5ms/step - loss: 0.2475 - accuracy: 0.9305 - val_loss: 0.2393 - val_accuracy: 0.9326\n",
            "Epoch 86/100\n",
            "373/375 [============================>.] - ETA: 0s - loss: 0.2476 - accuracy: 0.9307\n",
            "Epoch 00086: val_loss improved from 0.23933 to 0.23923, saving model to models/model_best_v3.h5\n",
            "375/375 [==============================] - 2s 5ms/step - loss: 0.2474 - accuracy: 0.9307 - val_loss: 0.2392 - val_accuracy: 0.9326\n",
            "Epoch 87/100\n",
            "367/375 [============================>.] - ETA: 0s - loss: 0.2471 - accuracy: 0.9307\n",
            "Epoch 00087: val_loss improved from 0.23923 to 0.23914, saving model to models/model_best_v3.h5\n",
            "375/375 [==============================] - 2s 5ms/step - loss: 0.2473 - accuracy: 0.9306 - val_loss: 0.2391 - val_accuracy: 0.9326\n",
            "Epoch 88/100\n",
            "365/375 [============================>.] - ETA: 0s - loss: 0.2461 - accuracy: 0.9311\n",
            "Epoch 00088: val_loss improved from 0.23914 to 0.23905, saving model to models/model_best_v3.h5\n",
            "375/375 [==============================] - 2s 5ms/step - loss: 0.2471 - accuracy: 0.9307 - val_loss: 0.2390 - val_accuracy: 0.9326\n",
            "Epoch 89/100\n",
            "372/375 [============================>.] - ETA: 0s - loss: 0.2466 - accuracy: 0.9309\n",
            "Epoch 00089: val_loss improved from 0.23905 to 0.23895, saving model to models/model_best_v3.h5\n",
            "375/375 [==============================] - 2s 5ms/step - loss: 0.2470 - accuracy: 0.9307 - val_loss: 0.2390 - val_accuracy: 0.9327\n",
            "Epoch 90/100\n",
            "369/375 [============================>.] - ETA: 0s - loss: 0.2471 - accuracy: 0.9307\n",
            "Epoch 00090: val_loss improved from 0.23895 to 0.23886, saving model to models/model_best_v3.h5\n",
            "375/375 [==============================] - 2s 5ms/step - loss: 0.2469 - accuracy: 0.9308 - val_loss: 0.2389 - val_accuracy: 0.9327\n",
            "Epoch 91/100\n",
            "375/375 [==============================] - ETA: 0s - loss: 0.2468 - accuracy: 0.9308\n",
            "Epoch 00091: val_loss improved from 0.23886 to 0.23876, saving model to models/model_best_v3.h5\n",
            "375/375 [==============================] - 2s 5ms/step - loss: 0.2468 - accuracy: 0.9308 - val_loss: 0.2388 - val_accuracy: 0.9327\n",
            "Epoch 92/100\n",
            "374/375 [============================>.] - ETA: 0s - loss: 0.2467 - accuracy: 0.9308\n",
            "Epoch 00092: val_loss improved from 0.23876 to 0.23867, saving model to models/model_best_v3.h5\n",
            "375/375 [==============================] - 2s 6ms/step - loss: 0.2467 - accuracy: 0.9308 - val_loss: 0.2387 - val_accuracy: 0.9327\n",
            "Epoch 93/100\n",
            "369/375 [============================>.] - ETA: 0s - loss: 0.2463 - accuracy: 0.9311\n",
            "Epoch 00093: val_loss improved from 0.23867 to 0.23858, saving model to models/model_best_v3.h5\n",
            "375/375 [==============================] - 2s 6ms/step - loss: 0.2466 - accuracy: 0.9309 - val_loss: 0.2386 - val_accuracy: 0.9327\n",
            "Epoch 94/100\n",
            "369/375 [============================>.] - ETA: 0s - loss: 0.2460 - accuracy: 0.9311\n",
            "Epoch 00094: val_loss improved from 0.23858 to 0.23849, saving model to models/model_best_v3.h5\n",
            "375/375 [==============================] - 2s 5ms/step - loss: 0.2465 - accuracy: 0.9309 - val_loss: 0.2385 - val_accuracy: 0.9327\n",
            "Epoch 95/100\n",
            "365/375 [============================>.] - ETA: 0s - loss: 0.2460 - accuracy: 0.9310\n",
            "Epoch 00095: val_loss improved from 0.23849 to 0.23839, saving model to models/model_best_v3.h5\n",
            "375/375 [==============================] - 2s 5ms/step - loss: 0.2464 - accuracy: 0.9309 - val_loss: 0.2384 - val_accuracy: 0.9328\n",
            "Epoch 96/100\n",
            "366/375 [============================>.] - ETA: 0s - loss: 0.2464 - accuracy: 0.9308\n",
            "Epoch 00096: val_loss improved from 0.23839 to 0.23830, saving model to models/model_best_v3.h5\n",
            "375/375 [==============================] - 2s 5ms/step - loss: 0.2462 - accuracy: 0.9310 - val_loss: 0.2383 - val_accuracy: 0.9328\n",
            "Epoch 97/100\n",
            "367/375 [============================>.] - ETA: 0s - loss: 0.2454 - accuracy: 0.9311\n",
            "Epoch 00097: val_loss improved from 0.23830 to 0.23820, saving model to models/model_best_v3.h5\n",
            "375/375 [==============================] - 2s 5ms/step - loss: 0.2461 - accuracy: 0.9309 - val_loss: 0.2382 - val_accuracy: 0.9327\n",
            "Epoch 98/100\n",
            "365/375 [============================>.] - ETA: 0s - loss: 0.2455 - accuracy: 0.9312\n",
            "Epoch 00098: val_loss improved from 0.23820 to 0.23811, saving model to models/model_best_v3.h5\n",
            "375/375 [==============================] - 2s 5ms/step - loss: 0.2460 - accuracy: 0.9310 - val_loss: 0.2381 - val_accuracy: 0.9327\n",
            "Epoch 99/100\n",
            "367/375 [============================>.] - ETA: 0s - loss: 0.2457 - accuracy: 0.9312\n",
            "Epoch 00099: val_loss improved from 0.23811 to 0.23802, saving model to models/model_best_v3.h5\n",
            "375/375 [==============================] - 2s 5ms/step - loss: 0.2459 - accuracy: 0.9310 - val_loss: 0.2380 - val_accuracy: 0.9328\n",
            "Epoch 100/100\n",
            "371/375 [============================>.] - ETA: 0s - loss: 0.2460 - accuracy: 0.9310\n",
            "Epoch 00100: val_loss improved from 0.23802 to 0.23792, saving model to models/model_best_v3.h5\n",
            "375/375 [==============================] - 2s 6ms/step - loss: 0.2458 - accuracy: 0.9310 - val_loss: 0.2379 - val_accuracy: 0.9328\n"
          ],
          "name": "stdout"
        }
      ]
    },
    {
      "cell_type": "code",
      "metadata": {
        "id": "toSfnXFuGBqI",
        "colab_type": "code",
        "colab": {
          "base_uri": "https://localhost:8080/",
          "height": 297
        },
        "outputId": "92f2cf09-9f96-4995-bc0e-e2cfd9003739"
      },
      "source": [
        "plot_history(history4_3)"
      ],
      "execution_count": 79,
      "outputs": [
        {
          "output_type": "display_data",
          "data": {
            "image/png": "[encoded data removed]",
            "text/plain": [
              "<Figure size 720x288 with 2 Axes>"
            ]
          },
          "metadata": {
            "tags": []
          }
        }
      ]
    },
    {
      "cell_type": "markdown",
      "metadata": {
        "id": "2sdXKdTgBCyv",
        "colab_type": "text"
      },
      "source": [
        "### **Exercise 1 - Add More Hidden layers**\n",
        "\n",
        "1. Design a new neural network from scratch but this time, try 4 hidden layers of 256 nodes each, train for 50 epochs and share the result\n",
        "2. In the above neural network, double the number of nodes in each layer to 512, train and compare the results and share your insights"
      ]
    },
    {
      "cell_type": "markdown",
      "metadata": {
        "id": "dKhMXqPCCTDi",
        "colab_type": "text"
      },
      "source": [
        "### **Exercise 2 - Try different optimizers and learning rates**\n",
        "For example, try the SGD and ADAM optimizers with learning rates such as 0.1, 0.01, 0.005, 0.001, etc. Share your understanding of how these parameters affect the overall performance\n",
        "\n",
        "> Also try using other optimizer parameters such as **momentum** while you are at it "
      ]
    },
    {
      "cell_type": "markdown",
      "metadata": {
        "id": "OZIqDxCnfluU",
        "colab_type": "text"
      },
      "source": [
        "### **Bonus Exercises:**\n",
        "\n",
        "Exercise 3- Play around with the architecture and hyperparameters and come up with the best possible performance\n",
        "\n",
        "Exercise 4 - Check out the Dropout and BatchNormalization layers and see how you can use them to deal with overfitting and improve accuracy"
      ]
    },
    {
      "cell_type": "code",
      "metadata": {
        "id": "PYPk1Iu2J5vM",
        "colab_type": "code",
        "colab": {}
      },
      "source": [
        ""
      ],
      "execution_count": 79,
      "outputs": []
    }
  ]
}